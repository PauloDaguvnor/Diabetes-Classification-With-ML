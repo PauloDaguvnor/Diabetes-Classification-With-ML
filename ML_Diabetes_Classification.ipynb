{
  "nbformat": 4,
  "nbformat_minor": 0,
  "metadata": {
    "colab": {
      "provenance": [],
      "include_colab_link": true
    },
    "kernelspec": {
      "name": "python3",
      "display_name": "Python 3"
    },
    "language_info": {
      "name": "python"
    }
  },
  "cells": [
    {
      "cell_type": "markdown",
      "metadata": {
        "id": "view-in-github",
        "colab_type": "text"
      },
      "source": [
        "<a href=\"https://colab.research.google.com/github/PauloDaguvnor/Diabetes-Classification-With-ML/blob/main/ML_Diabetes_Classification.ipynb\" target=\"_parent\"><img src=\"https://colab.research.google.com/assets/colab-badge.svg\" alt=\"Open In Colab\"/></a>"
      ]
    },
    {
      "cell_type": "code",
      "execution_count": 1,
      "metadata": {
        "id": "batywuvyOsh5"
      },
      "outputs": [],
      "source": [
        "# scipy\n",
        "import scipy\n",
        "# numpy\n",
        "import numpy as np\n",
        "# matplotlib\n",
        "import matplotlib\n",
        "# pandas\n",
        "import pandas\n",
        "# statsmodels\n",
        "import statsmodels\n",
        "# scikit-learn\n",
        "import sklearn"
      ]
    },
    {
      "cell_type": "code",
      "source": [
        "#Import And Read the Male Visceral Fat Dataset\n",
        "import pandas as pd\n",
        "vdata  = pd.read_csv('/content/sample_data/Raw_Males_VF_Dataset_Coursework1.csv')\n",
        "vdata.head(10)"
      ],
      "metadata": {
        "colab": {
          "base_uri": "https://localhost:8080/",
          "height": 383
        },
        "id": "P7xPIpCtQCGw",
        "outputId": "f08573db-60b5-4777-bf14-13b1faee92c7"
      },
      "execution_count": 3,
      "outputs": [
        {
          "output_type": "execute_result",
          "data": {
            "text/plain": [
              "  SUBJECT_ID SEX  AGE_years  BMI   HEIGHT_cm  WEIGHT_kg  \\\n",
              "0      B0011   M         47    46      187.0     152.24   \n",
              "1      B0012   M         52    54      182.0     167.36   \n",
              "2      B0013   M         62    28      175.0      82.92   \n",
              "3      B0014   M         56    26        1.8      76.45   \n",
              "4      B0015   M         48    25        1.7      65.36   \n",
              "5      B0016   M         70    27      180.0      76.57   \n",
              "6      B0017   M         65    21      189.0      63.37   \n",
              "7      B0018   M         54    24      192.0      81.79   \n",
              "8      B0019   M         49    23      189.0      74.41   \n",
              "9      B0020   M         57    26      188.0      84.00   \n",
              "\n",
              "   WAIST_CIRCUMFERENCE_cm  DIASTOLIC_BLOOD_PRESSURE_mmHg  \\\n",
              "0                     154                            133   \n",
              "1                     139                            111   \n",
              "2                      93                            118   \n",
              "3                      85                             91   \n",
              "4                      84                             76   \n",
              "5                      95                             83   \n",
              "6                      76                             93   \n",
              "7                      87                             81   \n",
              "8                      80                             95   \n",
              "9                      91                             82   \n",
              "\n",
              "   SYSTOLIC_BLOOD_PRESSURE_mmHg  WALK_DURATION_PER_DAY_MINUTES  \\\n",
              "0                         178.0                             52   \n",
              "1                         187.0                             50   \n",
              "2                         160.0                             58   \n",
              "3                         139.0                            151   \n",
              "4                          98.0                            257   \n",
              "5                         127.0                             68   \n",
              "6                         123.0                             85   \n",
              "7                         123.0                             38   \n",
              "8                         136.0                             44   \n",
              "9                         109.0                             61   \n",
              "\n",
              "   COMPUTER_USE_TIME_PER_DAY_HOURS  SMOKING_STATUS  DISCONTINUED_NO_  \\\n",
              "0                                7              0.0             XNBH   \n",
              "1                                3              0.0              NaN   \n",
              "2                                6              0.0              NaN   \n",
              "3                                2              0.0              NaN   \n",
              "4                                6              0.0              NaN   \n",
              "5                                5              0.0              NaN   \n",
              "6                                3              0.0              NaN   \n",
              "7                               10              0.0              NaN   \n",
              "8                                3              0.0              NaN   \n",
              "9                                0              0.0              NaN   \n",
              "\n",
              "   CIGARETTES_CONSUMED_PER_DAY  Visceral_Fat_Volume_Litres  \n",
              "0                          NaN                       -0.76  \n",
              "1                          NaN                       -0.59  \n",
              "2                          NaN                        0.59  \n",
              "3                          NaN                        0.50  \n",
              "4                          NaN                        0.39  \n",
              "5                          NaN                        0.27  \n",
              "6                          NaN                        0.24  \n",
              "7                          NaN                        0.23  \n",
              "8                          NaN                        0.22  \n",
              "9                          NaN                        0.18  "
            ],
            "text/html": [
              "\n",
              "  <div id=\"df-7135aa27-2358-4eb0-86b8-bff10f1619ad\" class=\"colab-df-container\">\n",
              "    <div>\n",
              "<style scoped>\n",
              "    .dataframe tbody tr th:only-of-type {\n",
              "        vertical-align: middle;\n",
              "    }\n",
              "\n",
              "    .dataframe tbody tr th {\n",
              "        vertical-align: top;\n",
              "    }\n",
              "\n",
              "    .dataframe thead th {\n",
              "        text-align: right;\n",
              "    }\n",
              "</style>\n",
              "<table border=\"1\" class=\"dataframe\">\n",
              "  <thead>\n",
              "    <tr style=\"text-align: right;\">\n",
              "      <th></th>\n",
              "      <th>SUBJECT_ID</th>\n",
              "      <th>SEX</th>\n",
              "      <th>AGE_years</th>\n",
              "      <th>BMI</th>\n",
              "      <th>HEIGHT_cm</th>\n",
              "      <th>WEIGHT_kg</th>\n",
              "      <th>WAIST_CIRCUMFERENCE_cm</th>\n",
              "      <th>DIASTOLIC_BLOOD_PRESSURE_mmHg</th>\n",
              "      <th>SYSTOLIC_BLOOD_PRESSURE_mmHg</th>\n",
              "      <th>WALK_DURATION_PER_DAY_MINUTES</th>\n",
              "      <th>COMPUTER_USE_TIME_PER_DAY_HOURS</th>\n",
              "      <th>SMOKING_STATUS</th>\n",
              "      <th>DISCONTINUED_NO_</th>\n",
              "      <th>CIGARETTES_CONSUMED_PER_DAY</th>\n",
              "      <th>Visceral_Fat_Volume_Litres</th>\n",
              "    </tr>\n",
              "  </thead>\n",
              "  <tbody>\n",
              "    <tr>\n",
              "      <th>0</th>\n",
              "      <td>B0011</td>\n",
              "      <td>M</td>\n",
              "      <td>47</td>\n",
              "      <td>46</td>\n",
              "      <td>187.0</td>\n",
              "      <td>152.24</td>\n",
              "      <td>154</td>\n",
              "      <td>133</td>\n",
              "      <td>178.0</td>\n",
              "      <td>52</td>\n",
              "      <td>7</td>\n",
              "      <td>0.0</td>\n",
              "      <td>XNBH</td>\n",
              "      <td>NaN</td>\n",
              "      <td>-0.76</td>\n",
              "    </tr>\n",
              "    <tr>\n",
              "      <th>1</th>\n",
              "      <td>B0012</td>\n",
              "      <td>M</td>\n",
              "      <td>52</td>\n",
              "      <td>54</td>\n",
              "      <td>182.0</td>\n",
              "      <td>167.36</td>\n",
              "      <td>139</td>\n",
              "      <td>111</td>\n",
              "      <td>187.0</td>\n",
              "      <td>50</td>\n",
              "      <td>3</td>\n",
              "      <td>0.0</td>\n",
              "      <td>NaN</td>\n",
              "      <td>NaN</td>\n",
              "      <td>-0.59</td>\n",
              "    </tr>\n",
              "    <tr>\n",
              "      <th>2</th>\n",
              "      <td>B0013</td>\n",
              "      <td>M</td>\n",
              "      <td>62</td>\n",
              "      <td>28</td>\n",
              "      <td>175.0</td>\n",
              "      <td>82.92</td>\n",
              "      <td>93</td>\n",
              "      <td>118</td>\n",
              "      <td>160.0</td>\n",
              "      <td>58</td>\n",
              "      <td>6</td>\n",
              "      <td>0.0</td>\n",
              "      <td>NaN</td>\n",
              "      <td>NaN</td>\n",
              "      <td>0.59</td>\n",
              "    </tr>\n",
              "    <tr>\n",
              "      <th>3</th>\n",
              "      <td>B0014</td>\n",
              "      <td>M</td>\n",
              "      <td>56</td>\n",
              "      <td>26</td>\n",
              "      <td>1.8</td>\n",
              "      <td>76.45</td>\n",
              "      <td>85</td>\n",
              "      <td>91</td>\n",
              "      <td>139.0</td>\n",
              "      <td>151</td>\n",
              "      <td>2</td>\n",
              "      <td>0.0</td>\n",
              "      <td>NaN</td>\n",
              "      <td>NaN</td>\n",
              "      <td>0.50</td>\n",
              "    </tr>\n",
              "    <tr>\n",
              "      <th>4</th>\n",
              "      <td>B0015</td>\n",
              "      <td>M</td>\n",
              "      <td>48</td>\n",
              "      <td>25</td>\n",
              "      <td>1.7</td>\n",
              "      <td>65.36</td>\n",
              "      <td>84</td>\n",
              "      <td>76</td>\n",
              "      <td>98.0</td>\n",
              "      <td>257</td>\n",
              "      <td>6</td>\n",
              "      <td>0.0</td>\n",
              "      <td>NaN</td>\n",
              "      <td>NaN</td>\n",
              "      <td>0.39</td>\n",
              "    </tr>\n",
              "    <tr>\n",
              "      <th>5</th>\n",
              "      <td>B0016</td>\n",
              "      <td>M</td>\n",
              "      <td>70</td>\n",
              "      <td>27</td>\n",
              "      <td>180.0</td>\n",
              "      <td>76.57</td>\n",
              "      <td>95</td>\n",
              "      <td>83</td>\n",
              "      <td>127.0</td>\n",
              "      <td>68</td>\n",
              "      <td>5</td>\n",
              "      <td>0.0</td>\n",
              "      <td>NaN</td>\n",
              "      <td>NaN</td>\n",
              "      <td>0.27</td>\n",
              "    </tr>\n",
              "    <tr>\n",
              "      <th>6</th>\n",
              "      <td>B0017</td>\n",
              "      <td>M</td>\n",
              "      <td>65</td>\n",
              "      <td>21</td>\n",
              "      <td>189.0</td>\n",
              "      <td>63.37</td>\n",
              "      <td>76</td>\n",
              "      <td>93</td>\n",
              "      <td>123.0</td>\n",
              "      <td>85</td>\n",
              "      <td>3</td>\n",
              "      <td>0.0</td>\n",
              "      <td>NaN</td>\n",
              "      <td>NaN</td>\n",
              "      <td>0.24</td>\n",
              "    </tr>\n",
              "    <tr>\n",
              "      <th>7</th>\n",
              "      <td>B0018</td>\n",
              "      <td>M</td>\n",
              "      <td>54</td>\n",
              "      <td>24</td>\n",
              "      <td>192.0</td>\n",
              "      <td>81.79</td>\n",
              "      <td>87</td>\n",
              "      <td>81</td>\n",
              "      <td>123.0</td>\n",
              "      <td>38</td>\n",
              "      <td>10</td>\n",
              "      <td>0.0</td>\n",
              "      <td>NaN</td>\n",
              "      <td>NaN</td>\n",
              "      <td>0.23</td>\n",
              "    </tr>\n",
              "    <tr>\n",
              "      <th>8</th>\n",
              "      <td>B0019</td>\n",
              "      <td>M</td>\n",
              "      <td>49</td>\n",
              "      <td>23</td>\n",
              "      <td>189.0</td>\n",
              "      <td>74.41</td>\n",
              "      <td>80</td>\n",
              "      <td>95</td>\n",
              "      <td>136.0</td>\n",
              "      <td>44</td>\n",
              "      <td>3</td>\n",
              "      <td>0.0</td>\n",
              "      <td>NaN</td>\n",
              "      <td>NaN</td>\n",
              "      <td>0.22</td>\n",
              "    </tr>\n",
              "    <tr>\n",
              "      <th>9</th>\n",
              "      <td>B0020</td>\n",
              "      <td>M</td>\n",
              "      <td>57</td>\n",
              "      <td>26</td>\n",
              "      <td>188.0</td>\n",
              "      <td>84.00</td>\n",
              "      <td>91</td>\n",
              "      <td>82</td>\n",
              "      <td>109.0</td>\n",
              "      <td>61</td>\n",
              "      <td>0</td>\n",
              "      <td>0.0</td>\n",
              "      <td>NaN</td>\n",
              "      <td>NaN</td>\n",
              "      <td>0.18</td>\n",
              "    </tr>\n",
              "  </tbody>\n",
              "</table>\n",
              "</div>\n",
              "    <div class=\"colab-df-buttons\">\n",
              "\n",
              "  <div class=\"colab-df-container\">\n",
              "    <button class=\"colab-df-convert\" onclick=\"convertToInteractive('df-7135aa27-2358-4eb0-86b8-bff10f1619ad')\"\n",
              "            title=\"Convert this dataframe to an interactive table.\"\n",
              "            style=\"display:none;\">\n",
              "\n",
              "  <svg xmlns=\"http://www.w3.org/2000/svg\" height=\"24px\" viewBox=\"0 -960 960 960\">\n",
              "    <path d=\"M120-120v-720h720v720H120Zm60-500h600v-160H180v160Zm220 220h160v-160H400v160Zm0 220h160v-160H400v160ZM180-400h160v-160H180v160Zm440 0h160v-160H620v160ZM180-180h160v-160H180v160Zm440 0h160v-160H620v160Z\"/>\n",
              "  </svg>\n",
              "    </button>\n",
              "\n",
              "  <style>\n",
              "    .colab-df-container {\n",
              "      display:flex;\n",
              "      gap: 12px;\n",
              "    }\n",
              "\n",
              "    .colab-df-convert {\n",
              "      background-color: #E8F0FE;\n",
              "      border: none;\n",
              "      border-radius: 50%;\n",
              "      cursor: pointer;\n",
              "      display: none;\n",
              "      fill: #1967D2;\n",
              "      height: 32px;\n",
              "      padding: 0 0 0 0;\n",
              "      width: 32px;\n",
              "    }\n",
              "\n",
              "    .colab-df-convert:hover {\n",
              "      background-color: #E2EBFA;\n",
              "      box-shadow: 0px 1px 2px rgba(60, 64, 67, 0.3), 0px 1px 3px 1px rgba(60, 64, 67, 0.15);\n",
              "      fill: #174EA6;\n",
              "    }\n",
              "\n",
              "    .colab-df-buttons div {\n",
              "      margin-bottom: 4px;\n",
              "    }\n",
              "\n",
              "    [theme=dark] .colab-df-convert {\n",
              "      background-color: #3B4455;\n",
              "      fill: #D2E3FC;\n",
              "    }\n",
              "\n",
              "    [theme=dark] .colab-df-convert:hover {\n",
              "      background-color: #434B5C;\n",
              "      box-shadow: 0px 1px 3px 1px rgba(0, 0, 0, 0.15);\n",
              "      filter: drop-shadow(0px 1px 2px rgba(0, 0, 0, 0.3));\n",
              "      fill: #FFFFFF;\n",
              "    }\n",
              "  </style>\n",
              "\n",
              "    <script>\n",
              "      const buttonEl =\n",
              "        document.querySelector('#df-7135aa27-2358-4eb0-86b8-bff10f1619ad button.colab-df-convert');\n",
              "      buttonEl.style.display =\n",
              "        google.colab.kernel.accessAllowed ? 'block' : 'none';\n",
              "\n",
              "      async function convertToInteractive(key) {\n",
              "        const element = document.querySelector('#df-7135aa27-2358-4eb0-86b8-bff10f1619ad');\n",
              "        const dataTable =\n",
              "          await google.colab.kernel.invokeFunction('convertToInteractive',\n",
              "                                                    [key], {});\n",
              "        if (!dataTable) return;\n",
              "\n",
              "        const docLinkHtml = 'Like what you see? Visit the ' +\n",
              "          '<a target=\"_blank\" href=https://colab.research.google.com/notebooks/data_table.ipynb>data table notebook</a>'\n",
              "          + ' to learn more about interactive tables.';\n",
              "        element.innerHTML = '';\n",
              "        dataTable['output_type'] = 'display_data';\n",
              "        await google.colab.output.renderOutput(dataTable, element);\n",
              "        const docLink = document.createElement('div');\n",
              "        docLink.innerHTML = docLinkHtml;\n",
              "        element.appendChild(docLink);\n",
              "      }\n",
              "    </script>\n",
              "  </div>\n",
              "\n",
              "\n",
              "<div id=\"df-1f354bf7-2188-480e-af59-d3247a629b9d\">\n",
              "  <button class=\"colab-df-quickchart\" onclick=\"quickchart('df-1f354bf7-2188-480e-af59-d3247a629b9d')\"\n",
              "            title=\"Suggest charts\"\n",
              "            style=\"display:none;\">\n",
              "\n",
              "<svg xmlns=\"http://www.w3.org/2000/svg\" height=\"24px\"viewBox=\"0 0 24 24\"\n",
              "     width=\"24px\">\n",
              "    <g>\n",
              "        <path d=\"M19 3H5c-1.1 0-2 .9-2 2v14c0 1.1.9 2 2 2h14c1.1 0 2-.9 2-2V5c0-1.1-.9-2-2-2zM9 17H7v-7h2v7zm4 0h-2V7h2v10zm4 0h-2v-4h2v4z\"/>\n",
              "    </g>\n",
              "</svg>\n",
              "  </button>\n",
              "\n",
              "<style>\n",
              "  .colab-df-quickchart {\n",
              "      --bg-color: #E8F0FE;\n",
              "      --fill-color: #1967D2;\n",
              "      --hover-bg-color: #E2EBFA;\n",
              "      --hover-fill-color: #174EA6;\n",
              "      --disabled-fill-color: #AAA;\n",
              "      --disabled-bg-color: #DDD;\n",
              "  }\n",
              "\n",
              "  [theme=dark] .colab-df-quickchart {\n",
              "      --bg-color: #3B4455;\n",
              "      --fill-color: #D2E3FC;\n",
              "      --hover-bg-color: #434B5C;\n",
              "      --hover-fill-color: #FFFFFF;\n",
              "      --disabled-bg-color: #3B4455;\n",
              "      --disabled-fill-color: #666;\n",
              "  }\n",
              "\n",
              "  .colab-df-quickchart {\n",
              "    background-color: var(--bg-color);\n",
              "    border: none;\n",
              "    border-radius: 50%;\n",
              "    cursor: pointer;\n",
              "    display: none;\n",
              "    fill: var(--fill-color);\n",
              "    height: 32px;\n",
              "    padding: 0;\n",
              "    width: 32px;\n",
              "  }\n",
              "\n",
              "  .colab-df-quickchart:hover {\n",
              "    background-color: var(--hover-bg-color);\n",
              "    box-shadow: 0 1px 2px rgba(60, 64, 67, 0.3), 0 1px 3px 1px rgba(60, 64, 67, 0.15);\n",
              "    fill: var(--button-hover-fill-color);\n",
              "  }\n",
              "\n",
              "  .colab-df-quickchart-complete:disabled,\n",
              "  .colab-df-quickchart-complete:disabled:hover {\n",
              "    background-color: var(--disabled-bg-color);\n",
              "    fill: var(--disabled-fill-color);\n",
              "    box-shadow: none;\n",
              "  }\n",
              "\n",
              "  .colab-df-spinner {\n",
              "    border: 2px solid var(--fill-color);\n",
              "    border-color: transparent;\n",
              "    border-bottom-color: var(--fill-color);\n",
              "    animation:\n",
              "      spin 1s steps(1) infinite;\n",
              "  }\n",
              "\n",
              "  @keyframes spin {\n",
              "    0% {\n",
              "      border-color: transparent;\n",
              "      border-bottom-color: var(--fill-color);\n",
              "      border-left-color: var(--fill-color);\n",
              "    }\n",
              "    20% {\n",
              "      border-color: transparent;\n",
              "      border-left-color: var(--fill-color);\n",
              "      border-top-color: var(--fill-color);\n",
              "    }\n",
              "    30% {\n",
              "      border-color: transparent;\n",
              "      border-left-color: var(--fill-color);\n",
              "      border-top-color: var(--fill-color);\n",
              "      border-right-color: var(--fill-color);\n",
              "    }\n",
              "    40% {\n",
              "      border-color: transparent;\n",
              "      border-right-color: var(--fill-color);\n",
              "      border-top-color: var(--fill-color);\n",
              "    }\n",
              "    60% {\n",
              "      border-color: transparent;\n",
              "      border-right-color: var(--fill-color);\n",
              "    }\n",
              "    80% {\n",
              "      border-color: transparent;\n",
              "      border-right-color: var(--fill-color);\n",
              "      border-bottom-color: var(--fill-color);\n",
              "    }\n",
              "    90% {\n",
              "      border-color: transparent;\n",
              "      border-bottom-color: var(--fill-color);\n",
              "    }\n",
              "  }\n",
              "</style>\n",
              "\n",
              "  <script>\n",
              "    async function quickchart(key) {\n",
              "      const quickchartButtonEl =\n",
              "        document.querySelector('#' + key + ' button');\n",
              "      quickchartButtonEl.disabled = true;  // To prevent multiple clicks.\n",
              "      quickchartButtonEl.classList.add('colab-df-spinner');\n",
              "      try {\n",
              "        const charts = await google.colab.kernel.invokeFunction(\n",
              "            'suggestCharts', [key], {});\n",
              "      } catch (error) {\n",
              "        console.error('Error during call to suggestCharts:', error);\n",
              "      }\n",
              "      quickchartButtonEl.classList.remove('colab-df-spinner');\n",
              "      quickchartButtonEl.classList.add('colab-df-quickchart-complete');\n",
              "    }\n",
              "    (() => {\n",
              "      let quickchartButtonEl =\n",
              "        document.querySelector('#df-1f354bf7-2188-480e-af59-d3247a629b9d button');\n",
              "      quickchartButtonEl.style.display =\n",
              "        google.colab.kernel.accessAllowed ? 'block' : 'none';\n",
              "    })();\n",
              "  </script>\n",
              "</div>\n",
              "    </div>\n",
              "  </div>\n"
            ]
          },
          "metadata": {},
          "execution_count": 3
        }
      ]
    },
    {
      "cell_type": "code",
      "source": [
        "#Find the sum of NULL values across the rows\n",
        "vdata.isna().sum()"
      ],
      "metadata": {
        "colab": {
          "base_uri": "https://localhost:8080/"
        },
        "id": "JUHWDGdCQUdw",
        "outputId": "7bff9177-da1e-4850-807a-ec89c1db9752"
      },
      "execution_count": 4,
      "outputs": [
        {
          "output_type": "execute_result",
          "data": {
            "text/plain": [
              "SUBJECT_ID                            0\n",
              "SEX                                   0\n",
              "AGE_years                             0\n",
              "BMI                                   0\n",
              "HEIGHT_cm                             0\n",
              "WEIGHT_kg                             0\n",
              "WAIST_CIRCUMFERENCE_cm                0\n",
              "DIASTOLIC_BLOOD_PRESSURE_mmHg         0\n",
              "SYSTOLIC_BLOOD_PRESSURE_mmHg          5\n",
              "WALK_DURATION_PER_DAY_MINUTES         0\n",
              "COMPUTER_USE_TIME_PER_DAY_HOURS       0\n",
              "SMOKING_STATUS                        2\n",
              "DISCONTINUED_NO_                   2862\n",
              "CIGARETTES_CONSUMED_PER_DAY        2735\n",
              "Visceral_Fat_Volume_Litres            0\n",
              "dtype: int64"
            ]
          },
          "metadata": {},
          "execution_count": 4
        }
      ]
    },
    {
      "cell_type": "code",
      "source": [
        "#Drop the DISCONTINUED_NO_','CIGARETTES_CONSUMED_PER_DAY and SEX columns\n",
        "df = vdata.drop(['DISCONTINUED_NO_','CIGARETTES_CONSUMED_PER_DAY','SEX'], axis=1)"
      ],
      "metadata": {
        "id": "Qmwsxs6IRe3u"
      },
      "execution_count": null,
      "outputs": []
    },
    {
      "cell_type": "code",
      "source": [
        "#view dataset\n",
        "df.head(10)"
      ],
      "metadata": {
        "colab": {
          "base_uri": "https://localhost:8080/",
          "height": 427
        },
        "id": "fMV0efekR3Ol",
        "outputId": "ad28ecc7-3a79-4849-bc63-9d8eb774d646"
      },
      "execution_count": null,
      "outputs": [
        {
          "output_type": "execute_result",
          "data": {
            "text/plain": [
              "  SUBJECT_ID  AGE_years  BMI   HEIGHT_cm  WEIGHT_kg  WAIST_CIRCUMFERENCE_cm  \\\n",
              "0      B0011         47    46      187.0     152.24                     154   \n",
              "1      B0012         52    54      182.0     167.36                     139   \n",
              "2      B0013         62    28      175.0      82.92                      93   \n",
              "3      B0014         56    26        1.8      76.45                      85   \n",
              "4      B0015         48    25        1.7      65.36                      84   \n",
              "5      B0016         70    27      180.0      76.57                      95   \n",
              "6      B0017         65    21      189.0      63.37                      76   \n",
              "7      B0018         54    24      192.0      81.79                      87   \n",
              "8      B0019         49    23      189.0      74.41                      80   \n",
              "9      B0020         57    26      188.0      84.00                      91   \n",
              "\n",
              "   DIASTOLIC_BLOOD_PRESSURE_mmHg  SYSTOLIC_BLOOD_PRESSURE_mmHg  \\\n",
              "0                            133                         178.0   \n",
              "1                            111                         187.0   \n",
              "2                            118                         160.0   \n",
              "3                             91                         139.0   \n",
              "4                             76                          98.0   \n",
              "5                             83                         127.0   \n",
              "6                             93                         123.0   \n",
              "7                             81                         123.0   \n",
              "8                             95                         136.0   \n",
              "9                             82                         109.0   \n",
              "\n",
              "   WALK_DURATION_PER_DAY_MINUTES  COMPUTER_USE_TIME_PER_DAY_HOURS  \\\n",
              "0                             52                                7   \n",
              "1                             50                                3   \n",
              "2                             58                                6   \n",
              "3                            151                                2   \n",
              "4                            257                                6   \n",
              "5                             68                                5   \n",
              "6                             85                                3   \n",
              "7                             38                               10   \n",
              "8                             44                                3   \n",
              "9                             61                                0   \n",
              "\n",
              "   SMOKING_STATUS   Visceral_Fat_Volume_Litres  \n",
              "0              0.0                       -0.76  \n",
              "1              0.0                       -0.59  \n",
              "2              0.0                        0.59  \n",
              "3              0.0                        0.50  \n",
              "4              0.0                        0.39  \n",
              "5              0.0                        0.27  \n",
              "6              0.0                        0.24  \n",
              "7              0.0                        0.23  \n",
              "8              0.0                        0.22  \n",
              "9              0.0                        0.18  "
            ],
            "text/html": [
              "\n",
              "  <div id=\"df-eb7fc29b-9d06-4025-ad98-fda38055ef06\">\n",
              "    <div class=\"colab-df-container\">\n",
              "      <div>\n",
              "<style scoped>\n",
              "    .dataframe tbody tr th:only-of-type {\n",
              "        vertical-align: middle;\n",
              "    }\n",
              "\n",
              "    .dataframe tbody tr th {\n",
              "        vertical-align: top;\n",
              "    }\n",
              "\n",
              "    .dataframe thead th {\n",
              "        text-align: right;\n",
              "    }\n",
              "</style>\n",
              "<table border=\"1\" class=\"dataframe\">\n",
              "  <thead>\n",
              "    <tr style=\"text-align: right;\">\n",
              "      <th></th>\n",
              "      <th>SUBJECT_ID</th>\n",
              "      <th>AGE_years</th>\n",
              "      <th>BMI</th>\n",
              "      <th>HEIGHT_cm</th>\n",
              "      <th>WEIGHT_kg</th>\n",
              "      <th>WAIST_CIRCUMFERENCE_cm</th>\n",
              "      <th>DIASTOLIC_BLOOD_PRESSURE_mmHg</th>\n",
              "      <th>SYSTOLIC_BLOOD_PRESSURE_mmHg</th>\n",
              "      <th>WALK_DURATION_PER_DAY_MINUTES</th>\n",
              "      <th>COMPUTER_USE_TIME_PER_DAY_HOURS</th>\n",
              "      <th>SMOKING_STATUS</th>\n",
              "      <th>Visceral_Fat_Volume_Litres</th>\n",
              "    </tr>\n",
              "  </thead>\n",
              "  <tbody>\n",
              "    <tr>\n",
              "      <th>0</th>\n",
              "      <td>B0011</td>\n",
              "      <td>47</td>\n",
              "      <td>46</td>\n",
              "      <td>187.0</td>\n",
              "      <td>152.24</td>\n",
              "      <td>154</td>\n",
              "      <td>133</td>\n",
              "      <td>178.0</td>\n",
              "      <td>52</td>\n",
              "      <td>7</td>\n",
              "      <td>0.0</td>\n",
              "      <td>-0.76</td>\n",
              "    </tr>\n",
              "    <tr>\n",
              "      <th>1</th>\n",
              "      <td>B0012</td>\n",
              "      <td>52</td>\n",
              "      <td>54</td>\n",
              "      <td>182.0</td>\n",
              "      <td>167.36</td>\n",
              "      <td>139</td>\n",
              "      <td>111</td>\n",
              "      <td>187.0</td>\n",
              "      <td>50</td>\n",
              "      <td>3</td>\n",
              "      <td>0.0</td>\n",
              "      <td>-0.59</td>\n",
              "    </tr>\n",
              "    <tr>\n",
              "      <th>2</th>\n",
              "      <td>B0013</td>\n",
              "      <td>62</td>\n",
              "      <td>28</td>\n",
              "      <td>175.0</td>\n",
              "      <td>82.92</td>\n",
              "      <td>93</td>\n",
              "      <td>118</td>\n",
              "      <td>160.0</td>\n",
              "      <td>58</td>\n",
              "      <td>6</td>\n",
              "      <td>0.0</td>\n",
              "      <td>0.59</td>\n",
              "    </tr>\n",
              "    <tr>\n",
              "      <th>3</th>\n",
              "      <td>B0014</td>\n",
              "      <td>56</td>\n",
              "      <td>26</td>\n",
              "      <td>1.8</td>\n",
              "      <td>76.45</td>\n",
              "      <td>85</td>\n",
              "      <td>91</td>\n",
              "      <td>139.0</td>\n",
              "      <td>151</td>\n",
              "      <td>2</td>\n",
              "      <td>0.0</td>\n",
              "      <td>0.50</td>\n",
              "    </tr>\n",
              "    <tr>\n",
              "      <th>4</th>\n",
              "      <td>B0015</td>\n",
              "      <td>48</td>\n",
              "      <td>25</td>\n",
              "      <td>1.7</td>\n",
              "      <td>65.36</td>\n",
              "      <td>84</td>\n",
              "      <td>76</td>\n",
              "      <td>98.0</td>\n",
              "      <td>257</td>\n",
              "      <td>6</td>\n",
              "      <td>0.0</td>\n",
              "      <td>0.39</td>\n",
              "    </tr>\n",
              "    <tr>\n",
              "      <th>5</th>\n",
              "      <td>B0016</td>\n",
              "      <td>70</td>\n",
              "      <td>27</td>\n",
              "      <td>180.0</td>\n",
              "      <td>76.57</td>\n",
              "      <td>95</td>\n",
              "      <td>83</td>\n",
              "      <td>127.0</td>\n",
              "      <td>68</td>\n",
              "      <td>5</td>\n",
              "      <td>0.0</td>\n",
              "      <td>0.27</td>\n",
              "    </tr>\n",
              "    <tr>\n",
              "      <th>6</th>\n",
              "      <td>B0017</td>\n",
              "      <td>65</td>\n",
              "      <td>21</td>\n",
              "      <td>189.0</td>\n",
              "      <td>63.37</td>\n",
              "      <td>76</td>\n",
              "      <td>93</td>\n",
              "      <td>123.0</td>\n",
              "      <td>85</td>\n",
              "      <td>3</td>\n",
              "      <td>0.0</td>\n",
              "      <td>0.24</td>\n",
              "    </tr>\n",
              "    <tr>\n",
              "      <th>7</th>\n",
              "      <td>B0018</td>\n",
              "      <td>54</td>\n",
              "      <td>24</td>\n",
              "      <td>192.0</td>\n",
              "      <td>81.79</td>\n",
              "      <td>87</td>\n",
              "      <td>81</td>\n",
              "      <td>123.0</td>\n",
              "      <td>38</td>\n",
              "      <td>10</td>\n",
              "      <td>0.0</td>\n",
              "      <td>0.23</td>\n",
              "    </tr>\n",
              "    <tr>\n",
              "      <th>8</th>\n",
              "      <td>B0019</td>\n",
              "      <td>49</td>\n",
              "      <td>23</td>\n",
              "      <td>189.0</td>\n",
              "      <td>74.41</td>\n",
              "      <td>80</td>\n",
              "      <td>95</td>\n",
              "      <td>136.0</td>\n",
              "      <td>44</td>\n",
              "      <td>3</td>\n",
              "      <td>0.0</td>\n",
              "      <td>0.22</td>\n",
              "    </tr>\n",
              "    <tr>\n",
              "      <th>9</th>\n",
              "      <td>B0020</td>\n",
              "      <td>57</td>\n",
              "      <td>26</td>\n",
              "      <td>188.0</td>\n",
              "      <td>84.00</td>\n",
              "      <td>91</td>\n",
              "      <td>82</td>\n",
              "      <td>109.0</td>\n",
              "      <td>61</td>\n",
              "      <td>0</td>\n",
              "      <td>0.0</td>\n",
              "      <td>0.18</td>\n",
              "    </tr>\n",
              "  </tbody>\n",
              "</table>\n",
              "</div>\n",
              "      <button class=\"colab-df-convert\" onclick=\"convertToInteractive('df-eb7fc29b-9d06-4025-ad98-fda38055ef06')\"\n",
              "              title=\"Convert this dataframe to an interactive table.\"\n",
              "              style=\"display:none;\">\n",
              "        \n",
              "  <svg xmlns=\"http://www.w3.org/2000/svg\" height=\"24px\"viewBox=\"0 0 24 24\"\n",
              "       width=\"24px\">\n",
              "    <path d=\"M0 0h24v24H0V0z\" fill=\"none\"/>\n",
              "    <path d=\"M18.56 5.44l.94 2.06.94-2.06 2.06-.94-2.06-.94-.94-2.06-.94 2.06-2.06.94zm-11 1L8.5 8.5l.94-2.06 2.06-.94-2.06-.94L8.5 2.5l-.94 2.06-2.06.94zm10 10l.94 2.06.94-2.06 2.06-.94-2.06-.94-.94-2.06-.94 2.06-2.06.94z\"/><path d=\"M17.41 7.96l-1.37-1.37c-.4-.4-.92-.59-1.43-.59-.52 0-1.04.2-1.43.59L10.3 9.45l-7.72 7.72c-.78.78-.78 2.05 0 2.83L4 21.41c.39.39.9.59 1.41.59.51 0 1.02-.2 1.41-.59l7.78-7.78 2.81-2.81c.8-.78.8-2.07 0-2.86zM5.41 20L4 18.59l7.72-7.72 1.47 1.35L5.41 20z\"/>\n",
              "  </svg>\n",
              "      </button>\n",
              "      \n",
              "  <style>\n",
              "    .colab-df-container {\n",
              "      display:flex;\n",
              "      flex-wrap:wrap;\n",
              "      gap: 12px;\n",
              "    }\n",
              "\n",
              "    .colab-df-convert {\n",
              "      background-color: #E8F0FE;\n",
              "      border: none;\n",
              "      border-radius: 50%;\n",
              "      cursor: pointer;\n",
              "      display: none;\n",
              "      fill: #1967D2;\n",
              "      height: 32px;\n",
              "      padding: 0 0 0 0;\n",
              "      width: 32px;\n",
              "    }\n",
              "\n",
              "    .colab-df-convert:hover {\n",
              "      background-color: #E2EBFA;\n",
              "      box-shadow: 0px 1px 2px rgba(60, 64, 67, 0.3), 0px 1px 3px 1px rgba(60, 64, 67, 0.15);\n",
              "      fill: #174EA6;\n",
              "    }\n",
              "\n",
              "    [theme=dark] .colab-df-convert {\n",
              "      background-color: #3B4455;\n",
              "      fill: #D2E3FC;\n",
              "    }\n",
              "\n",
              "    [theme=dark] .colab-df-convert:hover {\n",
              "      background-color: #434B5C;\n",
              "      box-shadow: 0px 1px 3px 1px rgba(0, 0, 0, 0.15);\n",
              "      filter: drop-shadow(0px 1px 2px rgba(0, 0, 0, 0.3));\n",
              "      fill: #FFFFFF;\n",
              "    }\n",
              "  </style>\n",
              "\n",
              "      <script>\n",
              "        const buttonEl =\n",
              "          document.querySelector('#df-eb7fc29b-9d06-4025-ad98-fda38055ef06 button.colab-df-convert');\n",
              "        buttonEl.style.display =\n",
              "          google.colab.kernel.accessAllowed ? 'block' : 'none';\n",
              "\n",
              "        async function convertToInteractive(key) {\n",
              "          const element = document.querySelector('#df-eb7fc29b-9d06-4025-ad98-fda38055ef06');\n",
              "          const dataTable =\n",
              "            await google.colab.kernel.invokeFunction('convertToInteractive',\n",
              "                                                     [key], {});\n",
              "          if (!dataTable) return;\n",
              "\n",
              "          const docLinkHtml = 'Like what you see? Visit the ' +\n",
              "            '<a target=\"_blank\" href=https://colab.research.google.com/notebooks/data_table.ipynb>data table notebook</a>'\n",
              "            + ' to learn more about interactive tables.';\n",
              "          element.innerHTML = '';\n",
              "          dataTable['output_type'] = 'display_data';\n",
              "          await google.colab.output.renderOutput(dataTable, element);\n",
              "          const docLink = document.createElement('div');\n",
              "          docLink.innerHTML = docLinkHtml;\n",
              "          element.appendChild(docLink);\n",
              "        }\n",
              "      </script>\n",
              "    </div>\n",
              "  </div>\n",
              "  "
            ]
          },
          "metadata": {},
          "execution_count": 5
        }
      ]
    },
    {
      "cell_type": "code",
      "source": [
        "#Check for null values\n",
        "df.isna().sum()"
      ],
      "metadata": {
        "colab": {
          "base_uri": "https://localhost:8080/"
        },
        "id": "36bbnxNMSlZJ",
        "outputId": "a0ce1e7e-5d0d-4f84-e2bb-b573eb31b441"
      },
      "execution_count": null,
      "outputs": [
        {
          "output_type": "execute_result",
          "data": {
            "text/plain": [
              "SUBJECT_ID                         0\n",
              "AGE_years                          0\n",
              "BMI                                0\n",
              "HEIGHT_cm                          0\n",
              "WEIGHT_kg                          0\n",
              "WAIST_CIRCUMFERENCE_cm             0\n",
              "DIASTOLIC_BLOOD_PRESSURE_mmHg      0\n",
              "SYSTOLIC_BLOOD_PRESSURE_mmHg       5\n",
              "WALK_DURATION_PER_DAY_MINUTES      0\n",
              "COMPUTER_USE_TIME_PER_DAY_HOURS    0\n",
              "SMOKING_STATUS                     2\n",
              "Visceral_Fat_Volume_Litres         0\n",
              "dtype: int64"
            ]
          },
          "metadata": {},
          "execution_count": 6
        }
      ]
    },
    {
      "cell_type": "code",
      "source": [
        "#Replace Null values in the Systolic Blood Pressure and Smoking Status with Mean and Mode respectively\n",
        "df['SYSTOLIC_BLOOD_PRESSURE_mmHg'] = df['SYSTOLIC_BLOOD_PRESSURE_mmHg'].fillna(df['SYSTOLIC_BLOOD_PRESSURE_mmHg'].mean())\n",
        "df['SMOKING_STATUS '] = df['SMOKING_STATUS '].fillna(df['SMOKING_STATUS '].mode()[0])"
      ],
      "metadata": {
        "id": "uTP8iXEfS9jx"
      },
      "execution_count": null,
      "outputs": []
    },
    {
      "cell_type": "code",
      "source": [
        "df.isna().sum()"
      ],
      "metadata": {
        "colab": {
          "base_uri": "https://localhost:8080/"
        },
        "id": "qqMAYWJ0TAE3",
        "outputId": "1c9de4d9-195c-41f7-dd47-2e29047f8cf2"
      },
      "execution_count": null,
      "outputs": [
        {
          "output_type": "execute_result",
          "data": {
            "text/plain": [
              "SUBJECT_ID                         0\n",
              "AGE_years                          0\n",
              "BMI                                0\n",
              "HEIGHT_cm                          0\n",
              "WEIGHT_kg                          0\n",
              "WAIST_CIRCUMFERENCE_cm             0\n",
              "DIASTOLIC_BLOOD_PRESSURE_mmHg      0\n",
              "SYSTOLIC_BLOOD_PRESSURE_mmHg       0\n",
              "WALK_DURATION_PER_DAY_MINUTES      0\n",
              "COMPUTER_USE_TIME_PER_DAY_HOURS    0\n",
              "SMOKING_STATUS                     0\n",
              "Visceral_Fat_Volume_Litres         0\n",
              "dtype: int64"
            ]
          },
          "metadata": {},
          "execution_count": 8
        }
      ]
    },
    {
      "cell_type": "code",
      "source": [
        "#View Data\n",
        "df.head(3)"
      ],
      "metadata": {
        "colab": {
          "base_uri": "https://localhost:8080/",
          "height": 207
        },
        "id": "YLOHGfOaTCRI",
        "outputId": "dc31775c-48a8-4e3a-b840-851045be898b"
      },
      "execution_count": null,
      "outputs": [
        {
          "output_type": "execute_result",
          "data": {
            "text/plain": [
              "  SUBJECT_ID  AGE_years  BMI   HEIGHT_cm  WEIGHT_kg  WAIST_CIRCUMFERENCE_cm  \\\n",
              "0      B0011         47    46      187.0     152.24                     154   \n",
              "1      B0012         52    54      182.0     167.36                     139   \n",
              "2      B0013         62    28      175.0      82.92                      93   \n",
              "\n",
              "   DIASTOLIC_BLOOD_PRESSURE_mmHg  SYSTOLIC_BLOOD_PRESSURE_mmHg  \\\n",
              "0                            133                         178.0   \n",
              "1                            111                         187.0   \n",
              "2                            118                         160.0   \n",
              "\n",
              "   WALK_DURATION_PER_DAY_MINUTES  COMPUTER_USE_TIME_PER_DAY_HOURS  \\\n",
              "0                             52                                7   \n",
              "1                             50                                3   \n",
              "2                             58                                6   \n",
              "\n",
              "   SMOKING_STATUS   Visceral_Fat_Volume_Litres  \n",
              "0              0.0                       -0.76  \n",
              "1              0.0                       -0.59  \n",
              "2              0.0                        0.59  "
            ],
            "text/html": [
              "\n",
              "  <div id=\"df-8ec52a6a-520c-4a44-a2fc-e3ebc51bc074\">\n",
              "    <div class=\"colab-df-container\">\n",
              "      <div>\n",
              "<style scoped>\n",
              "    .dataframe tbody tr th:only-of-type {\n",
              "        vertical-align: middle;\n",
              "    }\n",
              "\n",
              "    .dataframe tbody tr th {\n",
              "        vertical-align: top;\n",
              "    }\n",
              "\n",
              "    .dataframe thead th {\n",
              "        text-align: right;\n",
              "    }\n",
              "</style>\n",
              "<table border=\"1\" class=\"dataframe\">\n",
              "  <thead>\n",
              "    <tr style=\"text-align: right;\">\n",
              "      <th></th>\n",
              "      <th>SUBJECT_ID</th>\n",
              "      <th>AGE_years</th>\n",
              "      <th>BMI</th>\n",
              "      <th>HEIGHT_cm</th>\n",
              "      <th>WEIGHT_kg</th>\n",
              "      <th>WAIST_CIRCUMFERENCE_cm</th>\n",
              "      <th>DIASTOLIC_BLOOD_PRESSURE_mmHg</th>\n",
              "      <th>SYSTOLIC_BLOOD_PRESSURE_mmHg</th>\n",
              "      <th>WALK_DURATION_PER_DAY_MINUTES</th>\n",
              "      <th>COMPUTER_USE_TIME_PER_DAY_HOURS</th>\n",
              "      <th>SMOKING_STATUS</th>\n",
              "      <th>Visceral_Fat_Volume_Litres</th>\n",
              "    </tr>\n",
              "  </thead>\n",
              "  <tbody>\n",
              "    <tr>\n",
              "      <th>0</th>\n",
              "      <td>B0011</td>\n",
              "      <td>47</td>\n",
              "      <td>46</td>\n",
              "      <td>187.0</td>\n",
              "      <td>152.24</td>\n",
              "      <td>154</td>\n",
              "      <td>133</td>\n",
              "      <td>178.0</td>\n",
              "      <td>52</td>\n",
              "      <td>7</td>\n",
              "      <td>0.0</td>\n",
              "      <td>-0.76</td>\n",
              "    </tr>\n",
              "    <tr>\n",
              "      <th>1</th>\n",
              "      <td>B0012</td>\n",
              "      <td>52</td>\n",
              "      <td>54</td>\n",
              "      <td>182.0</td>\n",
              "      <td>167.36</td>\n",
              "      <td>139</td>\n",
              "      <td>111</td>\n",
              "      <td>187.0</td>\n",
              "      <td>50</td>\n",
              "      <td>3</td>\n",
              "      <td>0.0</td>\n",
              "      <td>-0.59</td>\n",
              "    </tr>\n",
              "    <tr>\n",
              "      <th>2</th>\n",
              "      <td>B0013</td>\n",
              "      <td>62</td>\n",
              "      <td>28</td>\n",
              "      <td>175.0</td>\n",
              "      <td>82.92</td>\n",
              "      <td>93</td>\n",
              "      <td>118</td>\n",
              "      <td>160.0</td>\n",
              "      <td>58</td>\n",
              "      <td>6</td>\n",
              "      <td>0.0</td>\n",
              "      <td>0.59</td>\n",
              "    </tr>\n",
              "  </tbody>\n",
              "</table>\n",
              "</div>\n",
              "      <button class=\"colab-df-convert\" onclick=\"convertToInteractive('df-8ec52a6a-520c-4a44-a2fc-e3ebc51bc074')\"\n",
              "              title=\"Convert this dataframe to an interactive table.\"\n",
              "              style=\"display:none;\">\n",
              "        \n",
              "  <svg xmlns=\"http://www.w3.org/2000/svg\" height=\"24px\"viewBox=\"0 0 24 24\"\n",
              "       width=\"24px\">\n",
              "    <path d=\"M0 0h24v24H0V0z\" fill=\"none\"/>\n",
              "    <path d=\"M18.56 5.44l.94 2.06.94-2.06 2.06-.94-2.06-.94-.94-2.06-.94 2.06-2.06.94zm-11 1L8.5 8.5l.94-2.06 2.06-.94-2.06-.94L8.5 2.5l-.94 2.06-2.06.94zm10 10l.94 2.06.94-2.06 2.06-.94-2.06-.94-.94-2.06-.94 2.06-2.06.94z\"/><path d=\"M17.41 7.96l-1.37-1.37c-.4-.4-.92-.59-1.43-.59-.52 0-1.04.2-1.43.59L10.3 9.45l-7.72 7.72c-.78.78-.78 2.05 0 2.83L4 21.41c.39.39.9.59 1.41.59.51 0 1.02-.2 1.41-.59l7.78-7.78 2.81-2.81c.8-.78.8-2.07 0-2.86zM5.41 20L4 18.59l7.72-7.72 1.47 1.35L5.41 20z\"/>\n",
              "  </svg>\n",
              "      </button>\n",
              "      \n",
              "  <style>\n",
              "    .colab-df-container {\n",
              "      display:flex;\n",
              "      flex-wrap:wrap;\n",
              "      gap: 12px;\n",
              "    }\n",
              "\n",
              "    .colab-df-convert {\n",
              "      background-color: #E8F0FE;\n",
              "      border: none;\n",
              "      border-radius: 50%;\n",
              "      cursor: pointer;\n",
              "      display: none;\n",
              "      fill: #1967D2;\n",
              "      height: 32px;\n",
              "      padding: 0 0 0 0;\n",
              "      width: 32px;\n",
              "    }\n",
              "\n",
              "    .colab-df-convert:hover {\n",
              "      background-color: #E2EBFA;\n",
              "      box-shadow: 0px 1px 2px rgba(60, 64, 67, 0.3), 0px 1px 3px 1px rgba(60, 64, 67, 0.15);\n",
              "      fill: #174EA6;\n",
              "    }\n",
              "\n",
              "    [theme=dark] .colab-df-convert {\n",
              "      background-color: #3B4455;\n",
              "      fill: #D2E3FC;\n",
              "    }\n",
              "\n",
              "    [theme=dark] .colab-df-convert:hover {\n",
              "      background-color: #434B5C;\n",
              "      box-shadow: 0px 1px 3px 1px rgba(0, 0, 0, 0.15);\n",
              "      filter: drop-shadow(0px 1px 2px rgba(0, 0, 0, 0.3));\n",
              "      fill: #FFFFFF;\n",
              "    }\n",
              "  </style>\n",
              "\n",
              "      <script>\n",
              "        const buttonEl =\n",
              "          document.querySelector('#df-8ec52a6a-520c-4a44-a2fc-e3ebc51bc074 button.colab-df-convert');\n",
              "        buttonEl.style.display =\n",
              "          google.colab.kernel.accessAllowed ? 'block' : 'none';\n",
              "\n",
              "        async function convertToInteractive(key) {\n",
              "          const element = document.querySelector('#df-8ec52a6a-520c-4a44-a2fc-e3ebc51bc074');\n",
              "          const dataTable =\n",
              "            await google.colab.kernel.invokeFunction('convertToInteractive',\n",
              "                                                     [key], {});\n",
              "          if (!dataTable) return;\n",
              "\n",
              "          const docLinkHtml = 'Like what you see? Visit the ' +\n",
              "            '<a target=\"_blank\" href=https://colab.research.google.com/notebooks/data_table.ipynb>data table notebook</a>'\n",
              "            + ' to learn more about interactive tables.';\n",
              "          element.innerHTML = '';\n",
              "          dataTable['output_type'] = 'display_data';\n",
              "          await google.colab.output.renderOutput(dataTable, element);\n",
              "          const docLink = document.createElement('div');\n",
              "          docLink.innerHTML = docLinkHtml;\n",
              "          element.appendChild(docLink);\n",
              "        }\n",
              "      </script>\n",
              "    </div>\n",
              "  </div>\n",
              "  "
            ]
          },
          "metadata": {},
          "execution_count": 9
        }
      ]
    },
    {
      "cell_type": "code",
      "source": [
        "#Shape Of New Data\n",
        "df.shape"
      ],
      "metadata": {
        "id": "s1lQMu3zRlEy",
        "colab": {
          "base_uri": "https://localhost:8080/"
        },
        "outputId": "1428b3fe-095c-4b16-e76d-4c6f96def3e7"
      },
      "execution_count": null,
      "outputs": [
        {
          "output_type": "execute_result",
          "data": {
            "text/plain": [
              "(2864, 12)"
            ]
          },
          "metadata": {},
          "execution_count": 10
        }
      ]
    },
    {
      "cell_type": "code",
      "source": [],
      "metadata": {
        "id": "5DWhHQITSESS"
      },
      "execution_count": null,
      "outputs": []
    },
    {
      "cell_type": "markdown",
      "source": [
        "# Removing Outliers"
      ],
      "metadata": {
        "id": "0TMLLCUbPxZ3"
      }
    },
    {
      "cell_type": "code",
      "source": [
        "df.describe().transpose()"
      ],
      "metadata": {
        "colab": {
          "base_uri": "https://localhost:8080/",
          "height": 394
        },
        "id": "Me7hwUJgQOah",
        "outputId": "6b049383-a7d2-4d47-c288-ccba228ed690"
      },
      "execution_count": null,
      "outputs": [
        {
          "output_type": "execute_result",
          "data": {
            "text/plain": [
              "                                  count        mean        std    min  \\\n",
              "AGE_years                        2864.0   62.324721   8.509000  41.00   \n",
              "BMI                              2864.0   29.284567   3.885323  20.00   \n",
              "HEIGHT_cm                        2864.0  182.935929   8.671651   1.70   \n",
              "WEIGHT_kg                        2864.0   91.345150  13.678241  55.41   \n",
              "WAIST_CIRCUMFERENCE_cm           2864.0   99.055168  10.137395  70.00   \n",
              "DIASTOLIC_BLOOD_PRESSURE_mmHg    2864.0   91.596718  10.631628  48.00   \n",
              "SYSTOLIC_BLOOD_PRESSURE_mmHg     2864.0  133.770199  16.819874  90.00   \n",
              "WALK_DURATION_PER_DAY_MINUTES    2864.0   81.696578  64.805761   1.00   \n",
              "COMPUTER_USE_TIME_PER_DAY_HOURS  2864.0    4.531425   4.421835   0.00   \n",
              "SMOKING_STATUS                   2864.0    0.040503   0.197170   0.00   \n",
              "Visceral_Fat_Volume_Litres       2864.0    5.553844   2.626842  -0.76   \n",
              "\n",
              "                                      25%      50%       75%     max  \n",
              "AGE_years                         57.0000   63.000   69.0000  190.00  \n",
              "BMI                               27.0000   29.000   31.0000   54.00  \n",
              "HEIGHT_cm                        178.0000  183.000  188.0000  210.00  \n",
              "WEIGHT_kg                         81.9175   89.725   98.7400  168.77  \n",
              "WAIST_CIRCUMFERENCE_cm            92.0000   98.000  105.0000  154.00  \n",
              "DIASTOLIC_BLOOD_PRESSURE_mmHg     84.0000   91.000   99.0000  133.00  \n",
              "SYSTOLIC_BLOOD_PRESSURE_mmHg     122.0000  132.000  144.0000  192.00  \n",
              "WALK_DURATION_PER_DAY_MINUTES     46.0000   67.000   92.0000  656.00  \n",
              "COMPUTER_USE_TIME_PER_DAY_HOURS    2.0000    3.000    6.0000   69.00  \n",
              "SMOKING_STATUS                     0.0000    0.000    0.0000    1.00  \n",
              "Visceral_Fat_Volume_Litres         3.6800    5.350    7.1525   16.06  "
            ],
            "text/html": [
              "\n",
              "  <div id=\"df-bb2bf8eb-7820-41bd-b76e-989d103b6ddf\">\n",
              "    <div class=\"colab-df-container\">\n",
              "      <div>\n",
              "<style scoped>\n",
              "    .dataframe tbody tr th:only-of-type {\n",
              "        vertical-align: middle;\n",
              "    }\n",
              "\n",
              "    .dataframe tbody tr th {\n",
              "        vertical-align: top;\n",
              "    }\n",
              "\n",
              "    .dataframe thead th {\n",
              "        text-align: right;\n",
              "    }\n",
              "</style>\n",
              "<table border=\"1\" class=\"dataframe\">\n",
              "  <thead>\n",
              "    <tr style=\"text-align: right;\">\n",
              "      <th></th>\n",
              "      <th>count</th>\n",
              "      <th>mean</th>\n",
              "      <th>std</th>\n",
              "      <th>min</th>\n",
              "      <th>25%</th>\n",
              "      <th>50%</th>\n",
              "      <th>75%</th>\n",
              "      <th>max</th>\n",
              "    </tr>\n",
              "  </thead>\n",
              "  <tbody>\n",
              "    <tr>\n",
              "      <th>AGE_years</th>\n",
              "      <td>2864.0</td>\n",
              "      <td>62.324721</td>\n",
              "      <td>8.509000</td>\n",
              "      <td>41.00</td>\n",
              "      <td>57.0000</td>\n",
              "      <td>63.000</td>\n",
              "      <td>69.0000</td>\n",
              "      <td>190.00</td>\n",
              "    </tr>\n",
              "    <tr>\n",
              "      <th>BMI</th>\n",
              "      <td>2864.0</td>\n",
              "      <td>29.284567</td>\n",
              "      <td>3.885323</td>\n",
              "      <td>20.00</td>\n",
              "      <td>27.0000</td>\n",
              "      <td>29.000</td>\n",
              "      <td>31.0000</td>\n",
              "      <td>54.00</td>\n",
              "    </tr>\n",
              "    <tr>\n",
              "      <th>HEIGHT_cm</th>\n",
              "      <td>2864.0</td>\n",
              "      <td>182.935929</td>\n",
              "      <td>8.671651</td>\n",
              "      <td>1.70</td>\n",
              "      <td>178.0000</td>\n",
              "      <td>183.000</td>\n",
              "      <td>188.0000</td>\n",
              "      <td>210.00</td>\n",
              "    </tr>\n",
              "    <tr>\n",
              "      <th>WEIGHT_kg</th>\n",
              "      <td>2864.0</td>\n",
              "      <td>91.345150</td>\n",
              "      <td>13.678241</td>\n",
              "      <td>55.41</td>\n",
              "      <td>81.9175</td>\n",
              "      <td>89.725</td>\n",
              "      <td>98.7400</td>\n",
              "      <td>168.77</td>\n",
              "    </tr>\n",
              "    <tr>\n",
              "      <th>WAIST_CIRCUMFERENCE_cm</th>\n",
              "      <td>2864.0</td>\n",
              "      <td>99.055168</td>\n",
              "      <td>10.137395</td>\n",
              "      <td>70.00</td>\n",
              "      <td>92.0000</td>\n",
              "      <td>98.000</td>\n",
              "      <td>105.0000</td>\n",
              "      <td>154.00</td>\n",
              "    </tr>\n",
              "    <tr>\n",
              "      <th>DIASTOLIC_BLOOD_PRESSURE_mmHg</th>\n",
              "      <td>2864.0</td>\n",
              "      <td>91.596718</td>\n",
              "      <td>10.631628</td>\n",
              "      <td>48.00</td>\n",
              "      <td>84.0000</td>\n",
              "      <td>91.000</td>\n",
              "      <td>99.0000</td>\n",
              "      <td>133.00</td>\n",
              "    </tr>\n",
              "    <tr>\n",
              "      <th>SYSTOLIC_BLOOD_PRESSURE_mmHg</th>\n",
              "      <td>2864.0</td>\n",
              "      <td>133.770199</td>\n",
              "      <td>16.819874</td>\n",
              "      <td>90.00</td>\n",
              "      <td>122.0000</td>\n",
              "      <td>132.000</td>\n",
              "      <td>144.0000</td>\n",
              "      <td>192.00</td>\n",
              "    </tr>\n",
              "    <tr>\n",
              "      <th>WALK_DURATION_PER_DAY_MINUTES</th>\n",
              "      <td>2864.0</td>\n",
              "      <td>81.696578</td>\n",
              "      <td>64.805761</td>\n",
              "      <td>1.00</td>\n",
              "      <td>46.0000</td>\n",
              "      <td>67.000</td>\n",
              "      <td>92.0000</td>\n",
              "      <td>656.00</td>\n",
              "    </tr>\n",
              "    <tr>\n",
              "      <th>COMPUTER_USE_TIME_PER_DAY_HOURS</th>\n",
              "      <td>2864.0</td>\n",
              "      <td>4.531425</td>\n",
              "      <td>4.421835</td>\n",
              "      <td>0.00</td>\n",
              "      <td>2.0000</td>\n",
              "      <td>3.000</td>\n",
              "      <td>6.0000</td>\n",
              "      <td>69.00</td>\n",
              "    </tr>\n",
              "    <tr>\n",
              "      <th>SMOKING_STATUS</th>\n",
              "      <td>2864.0</td>\n",
              "      <td>0.040503</td>\n",
              "      <td>0.197170</td>\n",
              "      <td>0.00</td>\n",
              "      <td>0.0000</td>\n",
              "      <td>0.000</td>\n",
              "      <td>0.0000</td>\n",
              "      <td>1.00</td>\n",
              "    </tr>\n",
              "    <tr>\n",
              "      <th>Visceral_Fat_Volume_Litres</th>\n",
              "      <td>2864.0</td>\n",
              "      <td>5.553844</td>\n",
              "      <td>2.626842</td>\n",
              "      <td>-0.76</td>\n",
              "      <td>3.6800</td>\n",
              "      <td>5.350</td>\n",
              "      <td>7.1525</td>\n",
              "      <td>16.06</td>\n",
              "    </tr>\n",
              "  </tbody>\n",
              "</table>\n",
              "</div>\n",
              "      <button class=\"colab-df-convert\" onclick=\"convertToInteractive('df-bb2bf8eb-7820-41bd-b76e-989d103b6ddf')\"\n",
              "              title=\"Convert this dataframe to an interactive table.\"\n",
              "              style=\"display:none;\">\n",
              "        \n",
              "  <svg xmlns=\"http://www.w3.org/2000/svg\" height=\"24px\"viewBox=\"0 0 24 24\"\n",
              "       width=\"24px\">\n",
              "    <path d=\"M0 0h24v24H0V0z\" fill=\"none\"/>\n",
              "    <path d=\"M18.56 5.44l.94 2.06.94-2.06 2.06-.94-2.06-.94-.94-2.06-.94 2.06-2.06.94zm-11 1L8.5 8.5l.94-2.06 2.06-.94-2.06-.94L8.5 2.5l-.94 2.06-2.06.94zm10 10l.94 2.06.94-2.06 2.06-.94-2.06-.94-.94-2.06-.94 2.06-2.06.94z\"/><path d=\"M17.41 7.96l-1.37-1.37c-.4-.4-.92-.59-1.43-.59-.52 0-1.04.2-1.43.59L10.3 9.45l-7.72 7.72c-.78.78-.78 2.05 0 2.83L4 21.41c.39.39.9.59 1.41.59.51 0 1.02-.2 1.41-.59l7.78-7.78 2.81-2.81c.8-.78.8-2.07 0-2.86zM5.41 20L4 18.59l7.72-7.72 1.47 1.35L5.41 20z\"/>\n",
              "  </svg>\n",
              "      </button>\n",
              "      \n",
              "  <style>\n",
              "    .colab-df-container {\n",
              "      display:flex;\n",
              "      flex-wrap:wrap;\n",
              "      gap: 12px;\n",
              "    }\n",
              "\n",
              "    .colab-df-convert {\n",
              "      background-color: #E8F0FE;\n",
              "      border: none;\n",
              "      border-radius: 50%;\n",
              "      cursor: pointer;\n",
              "      display: none;\n",
              "      fill: #1967D2;\n",
              "      height: 32px;\n",
              "      padding: 0 0 0 0;\n",
              "      width: 32px;\n",
              "    }\n",
              "\n",
              "    .colab-df-convert:hover {\n",
              "      background-color: #E2EBFA;\n",
              "      box-shadow: 0px 1px 2px rgba(60, 64, 67, 0.3), 0px 1px 3px 1px rgba(60, 64, 67, 0.15);\n",
              "      fill: #174EA6;\n",
              "    }\n",
              "\n",
              "    [theme=dark] .colab-df-convert {\n",
              "      background-color: #3B4455;\n",
              "      fill: #D2E3FC;\n",
              "    }\n",
              "\n",
              "    [theme=dark] .colab-df-convert:hover {\n",
              "      background-color: #434B5C;\n",
              "      box-shadow: 0px 1px 3px 1px rgba(0, 0, 0, 0.15);\n",
              "      filter: drop-shadow(0px 1px 2px rgba(0, 0, 0, 0.3));\n",
              "      fill: #FFFFFF;\n",
              "    }\n",
              "  </style>\n",
              "\n",
              "      <script>\n",
              "        const buttonEl =\n",
              "          document.querySelector('#df-bb2bf8eb-7820-41bd-b76e-989d103b6ddf button.colab-df-convert');\n",
              "        buttonEl.style.display =\n",
              "          google.colab.kernel.accessAllowed ? 'block' : 'none';\n",
              "\n",
              "        async function convertToInteractive(key) {\n",
              "          const element = document.querySelector('#df-bb2bf8eb-7820-41bd-b76e-989d103b6ddf');\n",
              "          const dataTable =\n",
              "            await google.colab.kernel.invokeFunction('convertToInteractive',\n",
              "                                                     [key], {});\n",
              "          if (!dataTable) return;\n",
              "\n",
              "          const docLinkHtml = 'Like what you see? Visit the ' +\n",
              "            '<a target=\"_blank\" href=https://colab.research.google.com/notebooks/data_table.ipynb>data table notebook</a>'\n",
              "            + ' to learn more about interactive tables.';\n",
              "          element.innerHTML = '';\n",
              "          dataTable['output_type'] = 'display_data';\n",
              "          await google.colab.output.renderOutput(dataTable, element);\n",
              "          const docLink = document.createElement('div');\n",
              "          docLink.innerHTML = docLinkHtml;\n",
              "          element.appendChild(docLink);\n",
              "        }\n",
              "      </script>\n",
              "    </div>\n",
              "  </div>\n",
              "  "
            ]
          },
          "metadata": {},
          "execution_count": 11
        }
      ]
    },
    {
      "cell_type": "code",
      "source": [
        "# Scatter plot\n",
        "import matplotlib.pyplot as plt\n",
        "plt.scatter(df.index,df['AGE_years'])\n",
        "plt.show"
      ],
      "metadata": {
        "colab": {
          "base_uri": "https://localhost:8080/",
          "height": 448
        },
        "id": "3DVWaxyWQJP1",
        "outputId": "37ec6e8b-f15f-4442-8be0-d2a92cb09ea9"
      },
      "execution_count": null,
      "outputs": [
        {
          "output_type": "execute_result",
          "data": {
            "text/plain": [
              "<function matplotlib.pyplot.show(close=None, block=None)>"
            ]
          },
          "metadata": {},
          "execution_count": 12
        },
        {
          "output_type": "display_data",
          "data": {
            "text/plain": [
              "<Figure size 640x480 with 1 Axes>"
            ],
            "image/png": "[encoded data removed]"
          },
          "metadata": {}
        }
      ]
    },
    {
      "cell_type": "code",
      "source": [
        "#Using drop() to delete rows based on column value\n",
        "df.drop(df[df['AGE_years'] >= 120].index, inplace = True)"
      ],
      "metadata": {
        "id": "9jcUWvYlWwuQ"
      },
      "execution_count": null,
      "outputs": []
    },
    {
      "cell_type": "code",
      "source": [
        "# Scatter plot\n",
        "import matplotlib.pyplot as plt\n",
        "plt.scatter(df.index,df['HEIGHT_cm'])\n",
        "plt.show"
      ],
      "metadata": {
        "colab": {
          "base_uri": "https://localhost:8080/",
          "height": 448
        },
        "id": "vqn8lpNaWF6b",
        "outputId": "efda065e-5ff7-4dd6-d684-f95455a16d4d"
      },
      "execution_count": null,
      "outputs": [
        {
          "output_type": "execute_result",
          "data": {
            "text/plain": [
              "<function matplotlib.pyplot.show(close=None, block=None)>"
            ]
          },
          "metadata": {},
          "execution_count": 14
        },
        {
          "output_type": "display_data",
          "data": {
            "text/plain": [
              "<Figure size 640x480 with 1 Axes>"
            ],
            "image/png": "[encoded data removed]"
          },
          "metadata": {}
        }
      ]
    },
    {
      "cell_type": "code",
      "source": [
        "#Using drop() to delete rows based on column value\n",
        "df.drop(df[df['HEIGHT_cm'] <= 20].index, inplace = True)"
      ],
      "metadata": {
        "id": "92nXP41lYCLp"
      },
      "execution_count": null,
      "outputs": []
    },
    {
      "cell_type": "code",
      "source": [
        "# Scatter plot\n",
        "import matplotlib.pyplot as plt\n",
        "plt.scatter(df.index,df['COMPUTER_USE_TIME_PER_DAY_HOURS'])\n",
        "plt.show"
      ],
      "metadata": {
        "colab": {
          "base_uri": "https://localhost:8080/",
          "height": 448
        },
        "id": "ywWd9YfQWV1g",
        "outputId": "a1a020dd-1105-4fb5-bb98-d6c5be4ec38c"
      },
      "execution_count": null,
      "outputs": [
        {
          "output_type": "execute_result",
          "data": {
            "text/plain": [
              "<function matplotlib.pyplot.show(close=None, block=None)>"
            ]
          },
          "metadata": {},
          "execution_count": 16
        },
        {
          "output_type": "display_data",
          "data": {
            "text/plain": [
              "<Figure size 640x480 with 1 Axes>"
            ],
            "image/png": "[encoded data removed]"
          },
          "metadata": {}
        }
      ]
    },
    {
      "cell_type": "code",
      "source": [
        "#Using drop() to delete rows based on column value\n",
        "df.drop(df[df['COMPUTER_USE_TIME_PER_DAY_HOURS'] > 24].index, inplace = True)"
      ],
      "metadata": {
        "id": "oEMQwRfxYKYY"
      },
      "execution_count": null,
      "outputs": []
    },
    {
      "cell_type": "code",
      "source": [
        "# Scatter plot\n",
        "import matplotlib.pyplot as plt\n",
        "plt.scatter(df.index,df['Visceral_Fat_Volume_Litres'])\n",
        "plt.show"
      ],
      "metadata": {
        "colab": {
          "base_uri": "https://localhost:8080/",
          "height": 448
        },
        "id": "nspCwHnfWo8s",
        "outputId": "349d0715-4342-49cf-aac9-8c783c6497c2"
      },
      "execution_count": null,
      "outputs": [
        {
          "output_type": "execute_result",
          "data": {
            "text/plain": [
              "<function matplotlib.pyplot.show(close=None, block=None)>"
            ]
          },
          "metadata": {},
          "execution_count": 18
        },
        {
          "output_type": "display_data",
          "data": {
            "text/plain": [
              "<Figure size 640x480 with 1 Axes>"
            ],
            "image/png": "[encoded data removed]"
          },
          "metadata": {}
        }
      ]
    },
    {
      "cell_type": "code",
      "source": [
        "#Using drop() to delete rows based on column value\n",
        "df.drop(df[df['Visceral_Fat_Volume_Litres'] < 0].index, inplace = True)"
      ],
      "metadata": {
        "id": "VKPQSrr1YxVn"
      },
      "execution_count": null,
      "outputs": []
    },
    {
      "cell_type": "code",
      "source": [
        "#CHECK FOR Outliers\n",
        "df.describe().transpose()"
      ],
      "metadata": {
        "colab": {
          "base_uri": "https://localhost:8080/",
          "height": 394
        },
        "id": "mVioVgnXZXKY",
        "outputId": "7b918932-c365-4294-db65-e85e61ac4632"
      },
      "execution_count": null,
      "outputs": [
        {
          "output_type": "execute_result",
          "data": {
            "text/plain": [
              "                                  count        mean        std     min  \\\n",
              "AGE_years                        2847.0   62.325255   8.151172   41.00   \n",
              "BMI                              2847.0   29.273973   3.849884   20.00   \n",
              "HEIGHT_cm                        2847.0  183.049350   7.213319  155.00   \n",
              "WEIGHT_kg                        2847.0   91.311826  13.548008   55.41   \n",
              "WAIST_CIRCUMFERENCE_cm           2847.0   99.030207  10.052207   70.00   \n",
              "DIASTOLIC_BLOOD_PRESSURE_mmHg    2847.0   91.598174  10.591009   48.00   \n",
              "SYSTOLIC_BLOOD_PRESSURE_mmHg     2847.0  133.786741  16.738080   90.00   \n",
              "WALK_DURATION_PER_DAY_MINUTES    2847.0   81.706006  64.870699    1.00   \n",
              "COMPUTER_USE_TIME_PER_DAY_HOURS  2847.0    4.408851   3.929817    0.00   \n",
              "SMOKING_STATUS                   2847.0    0.040745   0.197733    0.00   \n",
              "Visceral_Fat_Volume_Litres       2847.0    5.560084   2.619727    0.04   \n",
              "\n",
              "                                     25%     50%      75%     max  \n",
              "AGE_years                         57.000   63.00   69.000   80.00  \n",
              "BMI                               27.000   29.00   31.000   51.00  \n",
              "HEIGHT_cm                        178.000  183.00  188.000  210.00  \n",
              "WEIGHT_kg                         81.925   89.73   98.720  168.77  \n",
              "WAIST_CIRCUMFERENCE_cm            92.000   98.00  105.000  153.00  \n",
              "DIASTOLIC_BLOOD_PRESSURE_mmHg     84.000   91.00   98.500  130.00  \n",
              "SYSTOLIC_BLOOD_PRESSURE_mmHg     122.000  132.00  144.000  192.00  \n",
              "WALK_DURATION_PER_DAY_MINUTES     46.000   67.00   92.000  656.00  \n",
              "COMPUTER_USE_TIME_PER_DAY_HOURS    2.000    3.00    6.000   24.00  \n",
              "SMOKING_STATUS                     0.000    0.00    0.000    1.00  \n",
              "Visceral_Fat_Volume_Litres         3.680    5.36    7.155   16.06  "
            ],
            "text/html": [
              "\n",
              "  <div id=\"df-4e6990a3-3308-4178-96c8-97a042db0e6c\">\n",
              "    <div class=\"colab-df-container\">\n",
              "      <div>\n",
              "<style scoped>\n",
              "    .dataframe tbody tr th:only-of-type {\n",
              "        vertical-align: middle;\n",
              "    }\n",
              "\n",
              "    .dataframe tbody tr th {\n",
              "        vertical-align: top;\n",
              "    }\n",
              "\n",
              "    .dataframe thead th {\n",
              "        text-align: right;\n",
              "    }\n",
              "</style>\n",
              "<table border=\"1\" class=\"dataframe\">\n",
              "  <thead>\n",
              "    <tr style=\"text-align: right;\">\n",
              "      <th></th>\n",
              "      <th>count</th>\n",
              "      <th>mean</th>\n",
              "      <th>std</th>\n",
              "      <th>min</th>\n",
              "      <th>25%</th>\n",
              "      <th>50%</th>\n",
              "      <th>75%</th>\n",
              "      <th>max</th>\n",
              "    </tr>\n",
              "  </thead>\n",
              "  <tbody>\n",
              "    <tr>\n",
              "      <th>AGE_years</th>\n",
              "      <td>2847.0</td>\n",
              "      <td>62.325255</td>\n",
              "      <td>8.151172</td>\n",
              "      <td>41.00</td>\n",
              "      <td>57.000</td>\n",
              "      <td>63.00</td>\n",
              "      <td>69.000</td>\n",
              "      <td>80.00</td>\n",
              "    </tr>\n",
              "    <tr>\n",
              "      <th>BMI</th>\n",
              "      <td>2847.0</td>\n",
              "      <td>29.273973</td>\n",
              "      <td>3.849884</td>\n",
              "      <td>20.00</td>\n",
              "      <td>27.000</td>\n",
              "      <td>29.00</td>\n",
              "      <td>31.000</td>\n",
              "      <td>51.00</td>\n",
              "    </tr>\n",
              "    <tr>\n",
              "      <th>HEIGHT_cm</th>\n",
              "      <td>2847.0</td>\n",
              "      <td>183.049350</td>\n",
              "      <td>7.213319</td>\n",
              "      <td>155.00</td>\n",
              "      <td>178.000</td>\n",
              "      <td>183.00</td>\n",
              "      <td>188.000</td>\n",
              "      <td>210.00</td>\n",
              "    </tr>\n",
              "    <tr>\n",
              "      <th>WEIGHT_kg</th>\n",
              "      <td>2847.0</td>\n",
              "      <td>91.311826</td>\n",
              "      <td>13.548008</td>\n",
              "      <td>55.41</td>\n",
              "      <td>81.925</td>\n",
              "      <td>89.73</td>\n",
              "      <td>98.720</td>\n",
              "      <td>168.77</td>\n",
              "    </tr>\n",
              "    <tr>\n",
              "      <th>WAIST_CIRCUMFERENCE_cm</th>\n",
              "      <td>2847.0</td>\n",
              "      <td>99.030207</td>\n",
              "      <td>10.052207</td>\n",
              "      <td>70.00</td>\n",
              "      <td>92.000</td>\n",
              "      <td>98.00</td>\n",
              "      <td>105.000</td>\n",
              "      <td>153.00</td>\n",
              "    </tr>\n",
              "    <tr>\n",
              "      <th>DIASTOLIC_BLOOD_PRESSURE_mmHg</th>\n",
              "      <td>2847.0</td>\n",
              "      <td>91.598174</td>\n",
              "      <td>10.591009</td>\n",
              "      <td>48.00</td>\n",
              "      <td>84.000</td>\n",
              "      <td>91.00</td>\n",
              "      <td>98.500</td>\n",
              "      <td>130.00</td>\n",
              "    </tr>\n",
              "    <tr>\n",
              "      <th>SYSTOLIC_BLOOD_PRESSURE_mmHg</th>\n",
              "      <td>2847.0</td>\n",
              "      <td>133.786741</td>\n",
              "      <td>16.738080</td>\n",
              "      <td>90.00</td>\n",
              "      <td>122.000</td>\n",
              "      <td>132.00</td>\n",
              "      <td>144.000</td>\n",
              "      <td>192.00</td>\n",
              "    </tr>\n",
              "    <tr>\n",
              "      <th>WALK_DURATION_PER_DAY_MINUTES</th>\n",
              "      <td>2847.0</td>\n",
              "      <td>81.706006</td>\n",
              "      <td>64.870699</td>\n",
              "      <td>1.00</td>\n",
              "      <td>46.000</td>\n",
              "      <td>67.00</td>\n",
              "      <td>92.000</td>\n",
              "      <td>656.00</td>\n",
              "    </tr>\n",
              "    <tr>\n",
              "      <th>COMPUTER_USE_TIME_PER_DAY_HOURS</th>\n",
              "      <td>2847.0</td>\n",
              "      <td>4.408851</td>\n",
              "      <td>3.929817</td>\n",
              "      <td>0.00</td>\n",
              "      <td>2.000</td>\n",
              "      <td>3.00</td>\n",
              "      <td>6.000</td>\n",
              "      <td>24.00</td>\n",
              "    </tr>\n",
              "    <tr>\n",
              "      <th>SMOKING_STATUS</th>\n",
              "      <td>2847.0</td>\n",
              "      <td>0.040745</td>\n",
              "      <td>0.197733</td>\n",
              "      <td>0.00</td>\n",
              "      <td>0.000</td>\n",
              "      <td>0.00</td>\n",
              "      <td>0.000</td>\n",
              "      <td>1.00</td>\n",
              "    </tr>\n",
              "    <tr>\n",
              "      <th>Visceral_Fat_Volume_Litres</th>\n",
              "      <td>2847.0</td>\n",
              "      <td>5.560084</td>\n",
              "      <td>2.619727</td>\n",
              "      <td>0.04</td>\n",
              "      <td>3.680</td>\n",
              "      <td>5.36</td>\n",
              "      <td>7.155</td>\n",
              "      <td>16.06</td>\n",
              "    </tr>\n",
              "  </tbody>\n",
              "</table>\n",
              "</div>\n",
              "      <button class=\"colab-df-convert\" onclick=\"convertToInteractive('df-4e6990a3-3308-4178-96c8-97a042db0e6c')\"\n",
              "              title=\"Convert this dataframe to an interactive table.\"\n",
              "              style=\"display:none;\">\n",
              "        \n",
              "  <svg xmlns=\"http://www.w3.org/2000/svg\" height=\"24px\"viewBox=\"0 0 24 24\"\n",
              "       width=\"24px\">\n",
              "    <path d=\"M0 0h24v24H0V0z\" fill=\"none\"/>\n",
              "    <path d=\"M18.56 5.44l.94 2.06.94-2.06 2.06-.94-2.06-.94-.94-2.06-.94 2.06-2.06.94zm-11 1L8.5 8.5l.94-2.06 2.06-.94-2.06-.94L8.5 2.5l-.94 2.06-2.06.94zm10 10l.94 2.06.94-2.06 2.06-.94-2.06-.94-.94-2.06-.94 2.06-2.06.94z\"/><path d=\"M17.41 7.96l-1.37-1.37c-.4-.4-.92-.59-1.43-.59-.52 0-1.04.2-1.43.59L10.3 9.45l-7.72 7.72c-.78.78-.78 2.05 0 2.83L4 21.41c.39.39.9.59 1.41.59.51 0 1.02-.2 1.41-.59l7.78-7.78 2.81-2.81c.8-.78.8-2.07 0-2.86zM5.41 20L4 18.59l7.72-7.72 1.47 1.35L5.41 20z\"/>\n",
              "  </svg>\n",
              "      </button>\n",
              "      \n",
              "  <style>\n",
              "    .colab-df-container {\n",
              "      display:flex;\n",
              "      flex-wrap:wrap;\n",
              "      gap: 12px;\n",
              "    }\n",
              "\n",
              "    .colab-df-convert {\n",
              "      background-color: #E8F0FE;\n",
              "      border: none;\n",
              "      border-radius: 50%;\n",
              "      cursor: pointer;\n",
              "      display: none;\n",
              "      fill: #1967D2;\n",
              "      height: 32px;\n",
              "      padding: 0 0 0 0;\n",
              "      width: 32px;\n",
              "    }\n",
              "\n",
              "    .colab-df-convert:hover {\n",
              "      background-color: #E2EBFA;\n",
              "      box-shadow: 0px 1px 2px rgba(60, 64, 67, 0.3), 0px 1px 3px 1px rgba(60, 64, 67, 0.15);\n",
              "      fill: #174EA6;\n",
              "    }\n",
              "\n",
              "    [theme=dark] .colab-df-convert {\n",
              "      background-color: #3B4455;\n",
              "      fill: #D2E3FC;\n",
              "    }\n",
              "\n",
              "    [theme=dark] .colab-df-convert:hover {\n",
              "      background-color: #434B5C;\n",
              "      box-shadow: 0px 1px 3px 1px rgba(0, 0, 0, 0.15);\n",
              "      filter: drop-shadow(0px 1px 2px rgba(0, 0, 0, 0.3));\n",
              "      fill: #FFFFFF;\n",
              "    }\n",
              "  </style>\n",
              "\n",
              "      <script>\n",
              "        const buttonEl =\n",
              "          document.querySelector('#df-4e6990a3-3308-4178-96c8-97a042db0e6c button.colab-df-convert');\n",
              "        buttonEl.style.display =\n",
              "          google.colab.kernel.accessAllowed ? 'block' : 'none';\n",
              "\n",
              "        async function convertToInteractive(key) {\n",
              "          const element = document.querySelector('#df-4e6990a3-3308-4178-96c8-97a042db0e6c');\n",
              "          const dataTable =\n",
              "            await google.colab.kernel.invokeFunction('convertToInteractive',\n",
              "                                                     [key], {});\n",
              "          if (!dataTable) return;\n",
              "\n",
              "          const docLinkHtml = 'Like what you see? Visit the ' +\n",
              "            '<a target=\"_blank\" href=https://colab.research.google.com/notebooks/data_table.ipynb>data table notebook</a>'\n",
              "            + ' to learn more about interactive tables.';\n",
              "          element.innerHTML = '';\n",
              "          dataTable['output_type'] = 'display_data';\n",
              "          await google.colab.output.renderOutput(dataTable, element);\n",
              "          const docLink = document.createElement('div');\n",
              "          docLink.innerHTML = docLinkHtml;\n",
              "          element.appendChild(docLink);\n",
              "        }\n",
              "      </script>\n",
              "    </div>\n",
              "  </div>\n",
              "  "
            ]
          },
          "metadata": {},
          "execution_count": 20
        }
      ]
    },
    {
      "cell_type": "code",
      "source": [
        "# create a list of our conditions\n",
        "conditions = [\n",
        "    (df['Visceral_Fat_Volume_Litres'] <= 3),\n",
        "    (df['Visceral_Fat_Volume_Litres'] > 3)\n",
        "    ]\n",
        "\n",
        "# create a list of the values we want to assign for each condition\n",
        "# Where 1 represent YES and 0 represent NO\n",
        "values = [0,1]\n",
        "\n",
        "# create a new column and use np.select to assign values to it using our lists as arguments\n",
        "df['req_intervention'] = np.select(conditions, values)\n",
        "\n",
        "# display updated DataFrame\n",
        "df.head()"
      ],
      "metadata": {
        "colab": {
          "base_uri": "https://localhost:8080/",
          "height": 270
        },
        "id": "-_NQ_7UFRpbI",
        "outputId": "59fb2527-2d0f-4135-f0a2-2d801167c36b"
      },
      "execution_count": null,
      "outputs": [
        {
          "output_type": "execute_result",
          "data": {
            "text/plain": [
              "  SUBJECT_ID  AGE_years  BMI   HEIGHT_cm  WEIGHT_kg  WAIST_CIRCUMFERENCE_cm  \\\n",
              "2      B0013         62    28      175.0      82.92                      93   \n",
              "5      B0016         70    27      180.0      76.57                      95   \n",
              "6      B0017         65    21      189.0      63.37                      76   \n",
              "7      B0018         54    24      192.0      81.79                      87   \n",
              "8      B0019         49    23      189.0      74.41                      80   \n",
              "\n",
              "   DIASTOLIC_BLOOD_PRESSURE_mmHg  SYSTOLIC_BLOOD_PRESSURE_mmHg  \\\n",
              "2                            118                         160.0   \n",
              "5                             83                         127.0   \n",
              "6                             93                         123.0   \n",
              "7                             81                         123.0   \n",
              "8                             95                         136.0   \n",
              "\n",
              "   WALK_DURATION_PER_DAY_MINUTES  COMPUTER_USE_TIME_PER_DAY_HOURS  \\\n",
              "2                             58                                6   \n",
              "5                             68                                5   \n",
              "6                             85                                3   \n",
              "7                             38                               10   \n",
              "8                             44                                3   \n",
              "\n",
              "   SMOKING_STATUS   Visceral_Fat_Volume_Litres  req_intervention  \n",
              "2              0.0                        0.59                 0  \n",
              "5              0.0                        0.27                 0  \n",
              "6              0.0                        0.24                 0  \n",
              "7              0.0                        0.23                 0  \n",
              "8              0.0                        0.22                 0  "
            ],
            "text/html": [
              "\n",
              "  <div id=\"df-df7d53db-2ec6-428c-81bf-e7a7b7d6218f\">\n",
              "    <div class=\"colab-df-container\">\n",
              "      <div>\n",
              "<style scoped>\n",
              "    .dataframe tbody tr th:only-of-type {\n",
              "        vertical-align: middle;\n",
              "    }\n",
              "\n",
              "    .dataframe tbody tr th {\n",
              "        vertical-align: top;\n",
              "    }\n",
              "\n",
              "    .dataframe thead th {\n",
              "        text-align: right;\n",
              "    }\n",
              "</style>\n",
              "<table border=\"1\" class=\"dataframe\">\n",
              "  <thead>\n",
              "    <tr style=\"text-align: right;\">\n",
              "      <th></th>\n",
              "      <th>SUBJECT_ID</th>\n",
              "      <th>AGE_years</th>\n",
              "      <th>BMI</th>\n",
              "      <th>HEIGHT_cm</th>\n",
              "      <th>WEIGHT_kg</th>\n",
              "      <th>WAIST_CIRCUMFERENCE_cm</th>\n",
              "      <th>DIASTOLIC_BLOOD_PRESSURE_mmHg</th>\n",
              "      <th>SYSTOLIC_BLOOD_PRESSURE_mmHg</th>\n",
              "      <th>WALK_DURATION_PER_DAY_MINUTES</th>\n",
              "      <th>COMPUTER_USE_TIME_PER_DAY_HOURS</th>\n",
              "      <th>SMOKING_STATUS</th>\n",
              "      <th>Visceral_Fat_Volume_Litres</th>\n",
              "      <th>req_intervention</th>\n",
              "    </tr>\n",
              "  </thead>\n",
              "  <tbody>\n",
              "    <tr>\n",
              "      <th>2</th>\n",
              "      <td>B0013</td>\n",
              "      <td>62</td>\n",
              "      <td>28</td>\n",
              "      <td>175.0</td>\n",
              "      <td>82.92</td>\n",
              "      <td>93</td>\n",
              "      <td>118</td>\n",
              "      <td>160.0</td>\n",
              "      <td>58</td>\n",
              "      <td>6</td>\n",
              "      <td>0.0</td>\n",
              "      <td>0.59</td>\n",
              "      <td>0</td>\n",
              "    </tr>\n",
              "    <tr>\n",
              "      <th>5</th>\n",
              "      <td>B0016</td>\n",
              "      <td>70</td>\n",
              "      <td>27</td>\n",
              "      <td>180.0</td>\n",
              "      <td>76.57</td>\n",
              "      <td>95</td>\n",
              "      <td>83</td>\n",
              "      <td>127.0</td>\n",
              "      <td>68</td>\n",
              "      <td>5</td>\n",
              "      <td>0.0</td>\n",
              "      <td>0.27</td>\n",
              "      <td>0</td>\n",
              "    </tr>\n",
              "    <tr>\n",
              "      <th>6</th>\n",
              "      <td>B0017</td>\n",
              "      <td>65</td>\n",
              "      <td>21</td>\n",
              "      <td>189.0</td>\n",
              "      <td>63.37</td>\n",
              "      <td>76</td>\n",
              "      <td>93</td>\n",
              "      <td>123.0</td>\n",
              "      <td>85</td>\n",
              "      <td>3</td>\n",
              "      <td>0.0</td>\n",
              "      <td>0.24</td>\n",
              "      <td>0</td>\n",
              "    </tr>\n",
              "    <tr>\n",
              "      <th>7</th>\n",
              "      <td>B0018</td>\n",
              "      <td>54</td>\n",
              "      <td>24</td>\n",
              "      <td>192.0</td>\n",
              "      <td>81.79</td>\n",
              "      <td>87</td>\n",
              "      <td>81</td>\n",
              "      <td>123.0</td>\n",
              "      <td>38</td>\n",
              "      <td>10</td>\n",
              "      <td>0.0</td>\n",
              "      <td>0.23</td>\n",
              "      <td>0</td>\n",
              "    </tr>\n",
              "    <tr>\n",
              "      <th>8</th>\n",
              "      <td>B0019</td>\n",
              "      <td>49</td>\n",
              "      <td>23</td>\n",
              "      <td>189.0</td>\n",
              "      <td>74.41</td>\n",
              "      <td>80</td>\n",
              "      <td>95</td>\n",
              "      <td>136.0</td>\n",
              "      <td>44</td>\n",
              "      <td>3</td>\n",
              "      <td>0.0</td>\n",
              "      <td>0.22</td>\n",
              "      <td>0</td>\n",
              "    </tr>\n",
              "  </tbody>\n",
              "</table>\n",
              "</div>\n",
              "      <button class=\"colab-df-convert\" onclick=\"convertToInteractive('df-df7d53db-2ec6-428c-81bf-e7a7b7d6218f')\"\n",
              "              title=\"Convert this dataframe to an interactive table.\"\n",
              "              style=\"display:none;\">\n",
              "        \n",
              "  <svg xmlns=\"http://www.w3.org/2000/svg\" height=\"24px\"viewBox=\"0 0 24 24\"\n",
              "       width=\"24px\">\n",
              "    <path d=\"M0 0h24v24H0V0z\" fill=\"none\"/>\n",
              "    <path d=\"M18.56 5.44l.94 2.06.94-2.06 2.06-.94-2.06-.94-.94-2.06-.94 2.06-2.06.94zm-11 1L8.5 8.5l.94-2.06 2.06-.94-2.06-.94L8.5 2.5l-.94 2.06-2.06.94zm10 10l.94 2.06.94-2.06 2.06-.94-2.06-.94-.94-2.06-.94 2.06-2.06.94z\"/><path d=\"M17.41 7.96l-1.37-1.37c-.4-.4-.92-.59-1.43-.59-.52 0-1.04.2-1.43.59L10.3 9.45l-7.72 7.72c-.78.78-.78 2.05 0 2.83L4 21.41c.39.39.9.59 1.41.59.51 0 1.02-.2 1.41-.59l7.78-7.78 2.81-2.81c.8-.78.8-2.07 0-2.86zM5.41 20L4 18.59l7.72-7.72 1.47 1.35L5.41 20z\"/>\n",
              "  </svg>\n",
              "      </button>\n",
              "      \n",
              "  <style>\n",
              "    .colab-df-container {\n",
              "      display:flex;\n",
              "      flex-wrap:wrap;\n",
              "      gap: 12px;\n",
              "    }\n",
              "\n",
              "    .colab-df-convert {\n",
              "      background-color: #E8F0FE;\n",
              "      border: none;\n",
              "      border-radius: 50%;\n",
              "      cursor: pointer;\n",
              "      display: none;\n",
              "      fill: #1967D2;\n",
              "      height: 32px;\n",
              "      padding: 0 0 0 0;\n",
              "      width: 32px;\n",
              "    }\n",
              "\n",
              "    .colab-df-convert:hover {\n",
              "      background-color: #E2EBFA;\n",
              "      box-shadow: 0px 1px 2px rgba(60, 64, 67, 0.3), 0px 1px 3px 1px rgba(60, 64, 67, 0.15);\n",
              "      fill: #174EA6;\n",
              "    }\n",
              "\n",
              "    [theme=dark] .colab-df-convert {\n",
              "      background-color: #3B4455;\n",
              "      fill: #D2E3FC;\n",
              "    }\n",
              "\n",
              "    [theme=dark] .colab-df-convert:hover {\n",
              "      background-color: #434B5C;\n",
              "      box-shadow: 0px 1px 3px 1px rgba(0, 0, 0, 0.15);\n",
              "      filter: drop-shadow(0px 1px 2px rgba(0, 0, 0, 0.3));\n",
              "      fill: #FFFFFF;\n",
              "    }\n",
              "  </style>\n",
              "\n",
              "      <script>\n",
              "        const buttonEl =\n",
              "          document.querySelector('#df-df7d53db-2ec6-428c-81bf-e7a7b7d6218f button.colab-df-convert');\n",
              "        buttonEl.style.display =\n",
              "          google.colab.kernel.accessAllowed ? 'block' : 'none';\n",
              "\n",
              "        async function convertToInteractive(key) {\n",
              "          const element = document.querySelector('#df-df7d53db-2ec6-428c-81bf-e7a7b7d6218f');\n",
              "          const dataTable =\n",
              "            await google.colab.kernel.invokeFunction('convertToInteractive',\n",
              "                                                     [key], {});\n",
              "          if (!dataTable) return;\n",
              "\n",
              "          const docLinkHtml = 'Like what you see? Visit the ' +\n",
              "            '<a target=\"_blank\" href=https://colab.research.google.com/notebooks/data_table.ipynb>data table notebook</a>'\n",
              "            + ' to learn more about interactive tables.';\n",
              "          element.innerHTML = '';\n",
              "          dataTable['output_type'] = 'display_data';\n",
              "          await google.colab.output.renderOutput(dataTable, element);\n",
              "          const docLink = document.createElement('div');\n",
              "          docLink.innerHTML = docLinkHtml;\n",
              "          element.appendChild(docLink);\n",
              "        }\n",
              "      </script>\n",
              "    </div>\n",
              "  </div>\n",
              "  "
            ]
          },
          "metadata": {},
          "execution_count": 21
        }
      ]
    },
    {
      "cell_type": "code",
      "source": [
        "#Drop Visceral Fat Volume column\n",
        "df.drop(['Visceral_Fat_Volume_Litres'], axis=1,inplace = True)"
      ],
      "metadata": {
        "id": "GyYUkofEJuLM"
      },
      "execution_count": null,
      "outputs": []
    },
    {
      "cell_type": "code",
      "source": [
        "# display updated DataFrame\n",
        "df.head(10)"
      ],
      "metadata": {
        "colab": {
          "base_uri": "https://localhost:8080/",
          "height": 427
        },
        "id": "KCBRWVxqQy47",
        "outputId": "e0c108c5-111a-4c12-bc47-2750d8021eec"
      },
      "execution_count": null,
      "outputs": [
        {
          "output_type": "execute_result",
          "data": {
            "text/plain": [
              "   SUBJECT_ID  AGE_years  BMI   HEIGHT_cm  WEIGHT_kg  WAIST_CIRCUMFERENCE_cm  \\\n",
              "2       B0013         62    28      175.0      82.92                      93   \n",
              "5       B0016         70    27      180.0      76.57                      95   \n",
              "6       B0017         65    21      189.0      63.37                      76   \n",
              "7       B0018         54    24      192.0      81.79                      87   \n",
              "8       B0019         49    23      189.0      74.41                      80   \n",
              "9       B0020         57    26      188.0      84.00                      91   \n",
              "10      B0021         61    23      180.0      71.71                      85   \n",
              "11      B0022         52    24      186.0      75.94                      81   \n",
              "12      B0023         54    27      177.0      75.32                      91   \n",
              "13      B0024         53    24      188.0      82.55                      87   \n",
              "\n",
              "    DIASTOLIC_BLOOD_PRESSURE_mmHg  SYSTOLIC_BLOOD_PRESSURE_mmHg  \\\n",
              "2                             118                         160.0   \n",
              "5                              83                         127.0   \n",
              "6                              93                         123.0   \n",
              "7                              81                         123.0   \n",
              "8                              95                         136.0   \n",
              "9                              82                         109.0   \n",
              "10                             78                         112.0   \n",
              "11                            103                         138.0   \n",
              "12                            102                         144.0   \n",
              "13                             78                         123.0   \n",
              "\n",
              "    WALK_DURATION_PER_DAY_MINUTES  COMPUTER_USE_TIME_PER_DAY_HOURS  \\\n",
              "2                              58                                6   \n",
              "5                              68                                5   \n",
              "6                              85                                3   \n",
              "7                              38                               10   \n",
              "8                              44                                3   \n",
              "9                              61                                0   \n",
              "10                            175                                5   \n",
              "11                             43                                5   \n",
              "12                             78                                0   \n",
              "13                             46                                2   \n",
              "\n",
              "    SMOKING_STATUS   req_intervention  \n",
              "2               0.0                 0  \n",
              "5               0.0                 0  \n",
              "6               0.0                 0  \n",
              "7               0.0                 0  \n",
              "8               0.0                 0  \n",
              "9               0.0                 0  \n",
              "10              0.0                 0  \n",
              "11              0.0                 0  \n",
              "12              0.0                 0  \n",
              "13              0.0                 0  "
            ],
            "text/html": [
              "\n",
              "  <div id=\"df-f8666fc9-b6c4-4c7c-bd04-4f3eb5bcf2dd\">\n",
              "    <div class=\"colab-df-container\">\n",
              "      <div>\n",
              "<style scoped>\n",
              "    .dataframe tbody tr th:only-of-type {\n",
              "        vertical-align: middle;\n",
              "    }\n",
              "\n",
              "    .dataframe tbody tr th {\n",
              "        vertical-align: top;\n",
              "    }\n",
              "\n",
              "    .dataframe thead th {\n",
              "        text-align: right;\n",
              "    }\n",
              "</style>\n",
              "<table border=\"1\" class=\"dataframe\">\n",
              "  <thead>\n",
              "    <tr style=\"text-align: right;\">\n",
              "      <th></th>\n",
              "      <th>SUBJECT_ID</th>\n",
              "      <th>AGE_years</th>\n",
              "      <th>BMI</th>\n",
              "      <th>HEIGHT_cm</th>\n",
              "      <th>WEIGHT_kg</th>\n",
              "      <th>WAIST_CIRCUMFERENCE_cm</th>\n",
              "      <th>DIASTOLIC_BLOOD_PRESSURE_mmHg</th>\n",
              "      <th>SYSTOLIC_BLOOD_PRESSURE_mmHg</th>\n",
              "      <th>WALK_DURATION_PER_DAY_MINUTES</th>\n",
              "      <th>COMPUTER_USE_TIME_PER_DAY_HOURS</th>\n",
              "      <th>SMOKING_STATUS</th>\n",
              "      <th>req_intervention</th>\n",
              "    </tr>\n",
              "  </thead>\n",
              "  <tbody>\n",
              "    <tr>\n",
              "      <th>2</th>\n",
              "      <td>B0013</td>\n",
              "      <td>62</td>\n",
              "      <td>28</td>\n",
              "      <td>175.0</td>\n",
              "      <td>82.92</td>\n",
              "      <td>93</td>\n",
              "      <td>118</td>\n",
              "      <td>160.0</td>\n",
              "      <td>58</td>\n",
              "      <td>6</td>\n",
              "      <td>0.0</td>\n",
              "      <td>0</td>\n",
              "    </tr>\n",
              "    <tr>\n",
              "      <th>5</th>\n",
              "      <td>B0016</td>\n",
              "      <td>70</td>\n",
              "      <td>27</td>\n",
              "      <td>180.0</td>\n",
              "      <td>76.57</td>\n",
              "      <td>95</td>\n",
              "      <td>83</td>\n",
              "      <td>127.0</td>\n",
              "      <td>68</td>\n",
              "      <td>5</td>\n",
              "      <td>0.0</td>\n",
              "      <td>0</td>\n",
              "    </tr>\n",
              "    <tr>\n",
              "      <th>6</th>\n",
              "      <td>B0017</td>\n",
              "      <td>65</td>\n",
              "      <td>21</td>\n",
              "      <td>189.0</td>\n",
              "      <td>63.37</td>\n",
              "      <td>76</td>\n",
              "      <td>93</td>\n",
              "      <td>123.0</td>\n",
              "      <td>85</td>\n",
              "      <td>3</td>\n",
              "      <td>0.0</td>\n",
              "      <td>0</td>\n",
              "    </tr>\n",
              "    <tr>\n",
              "      <th>7</th>\n",
              "      <td>B0018</td>\n",
              "      <td>54</td>\n",
              "      <td>24</td>\n",
              "      <td>192.0</td>\n",
              "      <td>81.79</td>\n",
              "      <td>87</td>\n",
              "      <td>81</td>\n",
              "      <td>123.0</td>\n",
              "      <td>38</td>\n",
              "      <td>10</td>\n",
              "      <td>0.0</td>\n",
              "      <td>0</td>\n",
              "    </tr>\n",
              "    <tr>\n",
              "      <th>8</th>\n",
              "      <td>B0019</td>\n",
              "      <td>49</td>\n",
              "      <td>23</td>\n",
              "      <td>189.0</td>\n",
              "      <td>74.41</td>\n",
              "      <td>80</td>\n",
              "      <td>95</td>\n",
              "      <td>136.0</td>\n",
              "      <td>44</td>\n",
              "      <td>3</td>\n",
              "      <td>0.0</td>\n",
              "      <td>0</td>\n",
              "    </tr>\n",
              "    <tr>\n",
              "      <th>9</th>\n",
              "      <td>B0020</td>\n",
              "      <td>57</td>\n",
              "      <td>26</td>\n",
              "      <td>188.0</td>\n",
              "      <td>84.00</td>\n",
              "      <td>91</td>\n",
              "      <td>82</td>\n",
              "      <td>109.0</td>\n",
              "      <td>61</td>\n",
              "      <td>0</td>\n",
              "      <td>0.0</td>\n",
              "      <td>0</td>\n",
              "    </tr>\n",
              "    <tr>\n",
              "      <th>10</th>\n",
              "      <td>B0021</td>\n",
              "      <td>61</td>\n",
              "      <td>23</td>\n",
              "      <td>180.0</td>\n",
              "      <td>71.71</td>\n",
              "      <td>85</td>\n",
              "      <td>78</td>\n",
              "      <td>112.0</td>\n",
              "      <td>175</td>\n",
              "      <td>5</td>\n",
              "      <td>0.0</td>\n",
              "      <td>0</td>\n",
              "    </tr>\n",
              "    <tr>\n",
              "      <th>11</th>\n",
              "      <td>B0022</td>\n",
              "      <td>52</td>\n",
              "      <td>24</td>\n",
              "      <td>186.0</td>\n",
              "      <td>75.94</td>\n",
              "      <td>81</td>\n",
              "      <td>103</td>\n",
              "      <td>138.0</td>\n",
              "      <td>43</td>\n",
              "      <td>5</td>\n",
              "      <td>0.0</td>\n",
              "      <td>0</td>\n",
              "    </tr>\n",
              "    <tr>\n",
              "      <th>12</th>\n",
              "      <td>B0023</td>\n",
              "      <td>54</td>\n",
              "      <td>27</td>\n",
              "      <td>177.0</td>\n",
              "      <td>75.32</td>\n",
              "      <td>91</td>\n",
              "      <td>102</td>\n",
              "      <td>144.0</td>\n",
              "      <td>78</td>\n",
              "      <td>0</td>\n",
              "      <td>0.0</td>\n",
              "      <td>0</td>\n",
              "    </tr>\n",
              "    <tr>\n",
              "      <th>13</th>\n",
              "      <td>B0024</td>\n",
              "      <td>53</td>\n",
              "      <td>24</td>\n",
              "      <td>188.0</td>\n",
              "      <td>82.55</td>\n",
              "      <td>87</td>\n",
              "      <td>78</td>\n",
              "      <td>123.0</td>\n",
              "      <td>46</td>\n",
              "      <td>2</td>\n",
              "      <td>0.0</td>\n",
              "      <td>0</td>\n",
              "    </tr>\n",
              "  </tbody>\n",
              "</table>\n",
              "</div>\n",
              "      <button class=\"colab-df-convert\" onclick=\"convertToInteractive('df-f8666fc9-b6c4-4c7c-bd04-4f3eb5bcf2dd')\"\n",
              "              title=\"Convert this dataframe to an interactive table.\"\n",
              "              style=\"display:none;\">\n",
              "        \n",
              "  <svg xmlns=\"http://www.w3.org/2000/svg\" height=\"24px\"viewBox=\"0 0 24 24\"\n",
              "       width=\"24px\">\n",
              "    <path d=\"M0 0h24v24H0V0z\" fill=\"none\"/>\n",
              "    <path d=\"M18.56 5.44l.94 2.06.94-2.06 2.06-.94-2.06-.94-.94-2.06-.94 2.06-2.06.94zm-11 1L8.5 8.5l.94-2.06 2.06-.94-2.06-.94L8.5 2.5l-.94 2.06-2.06.94zm10 10l.94 2.06.94-2.06 2.06-.94-2.06-.94-.94-2.06-.94 2.06-2.06.94z\"/><path d=\"M17.41 7.96l-1.37-1.37c-.4-.4-.92-.59-1.43-.59-.52 0-1.04.2-1.43.59L10.3 9.45l-7.72 7.72c-.78.78-.78 2.05 0 2.83L4 21.41c.39.39.9.59 1.41.59.51 0 1.02-.2 1.41-.59l7.78-7.78 2.81-2.81c.8-.78.8-2.07 0-2.86zM5.41 20L4 18.59l7.72-7.72 1.47 1.35L5.41 20z\"/>\n",
              "  </svg>\n",
              "      </button>\n",
              "      \n",
              "  <style>\n",
              "    .colab-df-container {\n",
              "      display:flex;\n",
              "      flex-wrap:wrap;\n",
              "      gap: 12px;\n",
              "    }\n",
              "\n",
              "    .colab-df-convert {\n",
              "      background-color: #E8F0FE;\n",
              "      border: none;\n",
              "      border-radius: 50%;\n",
              "      cursor: pointer;\n",
              "      display: none;\n",
              "      fill: #1967D2;\n",
              "      height: 32px;\n",
              "      padding: 0 0 0 0;\n",
              "      width: 32px;\n",
              "    }\n",
              "\n",
              "    .colab-df-convert:hover {\n",
              "      background-color: #E2EBFA;\n",
              "      box-shadow: 0px 1px 2px rgba(60, 64, 67, 0.3), 0px 1px 3px 1px rgba(60, 64, 67, 0.15);\n",
              "      fill: #174EA6;\n",
              "    }\n",
              "\n",
              "    [theme=dark] .colab-df-convert {\n",
              "      background-color: #3B4455;\n",
              "      fill: #D2E3FC;\n",
              "    }\n",
              "\n",
              "    [theme=dark] .colab-df-convert:hover {\n",
              "      background-color: #434B5C;\n",
              "      box-shadow: 0px 1px 3px 1px rgba(0, 0, 0, 0.15);\n",
              "      filter: drop-shadow(0px 1px 2px rgba(0, 0, 0, 0.3));\n",
              "      fill: #FFFFFF;\n",
              "    }\n",
              "  </style>\n",
              "\n",
              "      <script>\n",
              "        const buttonEl =\n",
              "          document.querySelector('#df-f8666fc9-b6c4-4c7c-bd04-4f3eb5bcf2dd button.colab-df-convert');\n",
              "        buttonEl.style.display =\n",
              "          google.colab.kernel.accessAllowed ? 'block' : 'none';\n",
              "\n",
              "        async function convertToInteractive(key) {\n",
              "          const element = document.querySelector('#df-f8666fc9-b6c4-4c7c-bd04-4f3eb5bcf2dd');\n",
              "          const dataTable =\n",
              "            await google.colab.kernel.invokeFunction('convertToInteractive',\n",
              "                                                     [key], {});\n",
              "          if (!dataTable) return;\n",
              "\n",
              "          const docLinkHtml = 'Like what you see? Visit the ' +\n",
              "            '<a target=\"_blank\" href=https://colab.research.google.com/notebooks/data_table.ipynb>data table notebook</a>'\n",
              "            + ' to learn more about interactive tables.';\n",
              "          element.innerHTML = '';\n",
              "          dataTable['output_type'] = 'display_data';\n",
              "          await google.colab.output.renderOutput(dataTable, element);\n",
              "          const docLink = document.createElement('div');\n",
              "          docLink.innerHTML = docLinkHtml;\n",
              "          element.appendChild(docLink);\n",
              "        }\n",
              "      </script>\n",
              "    </div>\n",
              "  </div>\n",
              "  "
            ]
          },
          "metadata": {},
          "execution_count": 23
        }
      ]
    },
    {
      "cell_type": "code",
      "source": [
        "#Decribe the Datatset statistically\n",
        "df.describe().transpose()"
      ],
      "metadata": {
        "colab": {
          "base_uri": "https://localhost:8080/",
          "height": 394
        },
        "id": "-D2RqWnZS8x6",
        "outputId": "8251e999-7898-445a-e1a3-9e786ed0d630"
      },
      "execution_count": null,
      "outputs": [
        {
          "output_type": "execute_result",
          "data": {
            "text/plain": [
              "                                  count        mean        std     min  \\\n",
              "AGE_years                        2847.0   62.325255   8.151172   41.00   \n",
              "BMI                              2847.0   29.273973   3.849884   20.00   \n",
              "HEIGHT_cm                        2847.0  183.049350   7.213319  155.00   \n",
              "WEIGHT_kg                        2847.0   91.311826  13.548008   55.41   \n",
              "WAIST_CIRCUMFERENCE_cm           2847.0   99.030207  10.052207   70.00   \n",
              "DIASTOLIC_BLOOD_PRESSURE_mmHg    2847.0   91.598174  10.591009   48.00   \n",
              "SYSTOLIC_BLOOD_PRESSURE_mmHg     2847.0  133.786741  16.738080   90.00   \n",
              "WALK_DURATION_PER_DAY_MINUTES    2847.0   81.706006  64.870699    1.00   \n",
              "COMPUTER_USE_TIME_PER_DAY_HOURS  2847.0    4.408851   3.929817    0.00   \n",
              "SMOKING_STATUS                   2847.0    0.040745   0.197733    0.00   \n",
              "req_intervention                 2847.0    0.839129   0.367477    0.00   \n",
              "\n",
              "                                     25%     50%     75%     max  \n",
              "AGE_years                         57.000   63.00   69.00   80.00  \n",
              "BMI                               27.000   29.00   31.00   51.00  \n",
              "HEIGHT_cm                        178.000  183.00  188.00  210.00  \n",
              "WEIGHT_kg                         81.925   89.73   98.72  168.77  \n",
              "WAIST_CIRCUMFERENCE_cm            92.000   98.00  105.00  153.00  \n",
              "DIASTOLIC_BLOOD_PRESSURE_mmHg     84.000   91.00   98.50  130.00  \n",
              "SYSTOLIC_BLOOD_PRESSURE_mmHg     122.000  132.00  144.00  192.00  \n",
              "WALK_DURATION_PER_DAY_MINUTES     46.000   67.00   92.00  656.00  \n",
              "COMPUTER_USE_TIME_PER_DAY_HOURS    2.000    3.00    6.00   24.00  \n",
              "SMOKING_STATUS                     0.000    0.00    0.00    1.00  \n",
              "req_intervention                   1.000    1.00    1.00    1.00  "
            ],
            "text/html": [
              "\n",
              "  <div id=\"df-aa6ba7b8-844c-4ce0-82a4-2344e804e061\">\n",
              "    <div class=\"colab-df-container\">\n",
              "      <div>\n",
              "<style scoped>\n",
              "    .dataframe tbody tr th:only-of-type {\n",
              "        vertical-align: middle;\n",
              "    }\n",
              "\n",
              "    .dataframe tbody tr th {\n",
              "        vertical-align: top;\n",
              "    }\n",
              "\n",
              "    .dataframe thead th {\n",
              "        text-align: right;\n",
              "    }\n",
              "</style>\n",
              "<table border=\"1\" class=\"dataframe\">\n",
              "  <thead>\n",
              "    <tr style=\"text-align: right;\">\n",
              "      <th></th>\n",
              "      <th>count</th>\n",
              "      <th>mean</th>\n",
              "      <th>std</th>\n",
              "      <th>min</th>\n",
              "      <th>25%</th>\n",
              "      <th>50%</th>\n",
              "      <th>75%</th>\n",
              "      <th>max</th>\n",
              "    </tr>\n",
              "  </thead>\n",
              "  <tbody>\n",
              "    <tr>\n",
              "      <th>AGE_years</th>\n",
              "      <td>2847.0</td>\n",
              "      <td>62.325255</td>\n",
              "      <td>8.151172</td>\n",
              "      <td>41.00</td>\n",
              "      <td>57.000</td>\n",
              "      <td>63.00</td>\n",
              "      <td>69.00</td>\n",
              "      <td>80.00</td>\n",
              "    </tr>\n",
              "    <tr>\n",
              "      <th>BMI</th>\n",
              "      <td>2847.0</td>\n",
              "      <td>29.273973</td>\n",
              "      <td>3.849884</td>\n",
              "      <td>20.00</td>\n",
              "      <td>27.000</td>\n",
              "      <td>29.00</td>\n",
              "      <td>31.00</td>\n",
              "      <td>51.00</td>\n",
              "    </tr>\n",
              "    <tr>\n",
              "      <th>HEIGHT_cm</th>\n",
              "      <td>2847.0</td>\n",
              "      <td>183.049350</td>\n",
              "      <td>7.213319</td>\n",
              "      <td>155.00</td>\n",
              "      <td>178.000</td>\n",
              "      <td>183.00</td>\n",
              "      <td>188.00</td>\n",
              "      <td>210.00</td>\n",
              "    </tr>\n",
              "    <tr>\n",
              "      <th>WEIGHT_kg</th>\n",
              "      <td>2847.0</td>\n",
              "      <td>91.311826</td>\n",
              "      <td>13.548008</td>\n",
              "      <td>55.41</td>\n",
              "      <td>81.925</td>\n",
              "      <td>89.73</td>\n",
              "      <td>98.72</td>\n",
              "      <td>168.77</td>\n",
              "    </tr>\n",
              "    <tr>\n",
              "      <th>WAIST_CIRCUMFERENCE_cm</th>\n",
              "      <td>2847.0</td>\n",
              "      <td>99.030207</td>\n",
              "      <td>10.052207</td>\n",
              "      <td>70.00</td>\n",
              "      <td>92.000</td>\n",
              "      <td>98.00</td>\n",
              "      <td>105.00</td>\n",
              "      <td>153.00</td>\n",
              "    </tr>\n",
              "    <tr>\n",
              "      <th>DIASTOLIC_BLOOD_PRESSURE_mmHg</th>\n",
              "      <td>2847.0</td>\n",
              "      <td>91.598174</td>\n",
              "      <td>10.591009</td>\n",
              "      <td>48.00</td>\n",
              "      <td>84.000</td>\n",
              "      <td>91.00</td>\n",
              "      <td>98.50</td>\n",
              "      <td>130.00</td>\n",
              "    </tr>\n",
              "    <tr>\n",
              "      <th>SYSTOLIC_BLOOD_PRESSURE_mmHg</th>\n",
              "      <td>2847.0</td>\n",
              "      <td>133.786741</td>\n",
              "      <td>16.738080</td>\n",
              "      <td>90.00</td>\n",
              "      <td>122.000</td>\n",
              "      <td>132.00</td>\n",
              "      <td>144.00</td>\n",
              "      <td>192.00</td>\n",
              "    </tr>\n",
              "    <tr>\n",
              "      <th>WALK_DURATION_PER_DAY_MINUTES</th>\n",
              "      <td>2847.0</td>\n",
              "      <td>81.706006</td>\n",
              "      <td>64.870699</td>\n",
              "      <td>1.00</td>\n",
              "      <td>46.000</td>\n",
              "      <td>67.00</td>\n",
              "      <td>92.00</td>\n",
              "      <td>656.00</td>\n",
              "    </tr>\n",
              "    <tr>\n",
              "      <th>COMPUTER_USE_TIME_PER_DAY_HOURS</th>\n",
              "      <td>2847.0</td>\n",
              "      <td>4.408851</td>\n",
              "      <td>3.929817</td>\n",
              "      <td>0.00</td>\n",
              "      <td>2.000</td>\n",
              "      <td>3.00</td>\n",
              "      <td>6.00</td>\n",
              "      <td>24.00</td>\n",
              "    </tr>\n",
              "    <tr>\n",
              "      <th>SMOKING_STATUS</th>\n",
              "      <td>2847.0</td>\n",
              "      <td>0.040745</td>\n",
              "      <td>0.197733</td>\n",
              "      <td>0.00</td>\n",
              "      <td>0.000</td>\n",
              "      <td>0.00</td>\n",
              "      <td>0.00</td>\n",
              "      <td>1.00</td>\n",
              "    </tr>\n",
              "    <tr>\n",
              "      <th>req_intervention</th>\n",
              "      <td>2847.0</td>\n",
              "      <td>0.839129</td>\n",
              "      <td>0.367477</td>\n",
              "      <td>0.00</td>\n",
              "      <td>1.000</td>\n",
              "      <td>1.00</td>\n",
              "      <td>1.00</td>\n",
              "      <td>1.00</td>\n",
              "    </tr>\n",
              "  </tbody>\n",
              "</table>\n",
              "</div>\n",
              "      <button class=\"colab-df-convert\" onclick=\"convertToInteractive('df-aa6ba7b8-844c-4ce0-82a4-2344e804e061')\"\n",
              "              title=\"Convert this dataframe to an interactive table.\"\n",
              "              style=\"display:none;\">\n",
              "        \n",
              "  <svg xmlns=\"http://www.w3.org/2000/svg\" height=\"24px\"viewBox=\"0 0 24 24\"\n",
              "       width=\"24px\">\n",
              "    <path d=\"M0 0h24v24H0V0z\" fill=\"none\"/>\n",
              "    <path d=\"M18.56 5.44l.94 2.06.94-2.06 2.06-.94-2.06-.94-.94-2.06-.94 2.06-2.06.94zm-11 1L8.5 8.5l.94-2.06 2.06-.94-2.06-.94L8.5 2.5l-.94 2.06-2.06.94zm10 10l.94 2.06.94-2.06 2.06-.94-2.06-.94-.94-2.06-.94 2.06-2.06.94z\"/><path d=\"M17.41 7.96l-1.37-1.37c-.4-.4-.92-.59-1.43-.59-.52 0-1.04.2-1.43.59L10.3 9.45l-7.72 7.72c-.78.78-.78 2.05 0 2.83L4 21.41c.39.39.9.59 1.41.59.51 0 1.02-.2 1.41-.59l7.78-7.78 2.81-2.81c.8-.78.8-2.07 0-2.86zM5.41 20L4 18.59l7.72-7.72 1.47 1.35L5.41 20z\"/>\n",
              "  </svg>\n",
              "      </button>\n",
              "      \n",
              "  <style>\n",
              "    .colab-df-container {\n",
              "      display:flex;\n",
              "      flex-wrap:wrap;\n",
              "      gap: 12px;\n",
              "    }\n",
              "\n",
              "    .colab-df-convert {\n",
              "      background-color: #E8F0FE;\n",
              "      border: none;\n",
              "      border-radius: 50%;\n",
              "      cursor: pointer;\n",
              "      display: none;\n",
              "      fill: #1967D2;\n",
              "      height: 32px;\n",
              "      padding: 0 0 0 0;\n",
              "      width: 32px;\n",
              "    }\n",
              "\n",
              "    .colab-df-convert:hover {\n",
              "      background-color: #E2EBFA;\n",
              "      box-shadow: 0px 1px 2px rgba(60, 64, 67, 0.3), 0px 1px 3px 1px rgba(60, 64, 67, 0.15);\n",
              "      fill: #174EA6;\n",
              "    }\n",
              "\n",
              "    [theme=dark] .colab-df-convert {\n",
              "      background-color: #3B4455;\n",
              "      fill: #D2E3FC;\n",
              "    }\n",
              "\n",
              "    [theme=dark] .colab-df-convert:hover {\n",
              "      background-color: #434B5C;\n",
              "      box-shadow: 0px 1px 3px 1px rgba(0, 0, 0, 0.15);\n",
              "      filter: drop-shadow(0px 1px 2px rgba(0, 0, 0, 0.3));\n",
              "      fill: #FFFFFF;\n",
              "    }\n",
              "  </style>\n",
              "\n",
              "      <script>\n",
              "        const buttonEl =\n",
              "          document.querySelector('#df-aa6ba7b8-844c-4ce0-82a4-2344e804e061 button.colab-df-convert');\n",
              "        buttonEl.style.display =\n",
              "          google.colab.kernel.accessAllowed ? 'block' : 'none';\n",
              "\n",
              "        async function convertToInteractive(key) {\n",
              "          const element = document.querySelector('#df-aa6ba7b8-844c-4ce0-82a4-2344e804e061');\n",
              "          const dataTable =\n",
              "            await google.colab.kernel.invokeFunction('convertToInteractive',\n",
              "                                                     [key], {});\n",
              "          if (!dataTable) return;\n",
              "\n",
              "          const docLinkHtml = 'Like what you see? Visit the ' +\n",
              "            '<a target=\"_blank\" href=https://colab.research.google.com/notebooks/data_table.ipynb>data table notebook</a>'\n",
              "            + ' to learn more about interactive tables.';\n",
              "          element.innerHTML = '';\n",
              "          dataTable['output_type'] = 'display_data';\n",
              "          await google.colab.output.renderOutput(dataTable, element);\n",
              "          const docLink = document.createElement('div');\n",
              "          docLink.innerHTML = docLinkHtml;\n",
              "          element.appendChild(docLink);\n",
              "        }\n",
              "      </script>\n",
              "    </div>\n",
              "  </div>\n",
              "  "
            ]
          },
          "metadata": {},
          "execution_count": 24
        }
      ]
    },
    {
      "cell_type": "code",
      "source": [
        "#Create a dataset with the numeric columns only\n",
        "numeric = df.select_dtypes(include=np.number)\n",
        "numeric_columns = numeric.columns\n",
        "\n",
        "#Display the numeric columns only\n",
        "numeric.head(10)\n"
      ],
      "metadata": {
        "colab": {
          "base_uri": "https://localhost:8080/",
          "height": 427
        },
        "id": "wpq0hSMCiZzC",
        "outputId": "6894aff5-7068-4bc4-ae1a-d3441cf2fbf2"
      },
      "execution_count": null,
      "outputs": [
        {
          "output_type": "execute_result",
          "data": {
            "text/plain": [
              "    AGE_years  BMI   HEIGHT_cm  WEIGHT_kg  WAIST_CIRCUMFERENCE_cm  \\\n",
              "2          62    28      175.0      82.92                      93   \n",
              "5          70    27      180.0      76.57                      95   \n",
              "6          65    21      189.0      63.37                      76   \n",
              "7          54    24      192.0      81.79                      87   \n",
              "8          49    23      189.0      74.41                      80   \n",
              "9          57    26      188.0      84.00                      91   \n",
              "10         61    23      180.0      71.71                      85   \n",
              "11         52    24      186.0      75.94                      81   \n",
              "12         54    27      177.0      75.32                      91   \n",
              "13         53    24      188.0      82.55                      87   \n",
              "\n",
              "    DIASTOLIC_BLOOD_PRESSURE_mmHg  SYSTOLIC_BLOOD_PRESSURE_mmHg  \\\n",
              "2                             118                         160.0   \n",
              "5                              83                         127.0   \n",
              "6                              93                         123.0   \n",
              "7                              81                         123.0   \n",
              "8                              95                         136.0   \n",
              "9                              82                         109.0   \n",
              "10                             78                         112.0   \n",
              "11                            103                         138.0   \n",
              "12                            102                         144.0   \n",
              "13                             78                         123.0   \n",
              "\n",
              "    WALK_DURATION_PER_DAY_MINUTES  COMPUTER_USE_TIME_PER_DAY_HOURS  \\\n",
              "2                              58                                6   \n",
              "5                              68                                5   \n",
              "6                              85                                3   \n",
              "7                              38                               10   \n",
              "8                              44                                3   \n",
              "9                              61                                0   \n",
              "10                            175                                5   \n",
              "11                             43                                5   \n",
              "12                             78                                0   \n",
              "13                             46                                2   \n",
              "\n",
              "    SMOKING_STATUS   req_intervention  \n",
              "2               0.0                 0  \n",
              "5               0.0                 0  \n",
              "6               0.0                 0  \n",
              "7               0.0                 0  \n",
              "8               0.0                 0  \n",
              "9               0.0                 0  \n",
              "10              0.0                 0  \n",
              "11              0.0                 0  \n",
              "12              0.0                 0  \n",
              "13              0.0                 0  "
            ],
            "text/html": [
              "\n",
              "  <div id=\"df-cb5bf04d-99f3-48fe-b26f-357670744b93\">\n",
              "    <div class=\"colab-df-container\">\n",
              "      <div>\n",
              "<style scoped>\n",
              "    .dataframe tbody tr th:only-of-type {\n",
              "        vertical-align: middle;\n",
              "    }\n",
              "\n",
              "    .dataframe tbody tr th {\n",
              "        vertical-align: top;\n",
              "    }\n",
              "\n",
              "    .dataframe thead th {\n",
              "        text-align: right;\n",
              "    }\n",
              "</style>\n",
              "<table border=\"1\" class=\"dataframe\">\n",
              "  <thead>\n",
              "    <tr style=\"text-align: right;\">\n",
              "      <th></th>\n",
              "      <th>AGE_years</th>\n",
              "      <th>BMI</th>\n",
              "      <th>HEIGHT_cm</th>\n",
              "      <th>WEIGHT_kg</th>\n",
              "      <th>WAIST_CIRCUMFERENCE_cm</th>\n",
              "      <th>DIASTOLIC_BLOOD_PRESSURE_mmHg</th>\n",
              "      <th>SYSTOLIC_BLOOD_PRESSURE_mmHg</th>\n",
              "      <th>WALK_DURATION_PER_DAY_MINUTES</th>\n",
              "      <th>COMPUTER_USE_TIME_PER_DAY_HOURS</th>\n",
              "      <th>SMOKING_STATUS</th>\n",
              "      <th>req_intervention</th>\n",
              "    </tr>\n",
              "  </thead>\n",
              "  <tbody>\n",
              "    <tr>\n",
              "      <th>2</th>\n",
              "      <td>62</td>\n",
              "      <td>28</td>\n",
              "      <td>175.0</td>\n",
              "      <td>82.92</td>\n",
              "      <td>93</td>\n",
              "      <td>118</td>\n",
              "      <td>160.0</td>\n",
              "      <td>58</td>\n",
              "      <td>6</td>\n",
              "      <td>0.0</td>\n",
              "      <td>0</td>\n",
              "    </tr>\n",
              "    <tr>\n",
              "      <th>5</th>\n",
              "      <td>70</td>\n",
              "      <td>27</td>\n",
              "      <td>180.0</td>\n",
              "      <td>76.57</td>\n",
              "      <td>95</td>\n",
              "      <td>83</td>\n",
              "      <td>127.0</td>\n",
              "      <td>68</td>\n",
              "      <td>5</td>\n",
              "      <td>0.0</td>\n",
              "      <td>0</td>\n",
              "    </tr>\n",
              "    <tr>\n",
              "      <th>6</th>\n",
              "      <td>65</td>\n",
              "      <td>21</td>\n",
              "      <td>189.0</td>\n",
              "      <td>63.37</td>\n",
              "      <td>76</td>\n",
              "      <td>93</td>\n",
              "      <td>123.0</td>\n",
              "      <td>85</td>\n",
              "      <td>3</td>\n",
              "      <td>0.0</td>\n",
              "      <td>0</td>\n",
              "    </tr>\n",
              "    <tr>\n",
              "      <th>7</th>\n",
              "      <td>54</td>\n",
              "      <td>24</td>\n",
              "      <td>192.0</td>\n",
              "      <td>81.79</td>\n",
              "      <td>87</td>\n",
              "      <td>81</td>\n",
              "      <td>123.0</td>\n",
              "      <td>38</td>\n",
              "      <td>10</td>\n",
              "      <td>0.0</td>\n",
              "      <td>0</td>\n",
              "    </tr>\n",
              "    <tr>\n",
              "      <th>8</th>\n",
              "      <td>49</td>\n",
              "      <td>23</td>\n",
              "      <td>189.0</td>\n",
              "      <td>74.41</td>\n",
              "      <td>80</td>\n",
              "      <td>95</td>\n",
              "      <td>136.0</td>\n",
              "      <td>44</td>\n",
              "      <td>3</td>\n",
              "      <td>0.0</td>\n",
              "      <td>0</td>\n",
              "    </tr>\n",
              "    <tr>\n",
              "      <th>9</th>\n",
              "      <td>57</td>\n",
              "      <td>26</td>\n",
              "      <td>188.0</td>\n",
              "      <td>84.00</td>\n",
              "      <td>91</td>\n",
              "      <td>82</td>\n",
              "      <td>109.0</td>\n",
              "      <td>61</td>\n",
              "      <td>0</td>\n",
              "      <td>0.0</td>\n",
              "      <td>0</td>\n",
              "    </tr>\n",
              "    <tr>\n",
              "      <th>10</th>\n",
              "      <td>61</td>\n",
              "      <td>23</td>\n",
              "      <td>180.0</td>\n",
              "      <td>71.71</td>\n",
              "      <td>85</td>\n",
              "      <td>78</td>\n",
              "      <td>112.0</td>\n",
              "      <td>175</td>\n",
              "      <td>5</td>\n",
              "      <td>0.0</td>\n",
              "      <td>0</td>\n",
              "    </tr>\n",
              "    <tr>\n",
              "      <th>11</th>\n",
              "      <td>52</td>\n",
              "      <td>24</td>\n",
              "      <td>186.0</td>\n",
              "      <td>75.94</td>\n",
              "      <td>81</td>\n",
              "      <td>103</td>\n",
              "      <td>138.0</td>\n",
              "      <td>43</td>\n",
              "      <td>5</td>\n",
              "      <td>0.0</td>\n",
              "      <td>0</td>\n",
              "    </tr>\n",
              "    <tr>\n",
              "      <th>12</th>\n",
              "      <td>54</td>\n",
              "      <td>27</td>\n",
              "      <td>177.0</td>\n",
              "      <td>75.32</td>\n",
              "      <td>91</td>\n",
              "      <td>102</td>\n",
              "      <td>144.0</td>\n",
              "      <td>78</td>\n",
              "      <td>0</td>\n",
              "      <td>0.0</td>\n",
              "      <td>0</td>\n",
              "    </tr>\n",
              "    <tr>\n",
              "      <th>13</th>\n",
              "      <td>53</td>\n",
              "      <td>24</td>\n",
              "      <td>188.0</td>\n",
              "      <td>82.55</td>\n",
              "      <td>87</td>\n",
              "      <td>78</td>\n",
              "      <td>123.0</td>\n",
              "      <td>46</td>\n",
              "      <td>2</td>\n",
              "      <td>0.0</td>\n",
              "      <td>0</td>\n",
              "    </tr>\n",
              "  </tbody>\n",
              "</table>\n",
              "</div>\n",
              "      <button class=\"colab-df-convert\" onclick=\"convertToInteractive('df-cb5bf04d-99f3-48fe-b26f-357670744b93')\"\n",
              "              title=\"Convert this dataframe to an interactive table.\"\n",
              "              style=\"display:none;\">\n",
              "        \n",
              "  <svg xmlns=\"http://www.w3.org/2000/svg\" height=\"24px\"viewBox=\"0 0 24 24\"\n",
              "       width=\"24px\">\n",
              "    <path d=\"M0 0h24v24H0V0z\" fill=\"none\"/>\n",
              "    <path d=\"M18.56 5.44l.94 2.06.94-2.06 2.06-.94-2.06-.94-.94-2.06-.94 2.06-2.06.94zm-11 1L8.5 8.5l.94-2.06 2.06-.94-2.06-.94L8.5 2.5l-.94 2.06-2.06.94zm10 10l.94 2.06.94-2.06 2.06-.94-2.06-.94-.94-2.06-.94 2.06-2.06.94z\"/><path d=\"M17.41 7.96l-1.37-1.37c-.4-.4-.92-.59-1.43-.59-.52 0-1.04.2-1.43.59L10.3 9.45l-7.72 7.72c-.78.78-.78 2.05 0 2.83L4 21.41c.39.39.9.59 1.41.59.51 0 1.02-.2 1.41-.59l7.78-7.78 2.81-2.81c.8-.78.8-2.07 0-2.86zM5.41 20L4 18.59l7.72-7.72 1.47 1.35L5.41 20z\"/>\n",
              "  </svg>\n",
              "      </button>\n",
              "      \n",
              "  <style>\n",
              "    .colab-df-container {\n",
              "      display:flex;\n",
              "      flex-wrap:wrap;\n",
              "      gap: 12px;\n",
              "    }\n",
              "\n",
              "    .colab-df-convert {\n",
              "      background-color: #E8F0FE;\n",
              "      border: none;\n",
              "      border-radius: 50%;\n",
              "      cursor: pointer;\n",
              "      display: none;\n",
              "      fill: #1967D2;\n",
              "      height: 32px;\n",
              "      padding: 0 0 0 0;\n",
              "      width: 32px;\n",
              "    }\n",
              "\n",
              "    .colab-df-convert:hover {\n",
              "      background-color: #E2EBFA;\n",
              "      box-shadow: 0px 1px 2px rgba(60, 64, 67, 0.3), 0px 1px 3px 1px rgba(60, 64, 67, 0.15);\n",
              "      fill: #174EA6;\n",
              "    }\n",
              "\n",
              "    [theme=dark] .colab-df-convert {\n",
              "      background-color: #3B4455;\n",
              "      fill: #D2E3FC;\n",
              "    }\n",
              "\n",
              "    [theme=dark] .colab-df-convert:hover {\n",
              "      background-color: #434B5C;\n",
              "      box-shadow: 0px 1px 3px 1px rgba(0, 0, 0, 0.15);\n",
              "      filter: drop-shadow(0px 1px 2px rgba(0, 0, 0, 0.3));\n",
              "      fill: #FFFFFF;\n",
              "    }\n",
              "  </style>\n",
              "\n",
              "      <script>\n",
              "        const buttonEl =\n",
              "          document.querySelector('#df-cb5bf04d-99f3-48fe-b26f-357670744b93 button.colab-df-convert');\n",
              "        buttonEl.style.display =\n",
              "          google.colab.kernel.accessAllowed ? 'block' : 'none';\n",
              "\n",
              "        async function convertToInteractive(key) {\n",
              "          const element = document.querySelector('#df-cb5bf04d-99f3-48fe-b26f-357670744b93');\n",
              "          const dataTable =\n",
              "            await google.colab.kernel.invokeFunction('convertToInteractive',\n",
              "                                                     [key], {});\n",
              "          if (!dataTable) return;\n",
              "\n",
              "          const docLinkHtml = 'Like what you see? Visit the ' +\n",
              "            '<a target=\"_blank\" href=https://colab.research.google.com/notebooks/data_table.ipynb>data table notebook</a>'\n",
              "            + ' to learn more about interactive tables.';\n",
              "          element.innerHTML = '';\n",
              "          dataTable['output_type'] = 'display_data';\n",
              "          await google.colab.output.renderOutput(dataTable, element);\n",
              "          const docLink = document.createElement('div');\n",
              "          docLink.innerHTML = docLinkHtml;\n",
              "          element.appendChild(docLink);\n",
              "        }\n",
              "      </script>\n",
              "    </div>\n",
              "  </div>\n",
              "  "
            ]
          },
          "metadata": {},
          "execution_count": 25
        }
      ]
    },
    {
      "cell_type": "code",
      "source": [
        "#View Types of columns\n",
        "df.dtypes"
      ],
      "metadata": {
        "colab": {
          "base_uri": "https://localhost:8080/"
        },
        "id": "0WXGf69Udp6A",
        "outputId": "e862618c-0235-4b86-d7ed-f63c3cbab98d"
      },
      "execution_count": null,
      "outputs": [
        {
          "output_type": "execute_result",
          "data": {
            "text/plain": [
              "SUBJECT_ID                          object\n",
              "AGE_years                            int64\n",
              "BMI                                  int64\n",
              "HEIGHT_cm                          float64\n",
              "WEIGHT_kg                          float64\n",
              "WAIST_CIRCUMFERENCE_cm               int64\n",
              "DIASTOLIC_BLOOD_PRESSURE_mmHg        int64\n",
              "SYSTOLIC_BLOOD_PRESSURE_mmHg       float64\n",
              "WALK_DURATION_PER_DAY_MINUTES        int64\n",
              "COMPUTER_USE_TIME_PER_DAY_HOURS      int64\n",
              "SMOKING_STATUS                     float64\n",
              "req_intervention                     int64\n",
              "dtype: object"
            ]
          },
          "metadata": {},
          "execution_count": 26
        }
      ]
    },
    {
      "cell_type": "code",
      "source": [
        "#Display columns in the numeric dataset\n",
        "numeric.columns"
      ],
      "metadata": {
        "colab": {
          "base_uri": "https://localhost:8080/"
        },
        "id": "fT1RDqZH4gY2",
        "outputId": "796d3e87-1c1c-4970-985b-3eab87a91e09"
      },
      "execution_count": null,
      "outputs": [
        {
          "output_type": "execute_result",
          "data": {
            "text/plain": [
              "Index(['AGE_years', 'BMI ', 'HEIGHT_cm', 'WEIGHT_kg', 'WAIST_CIRCUMFERENCE_cm',\n",
              "       'DIASTOLIC_BLOOD_PRESSURE_mmHg', 'SYSTOLIC_BLOOD_PRESSURE_mmHg',\n",
              "       'WALK_DURATION_PER_DAY_MINUTES', 'COMPUTER_USE_TIME_PER_DAY_HOURS',\n",
              "       'SMOKING_STATUS ', 'req_intervention'],\n",
              "      dtype='object')"
            ]
          },
          "metadata": {},
          "execution_count": 27
        }
      ]
    },
    {
      "cell_type": "code",
      "source": [
        "#Display Numeric columns\n",
        "numeric.head(10)"
      ],
      "metadata": {
        "colab": {
          "base_uri": "https://localhost:8080/",
          "height": 427
        },
        "id": "r0TtF6Xk45th",
        "outputId": "9ccb4cac-9e77-48c1-972f-eddd8fb21f20"
      },
      "execution_count": null,
      "outputs": [
        {
          "output_type": "execute_result",
          "data": {
            "text/plain": [
              "    AGE_years  BMI   HEIGHT_cm  WEIGHT_kg  WAIST_CIRCUMFERENCE_cm  \\\n",
              "2          62    28      175.0      82.92                      93   \n",
              "5          70    27      180.0      76.57                      95   \n",
              "6          65    21      189.0      63.37                      76   \n",
              "7          54    24      192.0      81.79                      87   \n",
              "8          49    23      189.0      74.41                      80   \n",
              "9          57    26      188.0      84.00                      91   \n",
              "10         61    23      180.0      71.71                      85   \n",
              "11         52    24      186.0      75.94                      81   \n",
              "12         54    27      177.0      75.32                      91   \n",
              "13         53    24      188.0      82.55                      87   \n",
              "\n",
              "    DIASTOLIC_BLOOD_PRESSURE_mmHg  SYSTOLIC_BLOOD_PRESSURE_mmHg  \\\n",
              "2                             118                         160.0   \n",
              "5                              83                         127.0   \n",
              "6                              93                         123.0   \n",
              "7                              81                         123.0   \n",
              "8                              95                         136.0   \n",
              "9                              82                         109.0   \n",
              "10                             78                         112.0   \n",
              "11                            103                         138.0   \n",
              "12                            102                         144.0   \n",
              "13                             78                         123.0   \n",
              "\n",
              "    WALK_DURATION_PER_DAY_MINUTES  COMPUTER_USE_TIME_PER_DAY_HOURS  \\\n",
              "2                              58                                6   \n",
              "5                              68                                5   \n",
              "6                              85                                3   \n",
              "7                              38                               10   \n",
              "8                              44                                3   \n",
              "9                              61                                0   \n",
              "10                            175                                5   \n",
              "11                             43                                5   \n",
              "12                             78                                0   \n",
              "13                             46                                2   \n",
              "\n",
              "    SMOKING_STATUS   req_intervention  \n",
              "2               0.0                 0  \n",
              "5               0.0                 0  \n",
              "6               0.0                 0  \n",
              "7               0.0                 0  \n",
              "8               0.0                 0  \n",
              "9               0.0                 0  \n",
              "10              0.0                 0  \n",
              "11              0.0                 0  \n",
              "12              0.0                 0  \n",
              "13              0.0                 0  "
            ],
            "text/html": [
              "\n",
              "  <div id=\"df-01c9eb5d-17d0-402e-811f-d593e0f850fc\">\n",
              "    <div class=\"colab-df-container\">\n",
              "      <div>\n",
              "<style scoped>\n",
              "    .dataframe tbody tr th:only-of-type {\n",
              "        vertical-align: middle;\n",
              "    }\n",
              "\n",
              "    .dataframe tbody tr th {\n",
              "        vertical-align: top;\n",
              "    }\n",
              "\n",
              "    .dataframe thead th {\n",
              "        text-align: right;\n",
              "    }\n",
              "</style>\n",
              "<table border=\"1\" class=\"dataframe\">\n",
              "  <thead>\n",
              "    <tr style=\"text-align: right;\">\n",
              "      <th></th>\n",
              "      <th>AGE_years</th>\n",
              "      <th>BMI</th>\n",
              "      <th>HEIGHT_cm</th>\n",
              "      <th>WEIGHT_kg</th>\n",
              "      <th>WAIST_CIRCUMFERENCE_cm</th>\n",
              "      <th>DIASTOLIC_BLOOD_PRESSURE_mmHg</th>\n",
              "      <th>SYSTOLIC_BLOOD_PRESSURE_mmHg</th>\n",
              "      <th>WALK_DURATION_PER_DAY_MINUTES</th>\n",
              "      <th>COMPUTER_USE_TIME_PER_DAY_HOURS</th>\n",
              "      <th>SMOKING_STATUS</th>\n",
              "      <th>req_intervention</th>\n",
              "    </tr>\n",
              "  </thead>\n",
              "  <tbody>\n",
              "    <tr>\n",
              "      <th>2</th>\n",
              "      <td>62</td>\n",
              "      <td>28</td>\n",
              "      <td>175.0</td>\n",
              "      <td>82.92</td>\n",
              "      <td>93</td>\n",
              "      <td>118</td>\n",
              "      <td>160.0</td>\n",
              "      <td>58</td>\n",
              "      <td>6</td>\n",
              "      <td>0.0</td>\n",
              "      <td>0</td>\n",
              "    </tr>\n",
              "    <tr>\n",
              "      <th>5</th>\n",
              "      <td>70</td>\n",
              "      <td>27</td>\n",
              "      <td>180.0</td>\n",
              "      <td>76.57</td>\n",
              "      <td>95</td>\n",
              "      <td>83</td>\n",
              "      <td>127.0</td>\n",
              "      <td>68</td>\n",
              "      <td>5</td>\n",
              "      <td>0.0</td>\n",
              "      <td>0</td>\n",
              "    </tr>\n",
              "    <tr>\n",
              "      <th>6</th>\n",
              "      <td>65</td>\n",
              "      <td>21</td>\n",
              "      <td>189.0</td>\n",
              "      <td>63.37</td>\n",
              "      <td>76</td>\n",
              "      <td>93</td>\n",
              "      <td>123.0</td>\n",
              "      <td>85</td>\n",
              "      <td>3</td>\n",
              "      <td>0.0</td>\n",
              "      <td>0</td>\n",
              "    </tr>\n",
              "    <tr>\n",
              "      <th>7</th>\n",
              "      <td>54</td>\n",
              "      <td>24</td>\n",
              "      <td>192.0</td>\n",
              "      <td>81.79</td>\n",
              "      <td>87</td>\n",
              "      <td>81</td>\n",
              "      <td>123.0</td>\n",
              "      <td>38</td>\n",
              "      <td>10</td>\n",
              "      <td>0.0</td>\n",
              "      <td>0</td>\n",
              "    </tr>\n",
              "    <tr>\n",
              "      <th>8</th>\n",
              "      <td>49</td>\n",
              "      <td>23</td>\n",
              "      <td>189.0</td>\n",
              "      <td>74.41</td>\n",
              "      <td>80</td>\n",
              "      <td>95</td>\n",
              "      <td>136.0</td>\n",
              "      <td>44</td>\n",
              "      <td>3</td>\n",
              "      <td>0.0</td>\n",
              "      <td>0</td>\n",
              "    </tr>\n",
              "    <tr>\n",
              "      <th>9</th>\n",
              "      <td>57</td>\n",
              "      <td>26</td>\n",
              "      <td>188.0</td>\n",
              "      <td>84.00</td>\n",
              "      <td>91</td>\n",
              "      <td>82</td>\n",
              "      <td>109.0</td>\n",
              "      <td>61</td>\n",
              "      <td>0</td>\n",
              "      <td>0.0</td>\n",
              "      <td>0</td>\n",
              "    </tr>\n",
              "    <tr>\n",
              "      <th>10</th>\n",
              "      <td>61</td>\n",
              "      <td>23</td>\n",
              "      <td>180.0</td>\n",
              "      <td>71.71</td>\n",
              "      <td>85</td>\n",
              "      <td>78</td>\n",
              "      <td>112.0</td>\n",
              "      <td>175</td>\n",
              "      <td>5</td>\n",
              "      <td>0.0</td>\n",
              "      <td>0</td>\n",
              "    </tr>\n",
              "    <tr>\n",
              "      <th>11</th>\n",
              "      <td>52</td>\n",
              "      <td>24</td>\n",
              "      <td>186.0</td>\n",
              "      <td>75.94</td>\n",
              "      <td>81</td>\n",
              "      <td>103</td>\n",
              "      <td>138.0</td>\n",
              "      <td>43</td>\n",
              "      <td>5</td>\n",
              "      <td>0.0</td>\n",
              "      <td>0</td>\n",
              "    </tr>\n",
              "    <tr>\n",
              "      <th>12</th>\n",
              "      <td>54</td>\n",
              "      <td>27</td>\n",
              "      <td>177.0</td>\n",
              "      <td>75.32</td>\n",
              "      <td>91</td>\n",
              "      <td>102</td>\n",
              "      <td>144.0</td>\n",
              "      <td>78</td>\n",
              "      <td>0</td>\n",
              "      <td>0.0</td>\n",
              "      <td>0</td>\n",
              "    </tr>\n",
              "    <tr>\n",
              "      <th>13</th>\n",
              "      <td>53</td>\n",
              "      <td>24</td>\n",
              "      <td>188.0</td>\n",
              "      <td>82.55</td>\n",
              "      <td>87</td>\n",
              "      <td>78</td>\n",
              "      <td>123.0</td>\n",
              "      <td>46</td>\n",
              "      <td>2</td>\n",
              "      <td>0.0</td>\n",
              "      <td>0</td>\n",
              "    </tr>\n",
              "  </tbody>\n",
              "</table>\n",
              "</div>\n",
              "      <button class=\"colab-df-convert\" onclick=\"convertToInteractive('df-01c9eb5d-17d0-402e-811f-d593e0f850fc')\"\n",
              "              title=\"Convert this dataframe to an interactive table.\"\n",
              "              style=\"display:none;\">\n",
              "        \n",
              "  <svg xmlns=\"http://www.w3.org/2000/svg\" height=\"24px\"viewBox=\"0 0 24 24\"\n",
              "       width=\"24px\">\n",
              "    <path d=\"M0 0h24v24H0V0z\" fill=\"none\"/>\n",
              "    <path d=\"M18.56 5.44l.94 2.06.94-2.06 2.06-.94-2.06-.94-.94-2.06-.94 2.06-2.06.94zm-11 1L8.5 8.5l.94-2.06 2.06-.94-2.06-.94L8.5 2.5l-.94 2.06-2.06.94zm10 10l.94 2.06.94-2.06 2.06-.94-2.06-.94-.94-2.06-.94 2.06-2.06.94z\"/><path d=\"M17.41 7.96l-1.37-1.37c-.4-.4-.92-.59-1.43-.59-.52 0-1.04.2-1.43.59L10.3 9.45l-7.72 7.72c-.78.78-.78 2.05 0 2.83L4 21.41c.39.39.9.59 1.41.59.51 0 1.02-.2 1.41-.59l7.78-7.78 2.81-2.81c.8-.78.8-2.07 0-2.86zM5.41 20L4 18.59l7.72-7.72 1.47 1.35L5.41 20z\"/>\n",
              "  </svg>\n",
              "      </button>\n",
              "      \n",
              "  <style>\n",
              "    .colab-df-container {\n",
              "      display:flex;\n",
              "      flex-wrap:wrap;\n",
              "      gap: 12px;\n",
              "    }\n",
              "\n",
              "    .colab-df-convert {\n",
              "      background-color: #E8F0FE;\n",
              "      border: none;\n",
              "      border-radius: 50%;\n",
              "      cursor: pointer;\n",
              "      display: none;\n",
              "      fill: #1967D2;\n",
              "      height: 32px;\n",
              "      padding: 0 0 0 0;\n",
              "      width: 32px;\n",
              "    }\n",
              "\n",
              "    .colab-df-convert:hover {\n",
              "      background-color: #E2EBFA;\n",
              "      box-shadow: 0px 1px 2px rgba(60, 64, 67, 0.3), 0px 1px 3px 1px rgba(60, 64, 67, 0.15);\n",
              "      fill: #174EA6;\n",
              "    }\n",
              "\n",
              "    [theme=dark] .colab-df-convert {\n",
              "      background-color: #3B4455;\n",
              "      fill: #D2E3FC;\n",
              "    }\n",
              "\n",
              "    [theme=dark] .colab-df-convert:hover {\n",
              "      background-color: #434B5C;\n",
              "      box-shadow: 0px 1px 3px 1px rgba(0, 0, 0, 0.15);\n",
              "      filter: drop-shadow(0px 1px 2px rgba(0, 0, 0, 0.3));\n",
              "      fill: #FFFFFF;\n",
              "    }\n",
              "  </style>\n",
              "\n",
              "      <script>\n",
              "        const buttonEl =\n",
              "          document.querySelector('#df-01c9eb5d-17d0-402e-811f-d593e0f850fc button.colab-df-convert');\n",
              "        buttonEl.style.display =\n",
              "          google.colab.kernel.accessAllowed ? 'block' : 'none';\n",
              "\n",
              "        async function convertToInteractive(key) {\n",
              "          const element = document.querySelector('#df-01c9eb5d-17d0-402e-811f-d593e0f850fc');\n",
              "          const dataTable =\n",
              "            await google.colab.kernel.invokeFunction('convertToInteractive',\n",
              "                                                     [key], {});\n",
              "          if (!dataTable) return;\n",
              "\n",
              "          const docLinkHtml = 'Like what you see? Visit the ' +\n",
              "            '<a target=\"_blank\" href=https://colab.research.google.com/notebooks/data_table.ipynb>data table notebook</a>'\n",
              "            + ' to learn more about interactive tables.';\n",
              "          element.innerHTML = '';\n",
              "          dataTable['output_type'] = 'display_data';\n",
              "          await google.colab.output.renderOutput(dataTable, element);\n",
              "          const docLink = document.createElement('div');\n",
              "          docLink.innerHTML = docLinkHtml;\n",
              "          element.appendChild(docLink);\n",
              "        }\n",
              "      </script>\n",
              "    </div>\n",
              "  </div>\n",
              "  "
            ]
          },
          "metadata": {},
          "execution_count": 28
        }
      ]
    },
    {
      "cell_type": "code",
      "source": [
        "#Splitting the data\n",
        "#split dataset in features and target variable\n",
        "feature_cols = ['AGE_years', 'BMI ','WAIST_CIRCUMFERENCE_cm',\n",
        "       'DIASTOLIC_BLOOD_PRESSURE_mmHg', 'SYSTOLIC_BLOOD_PRESSURE_mmHg',\n",
        "       'WALK_DURATION_PER_DAY_MINUTES', 'COMPUTER_USE_TIME_PER_DAY_HOURS',\n",
        "       'SMOKING_STATUS ']\n",
        "X = numeric[feature_cols] # Features\n",
        "y = numeric.req_intervention # Target variable\n"
      ],
      "metadata": {
        "id": "ARLPDZAA_M4_"
      },
      "execution_count": null,
      "outputs": []
    },
    {
      "cell_type": "code",
      "source": [
        "#Normalize the dataset\n",
        "from sklearn.preprocessing import StandardScaler\n",
        "scaler = StandardScaler()\n",
        "X1 = scaler.fit_transform(X)\n",
        "\n",
        "# split X and y into training and testing sets\n",
        "from sklearn.model_selection import train_test_split\n",
        "X1_train,X1_test,y_train,y_test=train_test_split(X1,y,test_size=0.3,random_state=0)\n"
      ],
      "metadata": {
        "id": "_YVCUeXaEhgo"
      },
      "execution_count": null,
      "outputs": []
    },
    {
      "cell_type": "code",
      "source": [
        "# # import the class\n",
        "# from sklearn.linear_model import LogisticRegression\n",
        "\n",
        "# # instantiate the model (using the default parameters)\n",
        "# logreg = LogisticRegression()\n",
        "# logreg.fit(X1_train, y_train)\n",
        "\n",
        "# y_pred=logreg.predict(X1_test)"
      ],
      "metadata": {
        "id": "TL-ZzRtwEvGC"
      },
      "execution_count": null,
      "outputs": []
    },
    {
      "cell_type": "code",
      "source": [
        "# from sklearn.metrics import accuracy_score\n",
        "# accuracy = accuracy_score(y_test,y_pred)\n",
        "# print (accuracy)\n",
        "\n",
        "# # import the metrics class\n",
        "# from sklearn import metrics\n",
        "# cnf_matrix = metrics.confusion_matrix(y_test, y_pred)\n",
        "# cnf_matrix"
      ],
      "metadata": {
        "colab": {
          "base_uri": "https://localhost:8080/"
        },
        "id": "MwFxfzi-E1kQ",
        "outputId": "49f1046e-87e6-4c28-fb97-f14283615303"
      },
      "execution_count": null,
      "outputs": [
        {
          "output_type": "stream",
          "name": "stdout",
          "text": [
            "0.8549707602339182\n"
          ]
        },
        {
          "output_type": "execute_result",
          "data": {
            "text/plain": [
              "array([[ 34, 101],\n",
              "       [ 23, 697]])"
            ]
          },
          "metadata": {},
          "execution_count": 32
        }
      ]
    },
    {
      "cell_type": "code",
      "source": [
        "# import required modules\n",
        "import numpy as np\n",
        "import matplotlib.pyplot as plt\n",
        "import seaborn as sns\n",
        "%matplotlib inline\n",
        "class_names=[0,1] # name  of classes\n",
        "fig, ax = plt.subplots()\n",
        "tick_marks = np.arange(len(class_names))\n",
        "plt.xticks(tick_marks, class_names)\n",
        "plt.yticks(tick_marks, class_names)\n",
        "# create heatmap\n",
        "sns.heatmap(pd.DataFrame(cnf_matrix), annot=True, cmap=\"YlGnBu\" ,fmt='g')\n",
        "ax.xaxis.set_label_position(\"top\")\n",
        "plt.tight_layout()\n",
        "plt.title('Confusion matrix', y=1.1)\n",
        "plt.ylabel('Actual label')\n",
        "plt.xlabel('Predicted label')\n"
      ],
      "metadata": {
        "colab": {
          "base_uri": "https://localhost:8080/",
          "height": 569
        },
        "id": "u4HV1Ht9FFbl",
        "outputId": "5790454b-f4ea-4a10-9a1b-6044cb201724"
      },
      "execution_count": null,
      "outputs": [
        {
          "output_type": "execute_result",
          "data": {
            "text/plain": [
              "Text(0.5, 427.9555555555555, 'Predicted label')"
            ]
          },
          "metadata": {},
          "execution_count": 33
        },
        {
          "output_type": "display_data",
          "data": {
            "text/plain": [
              "<Figure size 640x480 with 2 Axes>"
            ],
            "image/png": "[encoded data removed]"
          },
          "metadata": {}
        }
      ]
    },
    {
      "cell_type": "code",
      "source": [
        "print(\"Accuracy:\",metrics.accuracy_score(y_test, y_pred))\n",
        "print(\"Precision:\",metrics.precision_score(y_test, y_pred))\n",
        "print(\"Recall:\",metrics.recall_score(y_test, y_pred))\n",
        "print(\"F1 Score:\",metrics.f1_score(y_test, y_pred))"
      ],
      "metadata": {
        "colab": {
          "base_uri": "https://localhost:8080/"
        },
        "id": "Op4DSiwfFXDW",
        "outputId": "ce80b26a-cdc9-446e-a5fe-4e81ac99ec25"
      },
      "execution_count": null,
      "outputs": [
        {
          "output_type": "stream",
          "name": "stdout",
          "text": [
            "Accuracy: 0.8549707602339182\n",
            "Precision: 0.8734335839598998\n",
            "Recall: 0.9680555555555556\n",
            "F1 Score: 0.9183135704874835\n"
          ]
        }
      ]
    },
    {
      "cell_type": "code",
      "source": [
        "#import library to plot and Display ROC curve\n",
        "from sklearn import datasets, metrics, model_selection, svm\n",
        "from sklearn.metrics import RocCurveDisplay\n",
        "RocCurveDisplay.from_estimator(logreg, X1_test, y_test)\n",
        "plt.show()"
      ],
      "metadata": {
        "colab": {
          "base_uri": "https://localhost:8080/",
          "height": 449
        },
        "id": "qdCv29GqhV-F",
        "outputId": "432b8c62-120e-4aad-ff2d-50fc697a91aa"
      },
      "execution_count": null,
      "outputs": [
        {
          "output_type": "display_data",
          "data": {
            "text/plain": [
              "<Figure size 640x480 with 1 Axes>"
            ],
            "image/png": "[encoded data removed]"
          },
          "metadata": {}
        }
      ]
    },
    {
      "cell_type": "markdown",
      "source": [
        "# Decision Tree Classifier"
      ],
      "metadata": {
        "id": "jx_6Xqooacmq"
      }
    },
    {
      "cell_type": "code",
      "source": [
        "# Load libraries\n",
        "import pandas as pd\n",
        "from sklearn.tree import DecisionTreeClassifier # Import Decision Tree Classifier\n",
        "from sklearn.model_selection import train_test_split # Import train_test_split function\n",
        "from sklearn import metrics #Import scikit-learn metrics module for accuracy calculation"
      ],
      "metadata": {
        "id": "YDmcDWW6akzD"
      },
      "execution_count": null,
      "outputs": []
    },
    {
      "cell_type": "code",
      "source": [
        "#split dataset in features and target variable\n",
        "feature_columns = ['AGE_years', 'BMI ','WAIST_CIRCUMFERENCE_cm',\n",
        "       'DIASTOLIC_BLOOD_PRESSURE_mmHg', 'SYSTOLIC_BLOOD_PRESSURE_mmHg',\n",
        "       'WALK_DURATION_PER_DAY_MINUTES', 'COMPUTER_USE_TIME_PER_DAY_HOURS',\n",
        "       'SMOKING_STATUS ']\n",
        "X5 = numeric[feature_columns] # Features\n",
        "y5 = numeric.req_intervention # Target variable"
      ],
      "metadata": {
        "id": "ozeDb1uRamY0"
      },
      "execution_count": null,
      "outputs": []
    },
    {
      "cell_type": "code",
      "source": [
        "# Split dataset into training set and test set\n",
        "X5_train, X5_test, y5_train, y5_test = train_test_split(X5, y5, test_size=0.3, random_state=1) # 70% training and 30% test"
      ],
      "metadata": {
        "id": "kyP5ZIOMaxrZ"
      },
      "execution_count": null,
      "outputs": []
    },
    {
      "cell_type": "code",
      "source": [
        "# Create Decision Tree classifer object\n",
        "clf = DecisionTreeClassifier()\n",
        "\n",
        "# Train Decision Tree Classifer\n",
        "clf = clf.fit(X5_train,y5_train)\n",
        "\n",
        "#Predict the response for test dataset\n",
        "y5_pred = clf.predict(X5_test)\n"
      ],
      "metadata": {
        "id": "snlXhlUZa1NI"
      },
      "execution_count": null,
      "outputs": []
    },
    {
      "cell_type": "code",
      "source": [
        "# Model Accuracy, how often is the classifier correct?\n",
        "print(\"Accuracy:\",metrics.accuracy_score(y5_test, y5_pred))"
      ],
      "metadata": {
        "colab": {
          "base_uri": "https://localhost:8080/"
        },
        "id": "244Qzxf7a4Ja",
        "outputId": "227fa58f-ef8d-48fd-d6e4-465428a97d32"
      },
      "execution_count": null,
      "outputs": [
        {
          "output_type": "stream",
          "name": "stdout",
          "text": [
            "Accuracy: 0.7684210526315789\n"
          ]
        }
      ]
    },
    {
      "cell_type": "code",
      "source": [
        "#Optimising Decision Tree Performance\n",
        "# Create Decision Tree classifer object\n",
        "clf = DecisionTreeClassifier(criterion=\"entropy\", max_depth=3)\n",
        "\n",
        "# Train Decision Tree Classifer\n",
        "clf = clf.fit(X5_train,y5_train)\n",
        "\n",
        "#Predict the response for test dataset\n",
        "y5_pred = clf.predict(X5_test)\n",
        "\n",
        "# Model Accuracy, how often is the classifier correct?\n",
        "print(\"Accuracy:\",metrics.accuracy_score(y5_test, y5_pred))"
      ],
      "metadata": {
        "colab": {
          "base_uri": "https://localhost:8080/"
        },
        "id": "y0VO_uaca6wk",
        "outputId": "c01b44ea-feab-4922-fb0f-29531c60543d"
      },
      "execution_count": null,
      "outputs": [
        {
          "output_type": "stream",
          "name": "stdout",
          "text": [
            "Accuracy: 0.8654970760233918\n"
          ]
        }
      ]
    },
    {
      "cell_type": "code",
      "source": [
        "from sklearn.metrics import RocCurveDisplay\n",
        "RocCurveDisplay.from_estimator(clf, X5_test, y5_test)"
      ],
      "metadata": {
        "colab": {
          "base_uri": "https://localhost:8080/",
          "height": 467
        },
        "id": "ASeug94-3Mza",
        "outputId": "2e8556c8-1a22-4e15-c79e-5ebb9f3a7cdc"
      },
      "execution_count": null,
      "outputs": [
        {
          "output_type": "execute_result",
          "data": {
            "text/plain": [
              "<sklearn.metrics._plot.roc_curve.RocCurveDisplay at 0x7f37efca42e0>"
            ]
          },
          "metadata": {},
          "execution_count": 42
        },
        {
          "output_type": "display_data",
          "data": {
            "text/plain": [
              "<Figure size 640x480 with 1 Axes>"
            ],
            "image/png": "[encoded data removed]"
          },
          "metadata": {}
        }
      ]
    },
    {
      "cell_type": "code",
      "source": [
        "#Visualizing Decision Trees\n",
        "from sklearn import tree\n",
        "from matplotlib import pyplot as plt\n",
        "fig = plt.figure(figsize=(25,20))\n",
        "_ = tree.plot_tree(clf,\n",
        "                   feature_names=feature_columns,\n",
        "                   class_names=['0','1'],\n",
        "                   filled=True)\n"
      ],
      "metadata": {
        "colab": {
          "base_uri": "https://localhost:8080/",
          "height": 1000
        },
        "id": "BtBajjYga-qD",
        "outputId": "6e50289c-aa4b-44d2-8771-8995aedf5ee5"
      },
      "execution_count": null,
      "outputs": [
        {
          "output_type": "display_data",
          "data": {
            "text/plain": [
              "<Figure size 2500x2000 with 1 Axes>"
            ],
            "image/png": "[encoded data removed]"
          },
          "metadata": {}
        }
      ]
    },
    {
      "cell_type": "code",
      "source": [
        "print(\"Accuracy:\",metrics.accuracy_score(y_test, y_pred))\n",
        "print(\"Precision:\",metrics.precision_score(y_test, y_pred))\n",
        "print(\"Recall:\",metrics.recall_score(y_test, y_pred))\n",
        "print(\"F1 Score:\",metrics.f1_score(y_test, y_pred))"
      ],
      "metadata": {
        "colab": {
          "base_uri": "https://localhost:8080/"
        },
        "id": "RZo0u_WxJJGL",
        "outputId": "11c24b7f-d79d-48a0-8ff0-2042cb35f372"
      },
      "execution_count": null,
      "outputs": [
        {
          "output_type": "stream",
          "name": "stdout",
          "text": [
            "Accuracy: 0.8549707602339182\n",
            "Precision: 0.8734335839598998\n",
            "Recall: 0.9680555555555556\n",
            "F1 Score: 0.9183135704874835\n"
          ]
        }
      ]
    },
    {
      "cell_type": "markdown",
      "source": [
        "# KNN Classifier"
      ],
      "metadata": {
        "id": "A4ylYMs4hZvu"
      }
    },
    {
      "cell_type": "code",
      "source": [
        "#Splitting the data\n",
        "#split dataset in features and target variable\n",
        "feature_cols = ['AGE_years', 'BMI ','WAIST_CIRCUMFERENCE_cm',\n",
        "       'DIASTOLIC_BLOOD_PRESSURE_mmHg', 'SYSTOLIC_BLOOD_PRESSURE_mmHg',\n",
        "       'WALK_DURATION_PER_DAY_MINUTES', 'COMPUTER_USE_TIME_PER_DAY_HOURS',\n",
        "       'SMOKING_STATUS ']\n",
        "x = numeric[feature_cols] # Features\n",
        "y = numeric['req_intervention'].values # Target variable"
      ],
      "metadata": {
        "id": "WAPsqZVTuBuo"
      },
      "execution_count": null,
      "outputs": []
    },
    {
      "cell_type": "code",
      "source": [
        "# Normalization:\n",
        "x = (x - np.min(x)) / (np.max(x) - np.min(x))"
      ],
      "metadata": {
        "colab": {
          "base_uri": "https://localhost:8080/"
        },
        "id": "fKvp4FtNF4S2",
        "outputId": "0232ca84-8f67-4906-b3df-0924204fb565"
      },
      "execution_count": null,
      "outputs": [
        {
          "output_type": "stream",
          "name": "stderr",
          "text": [
            "/usr/local/lib/python3.9/dist-packages/numpy/core/fromnumeric.py:84: FutureWarning: In a future version, DataFrame.min(axis=None) will return a scalar min over the entire DataFrame. To retain the old behavior, use 'frame.min(axis=0)' or just 'frame.min()'\n",
            "  return reduction(axis=axis, out=out, **passkwargs)\n",
            "/usr/local/lib/python3.9/dist-packages/numpy/core/fromnumeric.py:84: FutureWarning: In a future version, DataFrame.max(axis=None) will return a scalar max over the entire DataFrame. To retain the old behavior, use 'frame.max(axis=0)' or just 'frame.max()'\n",
            "  return reduction(axis=axis, out=out, **passkwargs)\n"
          ]
        }
      ]
    },
    {
      "cell_type": "code",
      "source": [
        "from sklearn.model_selection import train_test_split\n",
        "\n",
        "#split dataset into train and test data\n",
        "x_train, x_test, y_train, y_test = train_test_split(x, y, test_size=0.2, random_state=1, stratify=y)"
      ],
      "metadata": {
        "id": "WgMDsqu7Sm7V"
      },
      "execution_count": null,
      "outputs": []
    },
    {
      "cell_type": "code",
      "source": [
        "from sklearn.neighbors import KNeighborsClassifier\n",
        "# Create KNN classifier\n",
        "knn = KNeighborsClassifier(n_neighbors = 3)\n",
        "# Fit the classifier to the data\n",
        "knn.fit(x_train,y_train)\n"
      ],
      "metadata": {
        "colab": {
          "base_uri": "https://localhost:8080/",
          "height": 75
        },
        "id": "QGyAT16WVAeB",
        "outputId": "8e9f9a5e-bf15-4f1b-80e4-b54ab89820c6"
      },
      "execution_count": null,
      "outputs": [
        {
          "output_type": "execute_result",
          "data": {
            "text/plain": [
              "KNeighborsClassifier(n_neighbors=3)"
            ],
            "text/html": [
              "<style>#sk-container-id-1 {color: black;background-color: white;}#sk-container-id-1 pre{padding: 0;}#sk-container-id-1 div.sk-toggleable {background-color: white;}#sk-container-id-1 label.sk-toggleable__label {cursor: pointer;display: block;width: 100%;margin-bottom: 0;padding: 0.3em;box-sizing: border-box;text-align: center;}#sk-container-id-1 label.sk-toggleable__label-arrow:before {content: \"▸\";float: left;margin-right: 0.25em;color: #696969;}#sk-container-id-1 label.sk-toggleable__label-arrow:hover:before {color: black;}#sk-container-id-1 div.sk-estimator:hover label.sk-toggleable__label-arrow:before {color: black;}#sk-container-id-1 div.sk-toggleable__content {max-height: 0;max-width: 0;overflow: hidden;text-align: left;background-color: #f0f8ff;}#sk-container-id-1 div.sk-toggleable__content pre {margin: 0.2em;color: black;border-radius: 0.25em;background-color: #f0f8ff;}#sk-container-id-1 input.sk-toggleable__control:checked~div.sk-toggleable__content {max-height: 200px;max-width: 100%;overflow: auto;}#sk-container-id-1 input.sk-toggleable__control:checked~label.sk-toggleable__label-arrow:before {content: \"▾\";}#sk-container-id-1 div.sk-estimator input.sk-toggleable__control:checked~label.sk-toggleable__label {background-color: #d4ebff;}#sk-container-id-1 div.sk-label input.sk-toggleable__control:checked~label.sk-toggleable__label {background-color: #d4ebff;}#sk-container-id-1 input.sk-hidden--visually {border: 0;clip: rect(1px 1px 1px 1px);clip: rect(1px, 1px, 1px, 1px);height: 1px;margin: -1px;overflow: hidden;padding: 0;position: absolute;width: 1px;}#sk-container-id-1 div.sk-estimator {font-family: monospace;background-color: #f0f8ff;border: 1px dotted black;border-radius: 0.25em;box-sizing: border-box;margin-bottom: 0.5em;}#sk-container-id-1 div.sk-estimator:hover {background-color: #d4ebff;}#sk-container-id-1 div.sk-parallel-item::after {content: \"\";width: 100%;border-bottom: 1px solid gray;flex-grow: 1;}#sk-container-id-1 div.sk-label:hover label.sk-toggleable__label {background-color: #d4ebff;}#sk-container-id-1 div.sk-serial::before {content: \"\";position: absolute;border-left: 1px solid gray;box-sizing: border-box;top: 0;bottom: 0;left: 50%;z-index: 0;}#sk-container-id-1 div.sk-serial {display: flex;flex-direction: column;align-items: center;background-color: white;padding-right: 0.2em;padding-left: 0.2em;position: relative;}#sk-container-id-1 div.sk-item {position: relative;z-index: 1;}#sk-container-id-1 div.sk-parallel {display: flex;align-items: stretch;justify-content: center;background-color: white;position: relative;}#sk-container-id-1 div.sk-item::before, #sk-container-id-1 div.sk-parallel-item::before {content: \"\";position: absolute;border-left: 1px solid gray;box-sizing: border-box;top: 0;bottom: 0;left: 50%;z-index: -1;}#sk-container-id-1 div.sk-parallel-item {display: flex;flex-direction: column;z-index: 1;position: relative;background-color: white;}#sk-container-id-1 div.sk-parallel-item:first-child::after {align-self: flex-end;width: 50%;}#sk-container-id-1 div.sk-parallel-item:last-child::after {align-self: flex-start;width: 50%;}#sk-container-id-1 div.sk-parallel-item:only-child::after {width: 0;}#sk-container-id-1 div.sk-dashed-wrapped {border: 1px dashed gray;margin: 0 0.4em 0.5em 0.4em;box-sizing: border-box;padding-bottom: 0.4em;background-color: white;}#sk-container-id-1 div.sk-label label {font-family: monospace;font-weight: bold;display: inline-block;line-height: 1.2em;}#sk-container-id-1 div.sk-label-container {text-align: center;}#sk-container-id-1 div.sk-container {/* jupyter's `normalize.less` sets `[hidden] { display: none; }` but bootstrap.min.css set `[hidden] { display: none !important; }` so we also need the `!important` here to be able to override the default hidden behavior on the sphinx rendered scikit-learn.org. See: https://github.com/scikit-learn/scikit-learn/issues/21755 */display: inline-block !important;position: relative;}#sk-container-id-1 div.sk-text-repr-fallback {display: none;}</style><div id=\"sk-container-id-1\" class=\"sk-top-container\"><div class=\"sk-text-repr-fallback\"><pre>KNeighborsClassifier(n_neighbors=3)</pre><b>In a Jupyter environment, please rerun this cell to show the HTML representation or trust the notebook. <br />On GitHub, the HTML representation is unable to render, please try loading this page with nbviewer.org.</b></div><div class=\"sk-container\" hidden><div class=\"sk-item\"><div class=\"sk-estimator sk-toggleable\"><input class=\"sk-toggleable__control sk-hidden--visually\" id=\"sk-estimator-id-1\" type=\"checkbox\" checked><label for=\"sk-estimator-id-1\" class=\"sk-toggleable__label sk-toggleable__label-arrow\">KNeighborsClassifier</label><div class=\"sk-toggleable__content\"><pre>KNeighborsClassifier(n_neighbors=3)</pre></div></div></div></div></div>"
            ]
          },
          "metadata": {},
          "execution_count": 48
        }
      ]
    },
    {
      "cell_type": "code",
      "source": [
        "#show first 5 model predictions on the test data\n",
        "knn.predict(x_test)[0:5]"
      ],
      "metadata": {
        "colab": {
          "base_uri": "https://localhost:8080/"
        },
        "id": "IwD-IwgrVBNh",
        "outputId": "02068ca2-02ab-4363-e03a-bbfd937a7391"
      },
      "execution_count": null,
      "outputs": [
        {
          "output_type": "execute_result",
          "data": {
            "text/plain": [
              "array([1, 1, 1, 1, 1])"
            ]
          },
          "metadata": {},
          "execution_count": 49
        }
      ]
    },
    {
      "cell_type": "code",
      "source": [
        "#check accuracy of our model on the test data\n",
        "knn.score(x_test, y_test)"
      ],
      "metadata": {
        "colab": {
          "base_uri": "https://localhost:8080/"
        },
        "id": "wD-BsDYSVFBM",
        "outputId": "60c55a18-2f05-4df2-82a2-dd4076adeabb"
      },
      "execution_count": null,
      "outputs": [
        {
          "output_type": "execute_result",
          "data": {
            "text/plain": [
              "0.8333333333333334"
            ]
          },
          "metadata": {},
          "execution_count": 50
        }
      ]
    },
    {
      "cell_type": "code",
      "source": [
        "# Calculating error for K values between 1 and 40\n",
        "error = []\n",
        "import numpy as np\n",
        "import matplotlib.pyplot as plt\n",
        "# Calculating error for K values between 1 and 40\n",
        "for i in range(1, 40):\n",
        "    knn = KNeighborsClassifier(n_neighbors=i)\n",
        "    knn.fit(x_train, y_train)\n",
        "    pred_i = knn.predict(x_test)\n",
        "    error.append(np.mean(pred_i != y_test))\n",
        "plt.figure(figsize=(12, 6))\n",
        "plt.plot(range(1, 40), error, color='red', linestyle='dashed', marker='o',\n",
        "         markerfacecolor='blue', markersize=10)\n",
        "plt.title('Error Rate K Value')\n",
        "plt.xlabel('K Value')\n",
        "plt.ylabel('Mean Error')\n"
      ],
      "metadata": {
        "colab": {
          "base_uri": "https://localhost:8080/",
          "height": 582
        },
        "id": "eHt7MJF1VaEN",
        "outputId": "4285df2c-e4ab-4d24-a785-9d343c57c9bb"
      },
      "execution_count": null,
      "outputs": [
        {
          "output_type": "execute_result",
          "data": {
            "text/plain": [
              "Text(0, 0.5, 'Mean Error')"
            ]
          },
          "metadata": {},
          "execution_count": 51
        },
        {
          "output_type": "display_data",
          "data": {
            "text/plain": [
              "<Figure size 1200x600 with 1 Axes>"
            ],
            "image/png": "[encoded data removed]"
          },
          "metadata": {}
        }
      ]
    },
    {
      "cell_type": "code",
      "source": [
        "from sklearn.model_selection import cross_val_score\n",
        "import numpy as np\n",
        "#create a new KNN model\n",
        "knn_cv = KNeighborsClassifier(n_neighbors=2)\n",
        "#train model with cv of 5\n",
        "cv_scores = cross_val_score(knn_cv, x, y, cv=5)\n",
        "#print each cv score (accuracy) and average them\n",
        "print(cv_scores)\n",
        "print('cv_scores mean:{}'.format(np.mean(cv_scores)))\n"
      ],
      "metadata": {
        "colab": {
          "base_uri": "https://localhost:8080/"
        },
        "id": "b6WC49WGWQ1I",
        "outputId": "9a14b994-20a2-4d37-a15e-e4eca6d09f57"
      },
      "execution_count": null,
      "outputs": [
        {
          "output_type": "stream",
          "name": "stdout",
          "text": [
            "[0.58421053 0.66666667 0.76625659 0.78910369 0.82952548]\n",
            "cv_scores mean:0.7271525914963155\n"
          ]
        }
      ]
    },
    {
      "cell_type": "code",
      "source": [
        "from sklearn.model_selection import GridSearchCV\n",
        "#create new a knn model\n",
        "knn2 = KNeighborsClassifier()\n",
        "#create a dictionary of all values we want to test for n_neighbors\n",
        "param_grid = {'n_neighbors': np.arange(1, 25)}\n",
        "#use gridsearch to test all values for n_neighbors\n",
        "knn_gscv = GridSearchCV(knn2, param_grid, cv=5)\n",
        "#fit model to data\n",
        "knn_gscv.fit(x, y)\n"
      ],
      "metadata": {
        "colab": {
          "base_uri": "https://localhost:8080/",
          "height": 118
        },
        "id": "Xq5bMDhgWR1f",
        "outputId": "d618f450-c0bd-4b19-9e67-9337575bc8d0"
      },
      "execution_count": null,
      "outputs": [
        {
          "output_type": "execute_result",
          "data": {
            "text/plain": [
              "GridSearchCV(cv=5, estimator=KNeighborsClassifier(),\n",
              "             param_grid={'n_neighbors': array([ 1,  2,  3,  4,  5,  6,  7,  8,  9, 10, 11, 12, 13, 14, 15, 16, 17,\n",
              "       18, 19, 20, 21, 22, 23, 24])})"
            ],
            "text/html": [
              "<style>#sk-container-id-2 {color: black;background-color: white;}#sk-container-id-2 pre{padding: 0;}#sk-container-id-2 div.sk-toggleable {background-color: white;}#sk-container-id-2 label.sk-toggleable__label {cursor: pointer;display: block;width: 100%;margin-bottom: 0;padding: 0.3em;box-sizing: border-box;text-align: center;}#sk-container-id-2 label.sk-toggleable__label-arrow:before {content: \"▸\";float: left;margin-right: 0.25em;color: #696969;}#sk-container-id-2 label.sk-toggleable__label-arrow:hover:before {color: black;}#sk-container-id-2 div.sk-estimator:hover label.sk-toggleable__label-arrow:before {color: black;}#sk-container-id-2 div.sk-toggleable__content {max-height: 0;max-width: 0;overflow: hidden;text-align: left;background-color: #f0f8ff;}#sk-container-id-2 div.sk-toggleable__content pre {margin: 0.2em;color: black;border-radius: 0.25em;background-color: #f0f8ff;}#sk-container-id-2 input.sk-toggleable__control:checked~div.sk-toggleable__content {max-height: 200px;max-width: 100%;overflow: auto;}#sk-container-id-2 input.sk-toggleable__control:checked~label.sk-toggleable__label-arrow:before {content: \"▾\";}#sk-container-id-2 div.sk-estimator input.sk-toggleable__control:checked~label.sk-toggleable__label {background-color: #d4ebff;}#sk-container-id-2 div.sk-label input.sk-toggleable__control:checked~label.sk-toggleable__label {background-color: #d4ebff;}#sk-container-id-2 input.sk-hidden--visually {border: 0;clip: rect(1px 1px 1px 1px);clip: rect(1px, 1px, 1px, 1px);height: 1px;margin: -1px;overflow: hidden;padding: 0;position: absolute;width: 1px;}#sk-container-id-2 div.sk-estimator {font-family: monospace;background-color: #f0f8ff;border: 1px dotted black;border-radius: 0.25em;box-sizing: border-box;margin-bottom: 0.5em;}#sk-container-id-2 div.sk-estimator:hover {background-color: #d4ebff;}#sk-container-id-2 div.sk-parallel-item::after {content: \"\";width: 100%;border-bottom: 1px solid gray;flex-grow: 1;}#sk-container-id-2 div.sk-label:hover label.sk-toggleable__label {background-color: #d4ebff;}#sk-container-id-2 div.sk-serial::before {content: \"\";position: absolute;border-left: 1px solid gray;box-sizing: border-box;top: 0;bottom: 0;left: 50%;z-index: 0;}#sk-container-id-2 div.sk-serial {display: flex;flex-direction: column;align-items: center;background-color: white;padding-right: 0.2em;padding-left: 0.2em;position: relative;}#sk-container-id-2 div.sk-item {position: relative;z-index: 1;}#sk-container-id-2 div.sk-parallel {display: flex;align-items: stretch;justify-content: center;background-color: white;position: relative;}#sk-container-id-2 div.sk-item::before, #sk-container-id-2 div.sk-parallel-item::before {content: \"\";position: absolute;border-left: 1px solid gray;box-sizing: border-box;top: 0;bottom: 0;left: 50%;z-index: -1;}#sk-container-id-2 div.sk-parallel-item {display: flex;flex-direction: column;z-index: 1;position: relative;background-color: white;}#sk-container-id-2 div.sk-parallel-item:first-child::after {align-self: flex-end;width: 50%;}#sk-container-id-2 div.sk-parallel-item:last-child::after {align-self: flex-start;width: 50%;}#sk-container-id-2 div.sk-parallel-item:only-child::after {width: 0;}#sk-container-id-2 div.sk-dashed-wrapped {border: 1px dashed gray;margin: 0 0.4em 0.5em 0.4em;box-sizing: border-box;padding-bottom: 0.4em;background-color: white;}#sk-container-id-2 div.sk-label label {font-family: monospace;font-weight: bold;display: inline-block;line-height: 1.2em;}#sk-container-id-2 div.sk-label-container {text-align: center;}#sk-container-id-2 div.sk-container {/* jupyter's `normalize.less` sets `[hidden] { display: none; }` but bootstrap.min.css set `[hidden] { display: none !important; }` so we also need the `!important` here to be able to override the default hidden behavior on the sphinx rendered scikit-learn.org. See: https://github.com/scikit-learn/scikit-learn/issues/21755 */display: inline-block !important;position: relative;}#sk-container-id-2 div.sk-text-repr-fallback {display: none;}</style><div id=\"sk-container-id-2\" class=\"sk-top-container\"><div class=\"sk-text-repr-fallback\"><pre>GridSearchCV(cv=5, estimator=KNeighborsClassifier(),\n",
              "             param_grid={&#x27;n_neighbors&#x27;: array([ 1,  2,  3,  4,  5,  6,  7,  8,  9, 10, 11, 12, 13, 14, 15, 16, 17,\n",
              "       18, 19, 20, 21, 22, 23, 24])})</pre><b>In a Jupyter environment, please rerun this cell to show the HTML representation or trust the notebook. <br />On GitHub, the HTML representation is unable to render, please try loading this page with nbviewer.org.</b></div><div class=\"sk-container\" hidden><div class=\"sk-item sk-dashed-wrapped\"><div class=\"sk-label-container\"><div class=\"sk-label sk-toggleable\"><input class=\"sk-toggleable__control sk-hidden--visually\" id=\"sk-estimator-id-2\" type=\"checkbox\" ><label for=\"sk-estimator-id-2\" class=\"sk-toggleable__label sk-toggleable__label-arrow\">GridSearchCV</label><div class=\"sk-toggleable__content\"><pre>GridSearchCV(cv=5, estimator=KNeighborsClassifier(),\n",
              "             param_grid={&#x27;n_neighbors&#x27;: array([ 1,  2,  3,  4,  5,  6,  7,  8,  9, 10, 11, 12, 13, 14, 15, 16, 17,\n",
              "       18, 19, 20, 21, 22, 23, 24])})</pre></div></div></div><div class=\"sk-parallel\"><div class=\"sk-parallel-item\"><div class=\"sk-item\"><div class=\"sk-label-container\"><div class=\"sk-label sk-toggleable\"><input class=\"sk-toggleable__control sk-hidden--visually\" id=\"sk-estimator-id-3\" type=\"checkbox\" ><label for=\"sk-estimator-id-3\" class=\"sk-toggleable__label sk-toggleable__label-arrow\">estimator: KNeighborsClassifier</label><div class=\"sk-toggleable__content\"><pre>KNeighborsClassifier()</pre></div></div></div><div class=\"sk-serial\"><div class=\"sk-item\"><div class=\"sk-estimator sk-toggleable\"><input class=\"sk-toggleable__control sk-hidden--visually\" id=\"sk-estimator-id-4\" type=\"checkbox\" ><label for=\"sk-estimator-id-4\" class=\"sk-toggleable__label sk-toggleable__label-arrow\">KNeighborsClassifier</label><div class=\"sk-toggleable__content\"><pre>KNeighborsClassifier()</pre></div></div></div></div></div></div></div></div></div></div>"
            ]
          },
          "metadata": {},
          "execution_count": 53
        }
      ]
    },
    {
      "cell_type": "code",
      "source": [
        "#check top performing n_neighbors value\n",
        "knn_gscv.best_params_"
      ],
      "metadata": {
        "colab": {
          "base_uri": "https://localhost:8080/"
        },
        "id": "NT_bRGeLWV4X",
        "outputId": "012fc991-4e43-4139-adaf-f7a0f5b57c38"
      },
      "execution_count": null,
      "outputs": [
        {
          "output_type": "execute_result",
          "data": {
            "text/plain": [
              "{'n_neighbors': 17}"
            ]
          },
          "metadata": {},
          "execution_count": 54
        }
      ]
    },
    {
      "cell_type": "code",
      "source": [
        "#check mean score for the top performing value of n_neighbors\n",
        "knn_gscv.best_score_"
      ],
      "metadata": {
        "colab": {
          "base_uri": "https://localhost:8080/"
        },
        "id": "upe7JM7OWbTj",
        "outputId": "f5bbb539-1469-4323-f9a8-8bcdbc6875b0"
      },
      "execution_count": null,
      "outputs": [
        {
          "output_type": "execute_result",
          "data": {
            "text/plain": [
              "0.8426528535750624"
            ]
          },
          "metadata": {},
          "execution_count": 55
        }
      ]
    },
    {
      "cell_type": "code",
      "source": [
        "from sklearn.model_selection import cross_val_score\n",
        "import numpy as np\n",
        "#create a new KNN model\n",
        "knn_cv = KNeighborsClassifier(n_neighbors=2)\n",
        "#train model with cv of 5\n",
        "cv_scores = cross_val_score(knn_cv, x, y, cv=5)\n",
        "#print each cv score (accuracy) and average them\n",
        "print(cv_scores)\n",
        "print('cv_scores mean:{}'.format(np.mean(cv_scores)))"
      ],
      "metadata": {
        "id": "dxVt0h5EWkuq",
        "colab": {
          "base_uri": "https://localhost:8080/"
        },
        "outputId": "26ba4fd8-0c09-49a4-8f81-a1677eb56237"
      },
      "execution_count": null,
      "outputs": [
        {
          "output_type": "stream",
          "name": "stdout",
          "text": [
            "[0.58421053 0.66666667 0.76625659 0.78910369 0.82952548]\n",
            "cv_scores mean:0.7271525914963155\n"
          ]
        }
      ]
    },
    {
      "cell_type": "code",
      "source": [
        "from sklearn.model_selection import GridSearchCV\n",
        "#create new a knn model\n",
        "knn2 = KNeighborsClassifier()\n",
        "#create a dictionary of all values we want to test for n_neighbors\n",
        "param_grid = {'n_neighbors': np.arange(1, 25)}\n",
        "#use gridsearch to test all values for n_neighbors\n",
        "knn_gscv = GridSearchCV(knn2, param_grid, cv=5)\n",
        "#fit model to data\n",
        "knn_gscv.fit(x, y)\n"
      ],
      "metadata": {
        "colab": {
          "base_uri": "https://localhost:8080/",
          "height": 118
        },
        "id": "5bMgj3BJmPBQ",
        "outputId": "60a78866-b167-420c-aac2-e684255ac38f"
      },
      "execution_count": null,
      "outputs": [
        {
          "output_type": "execute_result",
          "data": {
            "text/plain": [
              "GridSearchCV(cv=5, estimator=KNeighborsClassifier(),\n",
              "             param_grid={'n_neighbors': array([ 1,  2,  3,  4,  5,  6,  7,  8,  9, 10, 11, 12, 13, 14, 15, 16, 17,\n",
              "       18, 19, 20, 21, 22, 23, 24])})"
            ],
            "text/html": [
              "<style>#sk-container-id-3 {color: black;background-color: white;}#sk-container-id-3 pre{padding: 0;}#sk-container-id-3 div.sk-toggleable {background-color: white;}#sk-container-id-3 label.sk-toggleable__label {cursor: pointer;display: block;width: 100%;margin-bottom: 0;padding: 0.3em;box-sizing: border-box;text-align: center;}#sk-container-id-3 label.sk-toggleable__label-arrow:before {content: \"▸\";float: left;margin-right: 0.25em;color: #696969;}#sk-container-id-3 label.sk-toggleable__label-arrow:hover:before {color: black;}#sk-container-id-3 div.sk-estimator:hover label.sk-toggleable__label-arrow:before {color: black;}#sk-container-id-3 div.sk-toggleable__content {max-height: 0;max-width: 0;overflow: hidden;text-align: left;background-color: #f0f8ff;}#sk-container-id-3 div.sk-toggleable__content pre {margin: 0.2em;color: black;border-radius: 0.25em;background-color: #f0f8ff;}#sk-container-id-3 input.sk-toggleable__control:checked~div.sk-toggleable__content {max-height: 200px;max-width: 100%;overflow: auto;}#sk-container-id-3 input.sk-toggleable__control:checked~label.sk-toggleable__label-arrow:before {content: \"▾\";}#sk-container-id-3 div.sk-estimator input.sk-toggleable__control:checked~label.sk-toggleable__label {background-color: #d4ebff;}#sk-container-id-3 div.sk-label input.sk-toggleable__control:checked~label.sk-toggleable__label {background-color: #d4ebff;}#sk-container-id-3 input.sk-hidden--visually {border: 0;clip: rect(1px 1px 1px 1px);clip: rect(1px, 1px, 1px, 1px);height: 1px;margin: -1px;overflow: hidden;padding: 0;position: absolute;width: 1px;}#sk-container-id-3 div.sk-estimator {font-family: monospace;background-color: #f0f8ff;border: 1px dotted black;border-radius: 0.25em;box-sizing: border-box;margin-bottom: 0.5em;}#sk-container-id-3 div.sk-estimator:hover {background-color: #d4ebff;}#sk-container-id-3 div.sk-parallel-item::after {content: \"\";width: 100%;border-bottom: 1px solid gray;flex-grow: 1;}#sk-container-id-3 div.sk-label:hover label.sk-toggleable__label {background-color: #d4ebff;}#sk-container-id-3 div.sk-serial::before {content: \"\";position: absolute;border-left: 1px solid gray;box-sizing: border-box;top: 0;bottom: 0;left: 50%;z-index: 0;}#sk-container-id-3 div.sk-serial {display: flex;flex-direction: column;align-items: center;background-color: white;padding-right: 0.2em;padding-left: 0.2em;position: relative;}#sk-container-id-3 div.sk-item {position: relative;z-index: 1;}#sk-container-id-3 div.sk-parallel {display: flex;align-items: stretch;justify-content: center;background-color: white;position: relative;}#sk-container-id-3 div.sk-item::before, #sk-container-id-3 div.sk-parallel-item::before {content: \"\";position: absolute;border-left: 1px solid gray;box-sizing: border-box;top: 0;bottom: 0;left: 50%;z-index: -1;}#sk-container-id-3 div.sk-parallel-item {display: flex;flex-direction: column;z-index: 1;position: relative;background-color: white;}#sk-container-id-3 div.sk-parallel-item:first-child::after {align-self: flex-end;width: 50%;}#sk-container-id-3 div.sk-parallel-item:last-child::after {align-self: flex-start;width: 50%;}#sk-container-id-3 div.sk-parallel-item:only-child::after {width: 0;}#sk-container-id-3 div.sk-dashed-wrapped {border: 1px dashed gray;margin: 0 0.4em 0.5em 0.4em;box-sizing: border-box;padding-bottom: 0.4em;background-color: white;}#sk-container-id-3 div.sk-label label {font-family: monospace;font-weight: bold;display: inline-block;line-height: 1.2em;}#sk-container-id-3 div.sk-label-container {text-align: center;}#sk-container-id-3 div.sk-container {/* jupyter's `normalize.less` sets `[hidden] { display: none; }` but bootstrap.min.css set `[hidden] { display: none !important; }` so we also need the `!important` here to be able to override the default hidden behavior on the sphinx rendered scikit-learn.org. See: https://github.com/scikit-learn/scikit-learn/issues/21755 */display: inline-block !important;position: relative;}#sk-container-id-3 div.sk-text-repr-fallback {display: none;}</style><div id=\"sk-container-id-3\" class=\"sk-top-container\"><div class=\"sk-text-repr-fallback\"><pre>GridSearchCV(cv=5, estimator=KNeighborsClassifier(),\n",
              "             param_grid={&#x27;n_neighbors&#x27;: array([ 1,  2,  3,  4,  5,  6,  7,  8,  9, 10, 11, 12, 13, 14, 15, 16, 17,\n",
              "       18, 19, 20, 21, 22, 23, 24])})</pre><b>In a Jupyter environment, please rerun this cell to show the HTML representation or trust the notebook. <br />On GitHub, the HTML representation is unable to render, please try loading this page with nbviewer.org.</b></div><div class=\"sk-container\" hidden><div class=\"sk-item sk-dashed-wrapped\"><div class=\"sk-label-container\"><div class=\"sk-label sk-toggleable\"><input class=\"sk-toggleable__control sk-hidden--visually\" id=\"sk-estimator-id-5\" type=\"checkbox\" ><label for=\"sk-estimator-id-5\" class=\"sk-toggleable__label sk-toggleable__label-arrow\">GridSearchCV</label><div class=\"sk-toggleable__content\"><pre>GridSearchCV(cv=5, estimator=KNeighborsClassifier(),\n",
              "             param_grid={&#x27;n_neighbors&#x27;: array([ 1,  2,  3,  4,  5,  6,  7,  8,  9, 10, 11, 12, 13, 14, 15, 16, 17,\n",
              "       18, 19, 20, 21, 22, 23, 24])})</pre></div></div></div><div class=\"sk-parallel\"><div class=\"sk-parallel-item\"><div class=\"sk-item\"><div class=\"sk-label-container\"><div class=\"sk-label sk-toggleable\"><input class=\"sk-toggleable__control sk-hidden--visually\" id=\"sk-estimator-id-6\" type=\"checkbox\" ><label for=\"sk-estimator-id-6\" class=\"sk-toggleable__label sk-toggleable__label-arrow\">estimator: KNeighborsClassifier</label><div class=\"sk-toggleable__content\"><pre>KNeighborsClassifier()</pre></div></div></div><div class=\"sk-serial\"><div class=\"sk-item\"><div class=\"sk-estimator sk-toggleable\"><input class=\"sk-toggleable__control sk-hidden--visually\" id=\"sk-estimator-id-7\" type=\"checkbox\" ><label for=\"sk-estimator-id-7\" class=\"sk-toggleable__label sk-toggleable__label-arrow\">KNeighborsClassifier</label><div class=\"sk-toggleable__content\"><pre>KNeighborsClassifier()</pre></div></div></div></div></div></div></div></div></div></div>"
            ]
          },
          "metadata": {},
          "execution_count": 57
        }
      ]
    },
    {
      "cell_type": "code",
      "source": [
        "#check top performing n_neighbors value\n",
        "knn_gscv.best_params_"
      ],
      "metadata": {
        "colab": {
          "base_uri": "https://localhost:8080/"
        },
        "id": "9feZwke-ms0E",
        "outputId": "0524869a-4787-48a9-997b-1fe42174e054"
      },
      "execution_count": null,
      "outputs": [
        {
          "output_type": "execute_result",
          "data": {
            "text/plain": [
              "{'n_neighbors': 17}"
            ]
          },
          "metadata": {},
          "execution_count": 58
        }
      ]
    },
    {
      "cell_type": "code",
      "source": [
        "#check mean score for the top performing value of n_neighbors\n",
        "knn_gscv.best_score_"
      ],
      "metadata": {
        "id": "ixudZNUQm45O",
        "outputId": "a2497b3b-6e36-41c1-8084-c2978577692c",
        "colab": {
          "base_uri": "https://localhost:8080/"
        }
      },
      "execution_count": null,
      "outputs": [
        {
          "output_type": "execute_result",
          "data": {
            "text/plain": [
              "0.8426528535750624"
            ]
          },
          "metadata": {},
          "execution_count": 59
        }
      ]
    },
    {
      "cell_type": "code",
      "source": [
        "# from sklearn.metrics import RocCurveDisplay\n",
        "# RocCurveDisplay.from_estimator(knn, x_test, y_test)"
      ],
      "metadata": {
        "id": "PHVygk1Um6oo"
      },
      "execution_count": null,
      "outputs": []
    },
    {
      "cell_type": "markdown",
      "source": [
        "# Gaussian Naive Bayes Model"
      ],
      "metadata": {
        "id": "NHz-nOdjl0KD"
      }
    },
    {
      "cell_type": "code",
      "source": [
        "from sklearn.naive_bayes import GaussianNB\n",
        "nb = GaussianNB()\n",
        "nb.fit(x_train, y_train)"
      ],
      "metadata": {
        "colab": {
          "base_uri": "https://localhost:8080/",
          "height": 75
        },
        "id": "yPxxa_lYl1vW",
        "outputId": "cf1be0ca-e9b9-45cf-c090-11d03c30738f"
      },
      "execution_count": null,
      "outputs": [
        {
          "output_type": "execute_result",
          "data": {
            "text/plain": [
              "GaussianNB()"
            ],
            "text/html": [
              "<style>#sk-container-id-4 {color: black;background-color: white;}#sk-container-id-4 pre{padding: 0;}#sk-container-id-4 div.sk-toggleable {background-color: white;}#sk-container-id-4 label.sk-toggleable__label {cursor: pointer;display: block;width: 100%;margin-bottom: 0;padding: 0.3em;box-sizing: border-box;text-align: center;}#sk-container-id-4 label.sk-toggleable__label-arrow:before {content: \"▸\";float: left;margin-right: 0.25em;color: #696969;}#sk-container-id-4 label.sk-toggleable__label-arrow:hover:before {color: black;}#sk-container-id-4 div.sk-estimator:hover label.sk-toggleable__label-arrow:before {color: black;}#sk-container-id-4 div.sk-toggleable__content {max-height: 0;max-width: 0;overflow: hidden;text-align: left;background-color: #f0f8ff;}#sk-container-id-4 div.sk-toggleable__content pre {margin: 0.2em;color: black;border-radius: 0.25em;background-color: #f0f8ff;}#sk-container-id-4 input.sk-toggleable__control:checked~div.sk-toggleable__content {max-height: 200px;max-width: 100%;overflow: auto;}#sk-container-id-4 input.sk-toggleable__control:checked~label.sk-toggleable__label-arrow:before {content: \"▾\";}#sk-container-id-4 div.sk-estimator input.sk-toggleable__control:checked~label.sk-toggleable__label {background-color: #d4ebff;}#sk-container-id-4 div.sk-label input.sk-toggleable__control:checked~label.sk-toggleable__label {background-color: #d4ebff;}#sk-container-id-4 input.sk-hidden--visually {border: 0;clip: rect(1px 1px 1px 1px);clip: rect(1px, 1px, 1px, 1px);height: 1px;margin: -1px;overflow: hidden;padding: 0;position: absolute;width: 1px;}#sk-container-id-4 div.sk-estimator {font-family: monospace;background-color: #f0f8ff;border: 1px dotted black;border-radius: 0.25em;box-sizing: border-box;margin-bottom: 0.5em;}#sk-container-id-4 div.sk-estimator:hover {background-color: #d4ebff;}#sk-container-id-4 div.sk-parallel-item::after {content: \"\";width: 100%;border-bottom: 1px solid gray;flex-grow: 1;}#sk-container-id-4 div.sk-label:hover label.sk-toggleable__label {background-color: #d4ebff;}#sk-container-id-4 div.sk-serial::before {content: \"\";position: absolute;border-left: 1px solid gray;box-sizing: border-box;top: 0;bottom: 0;left: 50%;z-index: 0;}#sk-container-id-4 div.sk-serial {display: flex;flex-direction: column;align-items: center;background-color: white;padding-right: 0.2em;padding-left: 0.2em;position: relative;}#sk-container-id-4 div.sk-item {position: relative;z-index: 1;}#sk-container-id-4 div.sk-parallel {display: flex;align-items: stretch;justify-content: center;background-color: white;position: relative;}#sk-container-id-4 div.sk-item::before, #sk-container-id-4 div.sk-parallel-item::before {content: \"\";position: absolute;border-left: 1px solid gray;box-sizing: border-box;top: 0;bottom: 0;left: 50%;z-index: -1;}#sk-container-id-4 div.sk-parallel-item {display: flex;flex-direction: column;z-index: 1;position: relative;background-color: white;}#sk-container-id-4 div.sk-parallel-item:first-child::after {align-self: flex-end;width: 50%;}#sk-container-id-4 div.sk-parallel-item:last-child::after {align-self: flex-start;width: 50%;}#sk-container-id-4 div.sk-parallel-item:only-child::after {width: 0;}#sk-container-id-4 div.sk-dashed-wrapped {border: 1px dashed gray;margin: 0 0.4em 0.5em 0.4em;box-sizing: border-box;padding-bottom: 0.4em;background-color: white;}#sk-container-id-4 div.sk-label label {font-family: monospace;font-weight: bold;display: inline-block;line-height: 1.2em;}#sk-container-id-4 div.sk-label-container {text-align: center;}#sk-container-id-4 div.sk-container {/* jupyter's `normalize.less` sets `[hidden] { display: none; }` but bootstrap.min.css set `[hidden] { display: none !important; }` so we also need the `!important` here to be able to override the default hidden behavior on the sphinx rendered scikit-learn.org. See: https://github.com/scikit-learn/scikit-learn/issues/21755 */display: inline-block !important;position: relative;}#sk-container-id-4 div.sk-text-repr-fallback {display: none;}</style><div id=\"sk-container-id-4\" class=\"sk-top-container\"><div class=\"sk-text-repr-fallback\"><pre>GaussianNB()</pre><b>In a Jupyter environment, please rerun this cell to show the HTML representation or trust the notebook. <br />On GitHub, the HTML representation is unable to render, please try loading this page with nbviewer.org.</b></div><div class=\"sk-container\" hidden><div class=\"sk-item\"><div class=\"sk-estimator sk-toggleable\"><input class=\"sk-toggleable__control sk-hidden--visually\" id=\"sk-estimator-id-8\" type=\"checkbox\" checked><label for=\"sk-estimator-id-8\" class=\"sk-toggleable__label sk-toggleable__label-arrow\">GaussianNB</label><div class=\"sk-toggleable__content\"><pre>GaussianNB()</pre></div></div></div></div></div>"
            ]
          },
          "metadata": {},
          "execution_count": 61
        }
      ]
    },
    {
      "cell_type": "code",
      "source": [
        "yg_pred = nb.fit(x_train, y_train)"
      ],
      "metadata": {
        "id": "cHcaQnEnyplG"
      },
      "execution_count": null,
      "outputs": []
    },
    {
      "cell_type": "code",
      "source": [
        "#Accuracy\n",
        "print(\"Naive Bayes score: \",nb.score(x_test, y_test))"
      ],
      "metadata": {
        "colab": {
          "base_uri": "https://localhost:8080/"
        },
        "id": "ICMWZDOwmFfr",
        "outputId": "b16b1c38-64df-4324-96b4-dde0be31f263"
      },
      "execution_count": null,
      "outputs": [
        {
          "output_type": "stream",
          "name": "stdout",
          "text": [
            "Naive Bayes score:  0.8157894736842105\n"
          ]
        }
      ]
    },
    {
      "cell_type": "markdown",
      "source": [
        "# Artificial Neural Networks"
      ],
      "metadata": {
        "id": "S2XKvWQAo0Yl"
      }
    },
    {
      "cell_type": "code",
      "source": [
        "target_column = ['req_intervention']\n",
        "predictors = list(set(list(numeric.columns))-set(target_column))"
      ],
      "metadata": {
        "id": "ksiJLLHQHPu3"
      },
      "execution_count": null,
      "outputs": []
    },
    {
      "cell_type": "code",
      "source": [
        "predictors"
      ],
      "metadata": {
        "colab": {
          "base_uri": "https://localhost:8080/"
        },
        "id": "14e5k3PRIP2F",
        "outputId": "ee4e7c8f-b833-4e11-b474-236fa29705e9"
      },
      "execution_count": null,
      "outputs": [
        {
          "output_type": "execute_result",
          "data": {
            "text/plain": [
              "['WEIGHT_kg',\n",
              " 'WALK_DURATION_PER_DAY_MINUTES',\n",
              " 'SMOKING_STATUS ',\n",
              " 'AGE_years',\n",
              " 'SYSTOLIC_BLOOD_PRESSURE_mmHg',\n",
              " 'WAIST_CIRCUMFERENCE_cm',\n",
              " 'COMPUTER_USE_TIME_PER_DAY_HOURS',\n",
              " 'DIASTOLIC_BLOOD_PRESSURE_mmHg',\n",
              " 'BMI ',\n",
              " 'HEIGHT_cm']"
            ]
          },
          "metadata": {},
          "execution_count": 52
        }
      ]
    },
    {
      "cell_type": "code",
      "source": [
        "numeric[predictors] = numeric[predictors]/numeric[predictors].max()\n",
        "numeric.describe().transpose()"
      ],
      "metadata": {
        "colab": {
          "base_uri": "https://localhost:8080/",
          "height": 394
        },
        "id": "kg3TxtbjIi6R",
        "outputId": "98722ae0-fb30-40ac-b28d-cbddd0b8fd7d"
      },
      "execution_count": null,
      "outputs": [
        {
          "output_type": "execute_result",
          "data": {
            "text/plain": [
              "                                  count      mean       std       min  \\\n",
              "AGE_years                        2864.0  0.328025  0.044784  0.215789   \n",
              "BMI                              2864.0  0.542307  0.071950  0.370370   \n",
              "HEIGHT_cm                        2864.0  0.871123  0.041294  0.008095   \n",
              "WEIGHT_kg                        2864.0  0.541240  0.081047  0.328317   \n",
              "WAIST_CIRCUMFERENCE_cm           2864.0  0.643215  0.065827  0.454545   \n",
              "DIASTOLIC_BLOOD_PRESSURE_mmHg    2864.0  0.688697  0.079937  0.360902   \n",
              "SYSTOLIC_BLOOD_PRESSURE_mmHg     2864.0  0.696720  0.087604  0.468750   \n",
              "WALK_DURATION_PER_DAY_MINUTES    2864.0  0.124537  0.098789  0.001524   \n",
              "COMPUTER_USE_TIME_PER_DAY_HOURS  2864.0  0.065673  0.064085  0.000000   \n",
              "SMOKING_STATUS                   2864.0  0.040503  0.197170  0.000000   \n",
              "req_intervention                 2864.0  0.837989  0.368525  0.000000   \n",
              "\n",
              "                                      25%       50%       75%  max  \n",
              "AGE_years                        0.300000  0.331579  0.363158  1.0  \n",
              "BMI                              0.500000  0.537037  0.574074  1.0  \n",
              "HEIGHT_cm                        0.847619  0.871429  0.895238  1.0  \n",
              "WEIGHT_kg                        0.485380  0.531641  0.585057  1.0  \n",
              "WAIST_CIRCUMFERENCE_cm           0.597403  0.636364  0.681818  1.0  \n",
              "DIASTOLIC_BLOOD_PRESSURE_mmHg    0.631579  0.684211  0.744361  1.0  \n",
              "SYSTOLIC_BLOOD_PRESSURE_mmHg     0.635417  0.687500  0.750000  1.0  \n",
              "WALK_DURATION_PER_DAY_MINUTES    0.070122  0.102134  0.140244  1.0  \n",
              "COMPUTER_USE_TIME_PER_DAY_HOURS  0.028986  0.043478  0.086957  1.0  \n",
              "SMOKING_STATUS                   0.000000  0.000000  0.000000  1.0  \n",
              "req_intervention                 1.000000  1.000000  1.000000  1.0  "
            ],
            "text/html": [
              "\n",
              "  <div id=\"df-9e858287-546e-43bd-be3c-c117a7e28fe1\">\n",
              "    <div class=\"colab-df-container\">\n",
              "      <div>\n",
              "<style scoped>\n",
              "    .dataframe tbody tr th:only-of-type {\n",
              "        vertical-align: middle;\n",
              "    }\n",
              "\n",
              "    .dataframe tbody tr th {\n",
              "        vertical-align: top;\n",
              "    }\n",
              "\n",
              "    .dataframe thead th {\n",
              "        text-align: right;\n",
              "    }\n",
              "</style>\n",
              "<table border=\"1\" class=\"dataframe\">\n",
              "  <thead>\n",
              "    <tr style=\"text-align: right;\">\n",
              "      <th></th>\n",
              "      <th>count</th>\n",
              "      <th>mean</th>\n",
              "      <th>std</th>\n",
              "      <th>min</th>\n",
              "      <th>25%</th>\n",
              "      <th>50%</th>\n",
              "      <th>75%</th>\n",
              "      <th>max</th>\n",
              "    </tr>\n",
              "  </thead>\n",
              "  <tbody>\n",
              "    <tr>\n",
              "      <th>AGE_years</th>\n",
              "      <td>2864.0</td>\n",
              "      <td>0.328025</td>\n",
              "      <td>0.044784</td>\n",
              "      <td>0.215789</td>\n",
              "      <td>0.300000</td>\n",
              "      <td>0.331579</td>\n",
              "      <td>0.363158</td>\n",
              "      <td>1.0</td>\n",
              "    </tr>\n",
              "    <tr>\n",
              "      <th>BMI</th>\n",
              "      <td>2864.0</td>\n",
              "      <td>0.542307</td>\n",
              "      <td>0.071950</td>\n",
              "      <td>0.370370</td>\n",
              "      <td>0.500000</td>\n",
              "      <td>0.537037</td>\n",
              "      <td>0.574074</td>\n",
              "      <td>1.0</td>\n",
              "    </tr>\n",
              "    <tr>\n",
              "      <th>HEIGHT_cm</th>\n",
              "      <td>2864.0</td>\n",
              "      <td>0.871123</td>\n",
              "      <td>0.041294</td>\n",
              "      <td>0.008095</td>\n",
              "      <td>0.847619</td>\n",
              "      <td>0.871429</td>\n",
              "      <td>0.895238</td>\n",
              "      <td>1.0</td>\n",
              "    </tr>\n",
              "    <tr>\n",
              "      <th>WEIGHT_kg</th>\n",
              "      <td>2864.0</td>\n",
              "      <td>0.541240</td>\n",
              "      <td>0.081047</td>\n",
              "      <td>0.328317</td>\n",
              "      <td>0.485380</td>\n",
              "      <td>0.531641</td>\n",
              "      <td>0.585057</td>\n",
              "      <td>1.0</td>\n",
              "    </tr>\n",
              "    <tr>\n",
              "      <th>WAIST_CIRCUMFERENCE_cm</th>\n",
              "      <td>2864.0</td>\n",
              "      <td>0.643215</td>\n",
              "      <td>0.065827</td>\n",
              "      <td>0.454545</td>\n",
              "      <td>0.597403</td>\n",
              "      <td>0.636364</td>\n",
              "      <td>0.681818</td>\n",
              "      <td>1.0</td>\n",
              "    </tr>\n",
              "    <tr>\n",
              "      <th>DIASTOLIC_BLOOD_PRESSURE_mmHg</th>\n",
              "      <td>2864.0</td>\n",
              "      <td>0.688697</td>\n",
              "      <td>0.079937</td>\n",
              "      <td>0.360902</td>\n",
              "      <td>0.631579</td>\n",
              "      <td>0.684211</td>\n",
              "      <td>0.744361</td>\n",
              "      <td>1.0</td>\n",
              "    </tr>\n",
              "    <tr>\n",
              "      <th>SYSTOLIC_BLOOD_PRESSURE_mmHg</th>\n",
              "      <td>2864.0</td>\n",
              "      <td>0.696720</td>\n",
              "      <td>0.087604</td>\n",
              "      <td>0.468750</td>\n",
              "      <td>0.635417</td>\n",
              "      <td>0.687500</td>\n",
              "      <td>0.750000</td>\n",
              "      <td>1.0</td>\n",
              "    </tr>\n",
              "    <tr>\n",
              "      <th>WALK_DURATION_PER_DAY_MINUTES</th>\n",
              "      <td>2864.0</td>\n",
              "      <td>0.124537</td>\n",
              "      <td>0.098789</td>\n",
              "      <td>0.001524</td>\n",
              "      <td>0.070122</td>\n",
              "      <td>0.102134</td>\n",
              "      <td>0.140244</td>\n",
              "      <td>1.0</td>\n",
              "    </tr>\n",
              "    <tr>\n",
              "      <th>COMPUTER_USE_TIME_PER_DAY_HOURS</th>\n",
              "      <td>2864.0</td>\n",
              "      <td>0.065673</td>\n",
              "      <td>0.064085</td>\n",
              "      <td>0.000000</td>\n",
              "      <td>0.028986</td>\n",
              "      <td>0.043478</td>\n",
              "      <td>0.086957</td>\n",
              "      <td>1.0</td>\n",
              "    </tr>\n",
              "    <tr>\n",
              "      <th>SMOKING_STATUS</th>\n",
              "      <td>2864.0</td>\n",
              "      <td>0.040503</td>\n",
              "      <td>0.197170</td>\n",
              "      <td>0.000000</td>\n",
              "      <td>0.000000</td>\n",
              "      <td>0.000000</td>\n",
              "      <td>0.000000</td>\n",
              "      <td>1.0</td>\n",
              "    </tr>\n",
              "    <tr>\n",
              "      <th>req_intervention</th>\n",
              "      <td>2864.0</td>\n",
              "      <td>0.837989</td>\n",
              "      <td>0.368525</td>\n",
              "      <td>0.000000</td>\n",
              "      <td>1.000000</td>\n",
              "      <td>1.000000</td>\n",
              "      <td>1.000000</td>\n",
              "      <td>1.0</td>\n",
              "    </tr>\n",
              "  </tbody>\n",
              "</table>\n",
              "</div>\n",
              "      <button class=\"colab-df-convert\" onclick=\"convertToInteractive('df-9e858287-546e-43bd-be3c-c117a7e28fe1')\"\n",
              "              title=\"Convert this dataframe to an interactive table.\"\n",
              "              style=\"display:none;\">\n",
              "        \n",
              "  <svg xmlns=\"http://www.w3.org/2000/svg\" height=\"24px\"viewBox=\"0 0 24 24\"\n",
              "       width=\"24px\">\n",
              "    <path d=\"M0 0h24v24H0V0z\" fill=\"none\"/>\n",
              "    <path d=\"M18.56 5.44l.94 2.06.94-2.06 2.06-.94-2.06-.94-.94-2.06-.94 2.06-2.06.94zm-11 1L8.5 8.5l.94-2.06 2.06-.94-2.06-.94L8.5 2.5l-.94 2.06-2.06.94zm10 10l.94 2.06.94-2.06 2.06-.94-2.06-.94-.94-2.06-.94 2.06-2.06.94z\"/><path d=\"M17.41 7.96l-1.37-1.37c-.4-.4-.92-.59-1.43-.59-.52 0-1.04.2-1.43.59L10.3 9.45l-7.72 7.72c-.78.78-.78 2.05 0 2.83L4 21.41c.39.39.9.59 1.41.59.51 0 1.02-.2 1.41-.59l7.78-7.78 2.81-2.81c.8-.78.8-2.07 0-2.86zM5.41 20L4 18.59l7.72-7.72 1.47 1.35L5.41 20z\"/>\n",
              "  </svg>\n",
              "      </button>\n",
              "      \n",
              "  <style>\n",
              "    .colab-df-container {\n",
              "      display:flex;\n",
              "      flex-wrap:wrap;\n",
              "      gap: 12px;\n",
              "    }\n",
              "\n",
              "    .colab-df-convert {\n",
              "      background-color: #E8F0FE;\n",
              "      border: none;\n",
              "      border-radius: 50%;\n",
              "      cursor: pointer;\n",
              "      display: none;\n",
              "      fill: #1967D2;\n",
              "      height: 32px;\n",
              "      padding: 0 0 0 0;\n",
              "      width: 32px;\n",
              "    }\n",
              "\n",
              "    .colab-df-convert:hover {\n",
              "      background-color: #E2EBFA;\n",
              "      box-shadow: 0px 1px 2px rgba(60, 64, 67, 0.3), 0px 1px 3px 1px rgba(60, 64, 67, 0.15);\n",
              "      fill: #174EA6;\n",
              "    }\n",
              "\n",
              "    [theme=dark] .colab-df-convert {\n",
              "      background-color: #3B4455;\n",
              "      fill: #D2E3FC;\n",
              "    }\n",
              "\n",
              "    [theme=dark] .colab-df-convert:hover {\n",
              "      background-color: #434B5C;\n",
              "      box-shadow: 0px 1px 3px 1px rgba(0, 0, 0, 0.15);\n",
              "      filter: drop-shadow(0px 1px 2px rgba(0, 0, 0, 0.3));\n",
              "      fill: #FFFFFF;\n",
              "    }\n",
              "  </style>\n",
              "\n",
              "      <script>\n",
              "        const buttonEl =\n",
              "          document.querySelector('#df-9e858287-546e-43bd-be3c-c117a7e28fe1 button.colab-df-convert');\n",
              "        buttonEl.style.display =\n",
              "          google.colab.kernel.accessAllowed ? 'block' : 'none';\n",
              "\n",
              "        async function convertToInteractive(key) {\n",
              "          const element = document.querySelector('#df-9e858287-546e-43bd-be3c-c117a7e28fe1');\n",
              "          const dataTable =\n",
              "            await google.colab.kernel.invokeFunction('convertToInteractive',\n",
              "                                                     [key], {});\n",
              "          if (!dataTable) return;\n",
              "\n",
              "          const docLinkHtml = 'Like what you see? Visit the ' +\n",
              "            '<a target=\"_blank\" href=https://colab.research.google.com/notebooks/data_table.ipynb>data table notebook</a>'\n",
              "            + ' to learn more about interactive tables.';\n",
              "          element.innerHTML = '';\n",
              "          dataTable['output_type'] = 'display_data';\n",
              "          await google.colab.output.renderOutput(dataTable, element);\n",
              "          const docLink = document.createElement('div');\n",
              "          docLink.innerHTML = docLinkHtml;\n",
              "          element.appendChild(docLink);\n",
              "        }\n",
              "      </script>\n",
              "    </div>\n",
              "  </div>\n",
              "  "
            ]
          },
          "metadata": {},
          "execution_count": 53
        }
      ]
    },
    {
      "cell_type": "code",
      "source": [
        "X2 = numeric[predictors].values\n",
        "y2 = numeric[target_column].values\n",
        "\n",
        "X2_train, X2_test, y2_train, y2_test = train_test_split(X2, y2, test_size=0.30, random_state=40)\n",
        "print(X2_train.shape);\n",
        "print(X2_test.shape)"
      ],
      "metadata": {
        "colab": {
          "base_uri": "https://localhost:8080/"
        },
        "id": "EI4PDF47I7qN",
        "outputId": "6cfe035b-c311-4cd3-91c9-ce8e0ae8048a"
      },
      "execution_count": null,
      "outputs": [
        {
          "output_type": "stream",
          "name": "stdout",
          "text": [
            "(2004, 10)\n",
            "(860, 10)\n"
          ]
        }
      ]
    },
    {
      "cell_type": "code",
      "source": [
        "from sklearn.neural_network import MLPClassifier\n",
        "\n",
        "mlp = MLPClassifier(hidden_layer_sizes=(8,8,8), activation='relu', solver='adam', max_iter=500)\n",
        "mlp.fit(X2_train,y2_train)\n",
        "\n",
        "predict_train = mlp.predict(X2_train)\n",
        "predict_test = mlp.predict(X2_test)"
      ],
      "metadata": {
        "id": "WZj1ApU0o6ru",
        "colab": {
          "base_uri": "https://localhost:8080/"
        },
        "outputId": "cb55ec95-4415-4af2-8858-63c185367663"
      },
      "execution_count": null,
      "outputs": [
        {
          "output_type": "stream",
          "name": "stderr",
          "text": [
            "/usr/local/lib/python3.9/dist-packages/sklearn/neural_network/_multilayer_perceptron.py:1098: DataConversionWarning: A column-vector y was passed when a 1d array was expected. Please change the shape of y to (n_samples, ), for example using ravel().\n",
            "  y = column_or_1d(y, warn=True)\n"
          ]
        }
      ]
    },
    {
      "cell_type": "code",
      "source": [
        "#Print Confusion Matrix for ANN\n",
        "from sklearn.metrics import classification_report,confusion_matrix\n",
        "an_mx = confusion_matrix(y2_train,predict_train) #Ask Habeeb\n",
        "re_mx = classification_report(y2_train,predict_train)\n",
        "print(an_mx)\n",
        "print(re_mx)"
      ],
      "metadata": {
        "colab": {
          "base_uri": "https://localhost:8080/"
        },
        "id": "C0eQBL2tpEYf",
        "outputId": "390e6348-f213-4f2a-f6ec-e13109e2b77e"
      },
      "execution_count": null,
      "outputs": [
        {
          "output_type": "stream",
          "name": "stdout",
          "text": [
            "[[  66  260]\n",
            " [  35 1643]]\n",
            "              precision    recall  f1-score   support\n",
            "\n",
            "           0       0.65      0.20      0.31       326\n",
            "           1       0.86      0.98      0.92      1678\n",
            "\n",
            "    accuracy                           0.85      2004\n",
            "   macro avg       0.76      0.59      0.61      2004\n",
            "weighted avg       0.83      0.85      0.82      2004\n",
            "\n"
          ]
        }
      ]
    },
    {
      "cell_type": "code",
      "source": [
        "#Display COnfusion Matrix for ANN\n",
        "# import required modules\n",
        "import numpy as np\n",
        "import matplotlib.pyplot as plt\n",
        "import seaborn as sns\n",
        "%matplotlib inline\n",
        "class_names=[0,1] # name  of classes\n",
        "fig, ax = plt.subplots()\n",
        "tick_marks = np.arange(len(class_names))\n",
        "plt.xticks(tick_marks, class_names)\n",
        "plt.yticks(tick_marks, class_names)\n",
        "# create heatmap\n",
        "sns.heatmap(pd.DataFrame(an_mx), annot=True, cmap=\"YlGnBu\" ,fmt='g')\n",
        "ax.xaxis.set_label_position(\"top\")\n",
        "plt.tight_layout()\n",
        "plt.title('Confusion matrix', y=1.1)\n",
        "plt.ylabel('Actual label')\n",
        "plt.xlabel('Predicted label')"
      ],
      "metadata": {
        "colab": {
          "base_uri": "https://localhost:8080/",
          "height": 569
        },
        "id": "3o4Vjy3ypaMO",
        "outputId": "06d145fb-ad4b-4950-f91b-628205ecbab4"
      },
      "execution_count": null,
      "outputs": [
        {
          "output_type": "execute_result",
          "data": {
            "text/plain": [
              "Text(0.5, 427.9555555555555, 'Predicted label')"
            ]
          },
          "metadata": {},
          "execution_count": 57
        },
        {
          "output_type": "display_data",
          "data": {
            "text/plain": [
              "<Figure size 640x480 with 2 Axes>"
            ],
            "image/png": "[encoded data removed]"
          },
          "metadata": {}
        }
      ]
    },
    {
      "cell_type": "code",
      "source": [
        "print(confusion_matrix(y2_test,predict_test))\n",
        "print(classification_report(y2_test,predict_test))"
      ],
      "metadata": {
        "colab": {
          "base_uri": "https://localhost:8080/"
        },
        "id": "4J7lWnLCqihF",
        "outputId": "c758933a-d79c-426d-b25e-8cface2775b2"
      },
      "execution_count": null,
      "outputs": [
        {
          "output_type": "stream",
          "name": "stdout",
          "text": [
            "[[ 28 110]\n",
            " [ 19 703]]\n",
            "              precision    recall  f1-score   support\n",
            "\n",
            "           0       0.60      0.20      0.30       138\n",
            "           1       0.86      0.97      0.92       722\n",
            "\n",
            "    accuracy                           0.85       860\n",
            "   macro avg       0.73      0.59      0.61       860\n",
            "weighted avg       0.82      0.85      0.82       860\n",
            "\n"
          ]
        }
      ]
    },
    {
      "cell_type": "markdown",
      "source": [
        "# Finetuning With Grid Search"
      ],
      "metadata": {
        "id": "WZeiR8AtJ-_b"
      }
    },
    {
      "cell_type": "code",
      "source": [
        "# # Import required libraries\n",
        "# from sklearn.neural_network import MLPClassifier\n",
        "# from sklearn.neural_network import MLPRegressor\n",
        "\n",
        "# # Import necessary modules\n",
        "# from sklearn.model_selection import train_test_split\n",
        "# #from sklearn.metrics import mean_squared_error\n",
        "# from math import sqrt\n",
        "# #from sklearn.metrics import r2_score"
      ],
      "metadata": {
        "id": "NC7s4VpVKFCK"
      },
      "execution_count": null,
      "outputs": []
    },
    {
      "cell_type": "code",
      "source": [
        "# #Let’s set up and split our Data and our Labels\n",
        "# X3 = numeric[predictors]\n",
        "# y3 = numeric['req_intervention']\n",
        "\n",
        "# from sklearn.model_selection import train_test_split\n",
        "# X3_train, X3_test, y3_train, y3_test = train_test_split(X3, y3)"
      ],
      "metadata": {
        "id": "CWl5t810KMRK"
      },
      "execution_count": null,
      "outputs": []
    },
    {
      "cell_type": "code",
      "source": [
        "# %%time\n",
        "\n",
        "# from sklearn.model_selection import GridSearchCV\n",
        "\n",
        "# params = {'activation': ['relu', 'tanh', 'logistic', 'identity'],\n",
        "#           'hidden_layer_sizes': [(13,), (50,100,), (50,75,100,)],\n",
        "#           'solver': ['adam', 'sgd', 'lbfgs'],\n",
        "#           'learning_rate' : ['constant', 'adaptive', 'invscaling'],\n",
        "#           'max_iter': [500]\n",
        "#          }\n",
        "\n",
        "# mlp_classif_grid = GridSearchCV(MLPClassifier(random_state=123), param_grid=params, n_jobs=-1, cv=5, verbose=5)\n",
        "# mlp_classif_grid.fit(X3_train,y3_train)\n",
        "\n",
        "# print('Train Accuracy : %.3f'%mlp_classif_grid.best_estimator_.score(X3_train, y3_train))\n",
        "# print('Test Accuracy : %.3f'%mlp_classif_grid.best_estimator_.score(X3_test, y3_test))\n",
        "# print('Best Accuracy Through Grid Search : %.3f'%mlp_classif_grid.best_score_)\n",
        "# print('Best Parameters : ',mlp_classif_grid.best_params_)"
      ],
      "metadata": {
        "colab": {
          "base_uri": "https://localhost:8080/"
        },
        "id": "rVm78uQnQauc",
        "outputId": "abe3625f-6fb0-4b90-c17f-3c75220b9629"
      },
      "execution_count": null,
      "outputs": [
        {
          "output_type": "stream",
          "name": "stdout",
          "text": [
            "Fitting 5 folds for each of 108 candidates, totalling 540 fits\n",
            "Train Accuracy : 0.861\n",
            "Test Accuracy : 0.838\n",
            "Best Accuracy Through Grid Search : 0.859\n",
            "Best Parameters :  {'activation': 'identity', 'hidden_layer_sizes': (13,), 'learning_rate': 'constant', 'max_iter': 500, 'solver': 'lbfgs'}\n",
            "CPU times: user 7.43 s, sys: 1.01 s, total: 8.44 s\n",
            "Wall time: 17min 35s\n"
          ]
        }
      ]
    },
    {
      "cell_type": "code",
      "source": [
        "# mlp = MLPClassifier(activation= 'relu', hidden_layer_sizes= (13,), learning_rate='constant', solver='lbfgs', max_iter=500)\n",
        "# mlp.fit(X3_train,y3_train)"
      ],
      "metadata": {
        "colab": {
          "base_uri": "https://localhost:8080/",
          "height": 75
        },
        "id": "bVSqS6wgVXdu",
        "outputId": "236e57a5-3e6d-4d18-c6d1-4a7fbacda20e"
      },
      "execution_count": null,
      "outputs": [
        {
          "output_type": "execute_result",
          "data": {
            "text/plain": [
              "MLPClassifier(hidden_layer_sizes=(13,), max_iter=500, solver='lbfgs')"
            ],
            "text/html": [
              "<style>#sk-container-id-5 {color: black;background-color: white;}#sk-container-id-5 pre{padding: 0;}#sk-container-id-5 div.sk-toggleable {background-color: white;}#sk-container-id-5 label.sk-toggleable__label {cursor: pointer;display: block;width: 100%;margin-bottom: 0;padding: 0.3em;box-sizing: border-box;text-align: center;}#sk-container-id-5 label.sk-toggleable__label-arrow:before {content: \"▸\";float: left;margin-right: 0.25em;color: #696969;}#sk-container-id-5 label.sk-toggleable__label-arrow:hover:before {color: black;}#sk-container-id-5 div.sk-estimator:hover label.sk-toggleable__label-arrow:before {color: black;}#sk-container-id-5 div.sk-toggleable__content {max-height: 0;max-width: 0;overflow: hidden;text-align: left;background-color: #f0f8ff;}#sk-container-id-5 div.sk-toggleable__content pre {margin: 0.2em;color: black;border-radius: 0.25em;background-color: #f0f8ff;}#sk-container-id-5 input.sk-toggleable__control:checked~div.sk-toggleable__content {max-height: 200px;max-width: 100%;overflow: auto;}#sk-container-id-5 input.sk-toggleable__control:checked~label.sk-toggleable__label-arrow:before {content: \"▾\";}#sk-container-id-5 div.sk-estimator input.sk-toggleable__control:checked~label.sk-toggleable__label {background-color: #d4ebff;}#sk-container-id-5 div.sk-label input.sk-toggleable__control:checked~label.sk-toggleable__label {background-color: #d4ebff;}#sk-container-id-5 input.sk-hidden--visually {border: 0;clip: rect(1px 1px 1px 1px);clip: rect(1px, 1px, 1px, 1px);height: 1px;margin: -1px;overflow: hidden;padding: 0;position: absolute;width: 1px;}#sk-container-id-5 div.sk-estimator {font-family: monospace;background-color: #f0f8ff;border: 1px dotted black;border-radius: 0.25em;box-sizing: border-box;margin-bottom: 0.5em;}#sk-container-id-5 div.sk-estimator:hover {background-color: #d4ebff;}#sk-container-id-5 div.sk-parallel-item::after {content: \"\";width: 100%;border-bottom: 1px solid gray;flex-grow: 1;}#sk-container-id-5 div.sk-label:hover label.sk-toggleable__label {background-color: #d4ebff;}#sk-container-id-5 div.sk-serial::before {content: \"\";position: absolute;border-left: 1px solid gray;box-sizing: border-box;top: 0;bottom: 0;left: 50%;z-index: 0;}#sk-container-id-5 div.sk-serial {display: flex;flex-direction: column;align-items: center;background-color: white;padding-right: 0.2em;padding-left: 0.2em;position: relative;}#sk-container-id-5 div.sk-item {position: relative;z-index: 1;}#sk-container-id-5 div.sk-parallel {display: flex;align-items: stretch;justify-content: center;background-color: white;position: relative;}#sk-container-id-5 div.sk-item::before, #sk-container-id-5 div.sk-parallel-item::before {content: \"\";position: absolute;border-left: 1px solid gray;box-sizing: border-box;top: 0;bottom: 0;left: 50%;z-index: -1;}#sk-container-id-5 div.sk-parallel-item {display: flex;flex-direction: column;z-index: 1;position: relative;background-color: white;}#sk-container-id-5 div.sk-parallel-item:first-child::after {align-self: flex-end;width: 50%;}#sk-container-id-5 div.sk-parallel-item:last-child::after {align-self: flex-start;width: 50%;}#sk-container-id-5 div.sk-parallel-item:only-child::after {width: 0;}#sk-container-id-5 div.sk-dashed-wrapped {border: 1px dashed gray;margin: 0 0.4em 0.5em 0.4em;box-sizing: border-box;padding-bottom: 0.4em;background-color: white;}#sk-container-id-5 div.sk-label label {font-family: monospace;font-weight: bold;display: inline-block;line-height: 1.2em;}#sk-container-id-5 div.sk-label-container {text-align: center;}#sk-container-id-5 div.sk-container {/* jupyter's `normalize.less` sets `[hidden] { display: none; }` but bootstrap.min.css set `[hidden] { display: none !important; }` so we also need the `!important` here to be able to override the default hidden behavior on the sphinx rendered scikit-learn.org. See: https://github.com/scikit-learn/scikit-learn/issues/21755 */display: inline-block !important;position: relative;}#sk-container-id-5 div.sk-text-repr-fallback {display: none;}</style><div id=\"sk-container-id-5\" class=\"sk-top-container\"><div class=\"sk-text-repr-fallback\"><pre>MLPClassifier(hidden_layer_sizes=(13,), max_iter=500, solver=&#x27;lbfgs&#x27;)</pre><b>In a Jupyter environment, please rerun this cell to show the HTML representation or trust the notebook. <br />On GitHub, the HTML representation is unable to render, please try loading this page with nbviewer.org.</b></div><div class=\"sk-container\" hidden><div class=\"sk-item\"><div class=\"sk-estimator sk-toggleable\"><input class=\"sk-toggleable__control sk-hidden--visually\" id=\"sk-estimator-id-9\" type=\"checkbox\" checked><label for=\"sk-estimator-id-9\" class=\"sk-toggleable__label sk-toggleable__label-arrow\">MLPClassifier</label><div class=\"sk-toggleable__content\"><pre>MLPClassifier(hidden_layer_sizes=(13,), max_iter=500, solver=&#x27;lbfgs&#x27;)</pre></div></div></div></div></div>"
            ]
          },
          "metadata": {},
          "execution_count": 61
        }
      ]
    },
    {
      "cell_type": "code",
      "source": [
        "# #Predictions\n",
        "# predictions = mlp.predict(X3_test)"
      ],
      "metadata": {
        "id": "e8cI0GqOVryy"
      },
      "execution_count": null,
      "outputs": []
    },
    {
      "cell_type": "code",
      "source": [
        "# #Evaluation\n",
        "# from sklearn.metrics import classification_report,confusion_matrix\n",
        "# print(confusion_matrix(y3_test,predictions))"
      ],
      "metadata": {
        "colab": {
          "base_uri": "https://localhost:8080/"
        },
        "id": "L4aet0hkVxh3",
        "outputId": "64172a93-c10b-435e-a3da-1aa9b7134c3c"
      },
      "execution_count": null,
      "outputs": [
        {
          "output_type": "stream",
          "name": "stdout",
          "text": [
            "[[ 30  89]\n",
            " [ 21 576]]\n"
          ]
        }
      ]
    },
    {
      "cell_type": "code",
      "source": [
        "# print(classification_report(y3_test,predictions))"
      ],
      "metadata": {
        "colab": {
          "base_uri": "https://localhost:8080/"
        },
        "id": "7b5qsM1vV7Do",
        "outputId": "52ce8a69-83db-41b6-84fc-6fb8d6d8d795"
      },
      "execution_count": null,
      "outputs": [
        {
          "output_type": "stream",
          "name": "stdout",
          "text": [
            "              precision    recall  f1-score   support\n",
            "\n",
            "           0       0.59      0.25      0.35       119\n",
            "           1       0.87      0.96      0.91       597\n",
            "\n",
            "    accuracy                           0.85       716\n",
            "   macro avg       0.73      0.61      0.63       716\n",
            "weighted avg       0.82      0.85      0.82       716\n",
            "\n"
          ]
        }
      ]
    }
  ]
}